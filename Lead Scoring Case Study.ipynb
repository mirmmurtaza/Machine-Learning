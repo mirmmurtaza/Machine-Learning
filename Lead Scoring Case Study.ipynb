{
 "cells": [
  {
   "cell_type": "markdown",
   "metadata": {},
   "source": [
    "# Lead Scoring Case study"
   ]
  },
  {
   "cell_type": "code",
   "execution_count": 1,
   "metadata": {},
   "outputs": [],
   "source": [
    "import numpy as np\n",
    "import pandas as pd\n",
    "import matplotlib.pyplot as plt\n",
    "import seaborn as sns\n",
    "\n",
    "import warnings\n",
    "warnings.filterwarnings('ignore')\n",
    "\n",
    "pd.set_option('display.max_columns', None)"
   ]
  },
  {
   "cell_type": "markdown",
   "metadata": {},
   "source": [
    "### *Importing the data*"
   ]
  },
  {
   "cell_type": "code",
   "execution_count": 2,
   "metadata": {},
   "outputs": [],
   "source": [
    "data = pd.read_csv('Leads.csv')"
   ]
  },
  {
   "cell_type": "markdown",
   "metadata": {},
   "source": [
    "*Let's conduct some data analysis.*"
   ]
  },
  {
   "cell_type": "code",
   "execution_count": 3,
   "metadata": {},
   "outputs": [
    {
     "data": {
      "text/html": [
       "<div>\n",
       "<style scoped>\n",
       "    .dataframe tbody tr th:only-of-type {\n",
       "        vertical-align: middle;\n",
       "    }\n",
       "\n",
       "    .dataframe tbody tr th {\n",
       "        vertical-align: top;\n",
       "    }\n",
       "\n",
       "    .dataframe thead th {\n",
       "        text-align: right;\n",
       "    }\n",
       "</style>\n",
       "<table border=\"1\" class=\"dataframe\">\n",
       "  <thead>\n",
       "    <tr style=\"text-align: right;\">\n",
       "      <th></th>\n",
       "      <th>Prospect ID</th>\n",
       "      <th>Lead Number</th>\n",
       "      <th>Lead Origin</th>\n",
       "      <th>Lead Source</th>\n",
       "      <th>Do Not Email</th>\n",
       "      <th>Do Not Call</th>\n",
       "      <th>Converted</th>\n",
       "      <th>TotalVisits</th>\n",
       "      <th>Total Time Spent on Website</th>\n",
       "      <th>Page Views Per Visit</th>\n",
       "      <th>Last Activity</th>\n",
       "      <th>Country</th>\n",
       "      <th>Specialization</th>\n",
       "      <th>How did you hear about X Education</th>\n",
       "      <th>What is your current occupation</th>\n",
       "      <th>What matters most to you in choosing a course</th>\n",
       "      <th>Search</th>\n",
       "      <th>Magazine</th>\n",
       "      <th>Newspaper Article</th>\n",
       "      <th>X Education Forums</th>\n",
       "      <th>Newspaper</th>\n",
       "      <th>Digital Advertisement</th>\n",
       "      <th>Through Recommendations</th>\n",
       "      <th>Receive More Updates About Our Courses</th>\n",
       "      <th>Tags</th>\n",
       "      <th>Lead Quality</th>\n",
       "      <th>Update me on Supply Chain Content</th>\n",
       "      <th>Get updates on DM Content</th>\n",
       "      <th>Lead Profile</th>\n",
       "      <th>City</th>\n",
       "      <th>Asymmetrique Activity Index</th>\n",
       "      <th>Asymmetrique Profile Index</th>\n",
       "      <th>Asymmetrique Activity Score</th>\n",
       "      <th>Asymmetrique Profile Score</th>\n",
       "      <th>I agree to pay the amount through cheque</th>\n",
       "      <th>A free copy of Mastering The Interview</th>\n",
       "      <th>Last Notable Activity</th>\n",
       "    </tr>\n",
       "  </thead>\n",
       "  <tbody>\n",
       "    <tr>\n",
       "      <th>0</th>\n",
       "      <td>7927b2df-8bba-4d29-b9a2-b6e0beafe620</td>\n",
       "      <td>660737</td>\n",
       "      <td>API</td>\n",
       "      <td>Olark Chat</td>\n",
       "      <td>No</td>\n",
       "      <td>No</td>\n",
       "      <td>0</td>\n",
       "      <td>0.0</td>\n",
       "      <td>0</td>\n",
       "      <td>0.0</td>\n",
       "      <td>Page Visited on Website</td>\n",
       "      <td>NaN</td>\n",
       "      <td>Select</td>\n",
       "      <td>Select</td>\n",
       "      <td>Unemployed</td>\n",
       "      <td>Better Career Prospects</td>\n",
       "      <td>No</td>\n",
       "      <td>No</td>\n",
       "      <td>No</td>\n",
       "      <td>No</td>\n",
       "      <td>No</td>\n",
       "      <td>No</td>\n",
       "      <td>No</td>\n",
       "      <td>No</td>\n",
       "      <td>Interested in other courses</td>\n",
       "      <td>Low in Relevance</td>\n",
       "      <td>No</td>\n",
       "      <td>No</td>\n",
       "      <td>Select</td>\n",
       "      <td>Select</td>\n",
       "      <td>02.Medium</td>\n",
       "      <td>02.Medium</td>\n",
       "      <td>15.0</td>\n",
       "      <td>15.0</td>\n",
       "      <td>No</td>\n",
       "      <td>No</td>\n",
       "      <td>Modified</td>\n",
       "    </tr>\n",
       "    <tr>\n",
       "      <th>1</th>\n",
       "      <td>2a272436-5132-4136-86fa-dcc88c88f482</td>\n",
       "      <td>660728</td>\n",
       "      <td>API</td>\n",
       "      <td>Organic Search</td>\n",
       "      <td>No</td>\n",
       "      <td>No</td>\n",
       "      <td>0</td>\n",
       "      <td>5.0</td>\n",
       "      <td>674</td>\n",
       "      <td>2.5</td>\n",
       "      <td>Email Opened</td>\n",
       "      <td>India</td>\n",
       "      <td>Select</td>\n",
       "      <td>Select</td>\n",
       "      <td>Unemployed</td>\n",
       "      <td>Better Career Prospects</td>\n",
       "      <td>No</td>\n",
       "      <td>No</td>\n",
       "      <td>No</td>\n",
       "      <td>No</td>\n",
       "      <td>No</td>\n",
       "      <td>No</td>\n",
       "      <td>No</td>\n",
       "      <td>No</td>\n",
       "      <td>Ringing</td>\n",
       "      <td>NaN</td>\n",
       "      <td>No</td>\n",
       "      <td>No</td>\n",
       "      <td>Select</td>\n",
       "      <td>Select</td>\n",
       "      <td>02.Medium</td>\n",
       "      <td>02.Medium</td>\n",
       "      <td>15.0</td>\n",
       "      <td>15.0</td>\n",
       "      <td>No</td>\n",
       "      <td>No</td>\n",
       "      <td>Email Opened</td>\n",
       "    </tr>\n",
       "    <tr>\n",
       "      <th>2</th>\n",
       "      <td>8cc8c611-a219-4f35-ad23-fdfd2656bd8a</td>\n",
       "      <td>660727</td>\n",
       "      <td>Landing Page Submission</td>\n",
       "      <td>Direct Traffic</td>\n",
       "      <td>No</td>\n",
       "      <td>No</td>\n",
       "      <td>1</td>\n",
       "      <td>2.0</td>\n",
       "      <td>1532</td>\n",
       "      <td>2.0</td>\n",
       "      <td>Email Opened</td>\n",
       "      <td>India</td>\n",
       "      <td>Business Administration</td>\n",
       "      <td>Select</td>\n",
       "      <td>Student</td>\n",
       "      <td>Better Career Prospects</td>\n",
       "      <td>No</td>\n",
       "      <td>No</td>\n",
       "      <td>No</td>\n",
       "      <td>No</td>\n",
       "      <td>No</td>\n",
       "      <td>No</td>\n",
       "      <td>No</td>\n",
       "      <td>No</td>\n",
       "      <td>Will revert after reading the email</td>\n",
       "      <td>Might be</td>\n",
       "      <td>No</td>\n",
       "      <td>No</td>\n",
       "      <td>Potential Lead</td>\n",
       "      <td>Mumbai</td>\n",
       "      <td>02.Medium</td>\n",
       "      <td>01.High</td>\n",
       "      <td>14.0</td>\n",
       "      <td>20.0</td>\n",
       "      <td>No</td>\n",
       "      <td>Yes</td>\n",
       "      <td>Email Opened</td>\n",
       "    </tr>\n",
       "    <tr>\n",
       "      <th>3</th>\n",
       "      <td>0cc2df48-7cf4-4e39-9de9-19797f9b38cc</td>\n",
       "      <td>660719</td>\n",
       "      <td>Landing Page Submission</td>\n",
       "      <td>Direct Traffic</td>\n",
       "      <td>No</td>\n",
       "      <td>No</td>\n",
       "      <td>0</td>\n",
       "      <td>1.0</td>\n",
       "      <td>305</td>\n",
       "      <td>1.0</td>\n",
       "      <td>Unreachable</td>\n",
       "      <td>India</td>\n",
       "      <td>Media and Advertising</td>\n",
       "      <td>Word Of Mouth</td>\n",
       "      <td>Unemployed</td>\n",
       "      <td>Better Career Prospects</td>\n",
       "      <td>No</td>\n",
       "      <td>No</td>\n",
       "      <td>No</td>\n",
       "      <td>No</td>\n",
       "      <td>No</td>\n",
       "      <td>No</td>\n",
       "      <td>No</td>\n",
       "      <td>No</td>\n",
       "      <td>Ringing</td>\n",
       "      <td>Not Sure</td>\n",
       "      <td>No</td>\n",
       "      <td>No</td>\n",
       "      <td>Select</td>\n",
       "      <td>Mumbai</td>\n",
       "      <td>02.Medium</td>\n",
       "      <td>01.High</td>\n",
       "      <td>13.0</td>\n",
       "      <td>17.0</td>\n",
       "      <td>No</td>\n",
       "      <td>No</td>\n",
       "      <td>Modified</td>\n",
       "    </tr>\n",
       "    <tr>\n",
       "      <th>4</th>\n",
       "      <td>3256f628-e534-4826-9d63-4a8b88782852</td>\n",
       "      <td>660681</td>\n",
       "      <td>Landing Page Submission</td>\n",
       "      <td>Google</td>\n",
       "      <td>No</td>\n",
       "      <td>No</td>\n",
       "      <td>1</td>\n",
       "      <td>2.0</td>\n",
       "      <td>1428</td>\n",
       "      <td>1.0</td>\n",
       "      <td>Converted to Lead</td>\n",
       "      <td>India</td>\n",
       "      <td>Select</td>\n",
       "      <td>Other</td>\n",
       "      <td>Unemployed</td>\n",
       "      <td>Better Career Prospects</td>\n",
       "      <td>No</td>\n",
       "      <td>No</td>\n",
       "      <td>No</td>\n",
       "      <td>No</td>\n",
       "      <td>No</td>\n",
       "      <td>No</td>\n",
       "      <td>No</td>\n",
       "      <td>No</td>\n",
       "      <td>Will revert after reading the email</td>\n",
       "      <td>Might be</td>\n",
       "      <td>No</td>\n",
       "      <td>No</td>\n",
       "      <td>Select</td>\n",
       "      <td>Mumbai</td>\n",
       "      <td>02.Medium</td>\n",
       "      <td>01.High</td>\n",
       "      <td>15.0</td>\n",
       "      <td>18.0</td>\n",
       "      <td>No</td>\n",
       "      <td>No</td>\n",
       "      <td>Modified</td>\n",
       "    </tr>\n",
       "  </tbody>\n",
       "</table>\n",
       "</div>"
      ],
      "text/plain": [
       "                            Prospect ID  Lead Number              Lead Origin  \\\n",
       "0  7927b2df-8bba-4d29-b9a2-b6e0beafe620       660737                      API   \n",
       "1  2a272436-5132-4136-86fa-dcc88c88f482       660728                      API   \n",
       "2  8cc8c611-a219-4f35-ad23-fdfd2656bd8a       660727  Landing Page Submission   \n",
       "3  0cc2df48-7cf4-4e39-9de9-19797f9b38cc       660719  Landing Page Submission   \n",
       "4  3256f628-e534-4826-9d63-4a8b88782852       660681  Landing Page Submission   \n",
       "\n",
       "      Lead Source Do Not Email Do Not Call  Converted  TotalVisits  \\\n",
       "0      Olark Chat           No          No          0          0.0   \n",
       "1  Organic Search           No          No          0          5.0   \n",
       "2  Direct Traffic           No          No          1          2.0   \n",
       "3  Direct Traffic           No          No          0          1.0   \n",
       "4          Google           No          No          1          2.0   \n",
       "\n",
       "   Total Time Spent on Website  Page Views Per Visit            Last Activity  \\\n",
       "0                            0                   0.0  Page Visited on Website   \n",
       "1                          674                   2.5             Email Opened   \n",
       "2                         1532                   2.0             Email Opened   \n",
       "3                          305                   1.0              Unreachable   \n",
       "4                         1428                   1.0        Converted to Lead   \n",
       "\n",
       "  Country           Specialization How did you hear about X Education  \\\n",
       "0     NaN                   Select                             Select   \n",
       "1   India                   Select                             Select   \n",
       "2   India  Business Administration                             Select   \n",
       "3   India    Media and Advertising                      Word Of Mouth   \n",
       "4   India                   Select                              Other   \n",
       "\n",
       "  What is your current occupation  \\\n",
       "0                      Unemployed   \n",
       "1                      Unemployed   \n",
       "2                         Student   \n",
       "3                      Unemployed   \n",
       "4                      Unemployed   \n",
       "\n",
       "  What matters most to you in choosing a course Search Magazine  \\\n",
       "0                       Better Career Prospects     No       No   \n",
       "1                       Better Career Prospects     No       No   \n",
       "2                       Better Career Prospects     No       No   \n",
       "3                       Better Career Prospects     No       No   \n",
       "4                       Better Career Prospects     No       No   \n",
       "\n",
       "  Newspaper Article X Education Forums Newspaper Digital Advertisement  \\\n",
       "0                No                 No        No                    No   \n",
       "1                No                 No        No                    No   \n",
       "2                No                 No        No                    No   \n",
       "3                No                 No        No                    No   \n",
       "4                No                 No        No                    No   \n",
       "\n",
       "  Through Recommendations Receive More Updates About Our Courses  \\\n",
       "0                      No                                     No   \n",
       "1                      No                                     No   \n",
       "2                      No                                     No   \n",
       "3                      No                                     No   \n",
       "4                      No                                     No   \n",
       "\n",
       "                                  Tags      Lead Quality  \\\n",
       "0          Interested in other courses  Low in Relevance   \n",
       "1                              Ringing               NaN   \n",
       "2  Will revert after reading the email          Might be   \n",
       "3                              Ringing          Not Sure   \n",
       "4  Will revert after reading the email          Might be   \n",
       "\n",
       "  Update me on Supply Chain Content Get updates on DM Content    Lead Profile  \\\n",
       "0                                No                        No          Select   \n",
       "1                                No                        No          Select   \n",
       "2                                No                        No  Potential Lead   \n",
       "3                                No                        No          Select   \n",
       "4                                No                        No          Select   \n",
       "\n",
       "     City Asymmetrique Activity Index Asymmetrique Profile Index  \\\n",
       "0  Select                   02.Medium                  02.Medium   \n",
       "1  Select                   02.Medium                  02.Medium   \n",
       "2  Mumbai                   02.Medium                    01.High   \n",
       "3  Mumbai                   02.Medium                    01.High   \n",
       "4  Mumbai                   02.Medium                    01.High   \n",
       "\n",
       "   Asymmetrique Activity Score  Asymmetrique Profile Score  \\\n",
       "0                         15.0                        15.0   \n",
       "1                         15.0                        15.0   \n",
       "2                         14.0                        20.0   \n",
       "3                         13.0                        17.0   \n",
       "4                         15.0                        18.0   \n",
       "\n",
       "  I agree to pay the amount through cheque  \\\n",
       "0                                       No   \n",
       "1                                       No   \n",
       "2                                       No   \n",
       "3                                       No   \n",
       "4                                       No   \n",
       "\n",
       "  A free copy of Mastering The Interview Last Notable Activity  \n",
       "0                                     No              Modified  \n",
       "1                                     No          Email Opened  \n",
       "2                                    Yes          Email Opened  \n",
       "3                                     No              Modified  \n",
       "4                                     No              Modified  "
      ]
     },
     "execution_count": 3,
     "metadata": {},
     "output_type": "execute_result"
    }
   ],
   "source": [
    "data.head()"
   ]
  },
  {
   "cell_type": "markdown",
   "metadata": {},
   "source": [
    "- *Data is a combination of both categorical as well as numerical variables.*"
   ]
  },
  {
   "cell_type": "code",
   "execution_count": 4,
   "metadata": {},
   "outputs": [
    {
     "data": {
      "text/plain": [
       "Prospect ID                                       0.00\n",
       "Lead Number                                       0.00\n",
       "Lead Origin                                       0.00\n",
       "Lead Source                                       0.39\n",
       "Do Not Email                                      0.00\n",
       "Do Not Call                                       0.00\n",
       "Converted                                         0.00\n",
       "TotalVisits                                       1.48\n",
       "Total Time Spent on Website                       0.00\n",
       "Page Views Per Visit                              1.48\n",
       "Last Activity                                     1.11\n",
       "Country                                          26.63\n",
       "Specialization                                   15.56\n",
       "How did you hear about X Education               23.89\n",
       "What is your current occupation                  29.11\n",
       "What matters most to you in choosing a course    29.32\n",
       "Search                                            0.00\n",
       "Magazine                                          0.00\n",
       "Newspaper Article                                 0.00\n",
       "X Education Forums                                0.00\n",
       "Newspaper                                         0.00\n",
       "Digital Advertisement                             0.00\n",
       "Through Recommendations                           0.00\n",
       "Receive More Updates About Our Courses            0.00\n",
       "Tags                                             36.29\n",
       "Lead Quality                                     51.59\n",
       "Update me on Supply Chain Content                 0.00\n",
       "Get updates on DM Content                         0.00\n",
       "Lead Profile                                     29.32\n",
       "City                                             15.37\n",
       "Asymmetrique Activity Index                      45.65\n",
       "Asymmetrique Profile Index                       45.65\n",
       "Asymmetrique Activity Score                      45.65\n",
       "Asymmetrique Profile Score                       45.65\n",
       "I agree to pay the amount through cheque          0.00\n",
       "A free copy of Mastering The Interview            0.00\n",
       "Last Notable Activity                             0.00\n",
       "dtype: float64"
      ]
     },
     "execution_count": 4,
     "metadata": {},
     "output_type": "execute_result"
    }
   ],
   "source": [
    "round(100*data.isnull().sum()/data.shape[0], 2)"
   ]
  },
  {
   "cell_type": "markdown",
   "metadata": {},
   "source": [
    "- *There are missing values. Let's drop the columns with more than 30% of missing values.*"
   ]
  },
  {
   "cell_type": "code",
   "execution_count": 5,
   "metadata": {},
   "outputs": [],
   "source": [
    "data.drop(['Tags', 'Lead Quality', 'Asymmetrique Activity Index', 'Asymmetrique Profile Index', 'Asymmetrique Activity Score',\n",
    "           'Asymmetrique Profile Score'], axis=1, inplace=True)"
   ]
  },
  {
   "cell_type": "markdown",
   "metadata": {},
   "source": [
    "*Let's address the variables with very low percentage of missing values.*\n",
    "\n",
    "- *`Lead Source`*\n",
    "- *`TotalVisits`*\n",
    "- *`Page Views Per Visit`*\n",
    "- *`Last Activity`*"
   ]
  },
  {
   "cell_type": "markdown",
   "metadata": {},
   "source": [
    "### *Lead Source*"
   ]
  },
  {
   "cell_type": "code",
   "execution_count": 6,
   "metadata": {},
   "outputs": [
    {
     "data": {
      "text/plain": [
       "Google               2868\n",
       "Direct Traffic       2543\n",
       "Olark Chat           1755\n",
       "Organic Search       1154\n",
       "Reference             534\n",
       "Welingak Website      142\n",
       "Referral Sites        125\n",
       "Facebook               55\n",
       "bing                    6\n",
       "google                  5\n",
       "Click2call              4\n",
       "Social Media            2\n",
       "Press_Release           2\n",
       "Live Chat               2\n",
       "Pay per Click Ads       1\n",
       "NC_EDM                  1\n",
       "youtubechannel          1\n",
       "welearnblog_Home        1\n",
       "testone                 1\n",
       "WeLearn                 1\n",
       "blog                    1\n",
       "Name: Lead Source, dtype: int64"
      ]
     },
     "execution_count": 6,
     "metadata": {},
     "output_type": "execute_result"
    }
   ],
   "source": [
    "data['Lead Source'].value_counts()"
   ]
  },
  {
   "cell_type": "markdown",
   "metadata": {},
   "source": [
    "- *Category `Google` is also spelled as `google`*"
   ]
  },
  {
   "cell_type": "code",
   "execution_count": 7,
   "metadata": {},
   "outputs": [],
   "source": [
    "data['Lead Source'] = data['Lead Source'].str.replace('google', 'Google')"
   ]
  },
  {
   "cell_type": "code",
   "execution_count": 8,
   "metadata": {},
   "outputs": [
    {
     "data": {
      "text/plain": [
       "'Google'"
      ]
     },
     "execution_count": 8,
     "metadata": {},
     "output_type": "execute_result"
    }
   ],
   "source": [
    "data['Lead Source'].mode()[0]"
   ]
  },
  {
   "cell_type": "code",
   "execution_count": 9,
   "metadata": {},
   "outputs": [],
   "source": [
    "data['Lead Source'].fillna(data['Lead Source'].mode()[0], inplace=True)"
   ]
  },
  {
   "cell_type": "markdown",
   "metadata": {},
   "source": [
    "### *TotalVisits*"
   ]
  },
  {
   "cell_type": "code",
   "execution_count": 10,
   "metadata": {},
   "outputs": [
    {
     "data": {
      "text/plain": [
       "3.0"
      ]
     },
     "execution_count": 10,
     "metadata": {},
     "output_type": "execute_result"
    }
   ],
   "source": [
    "data['TotalVisits'].median()"
   ]
  },
  {
   "cell_type": "code",
   "execution_count": 11,
   "metadata": {},
   "outputs": [],
   "source": [
    "data['TotalVisits'].fillna(data['TotalVisits'].median(), inplace=True)"
   ]
  },
  {
   "cell_type": "markdown",
   "metadata": {},
   "source": [
    "### *Page Views Per Visit*"
   ]
  },
  {
   "cell_type": "code",
   "execution_count": 12,
   "metadata": {},
   "outputs": [
    {
     "data": {
      "text/plain": [
       "2.0"
      ]
     },
     "execution_count": 12,
     "metadata": {},
     "output_type": "execute_result"
    }
   ],
   "source": [
    "data['Page Views Per Visit'].median()"
   ]
  },
  {
   "cell_type": "code",
   "execution_count": 13,
   "metadata": {},
   "outputs": [],
   "source": [
    "data['Page Views Per Visit'].fillna(data['Page Views Per Visit'].median(), inplace=True)"
   ]
  },
  {
   "cell_type": "markdown",
   "metadata": {},
   "source": [
    "### *Last Activity*"
   ]
  },
  {
   "cell_type": "code",
   "execution_count": 14,
   "metadata": {},
   "outputs": [
    {
     "data": {
      "text/plain": [
       "Email Opened                    3437\n",
       "SMS Sent                        2745\n",
       "Olark Chat Conversation          973\n",
       "Page Visited on Website          640\n",
       "Converted to Lead                428\n",
       "Email Bounced                    326\n",
       "Email Link Clicked               267\n",
       "Form Submitted on Website        116\n",
       "Unreachable                       93\n",
       "Unsubscribed                      61\n",
       "Had a Phone Conversation          30\n",
       "Approached upfront                 9\n",
       "View in browser link Clicked       6\n",
       "Email Marked Spam                  2\n",
       "Email Received                     2\n",
       "Resubscribed to emails             1\n",
       "Visited Booth in Tradeshow         1\n",
       "Name: Last Activity, dtype: int64"
      ]
     },
     "execution_count": 14,
     "metadata": {},
     "output_type": "execute_result"
    }
   ],
   "source": [
    "data['Last Activity'].value_counts()"
   ]
  },
  {
   "cell_type": "code",
   "execution_count": 15,
   "metadata": {},
   "outputs": [
    {
     "data": {
      "text/plain": [
       "'Email Opened'"
      ]
     },
     "execution_count": 15,
     "metadata": {},
     "output_type": "execute_result"
    }
   ],
   "source": [
    "data['Last Activity'].mode()[0]"
   ]
  },
  {
   "cell_type": "code",
   "execution_count": 16,
   "metadata": {},
   "outputs": [],
   "source": [
    "data['Last Activity'].fillna(data['Last Activity'].mode()[0], inplace=True)"
   ]
  },
  {
   "cell_type": "code",
   "execution_count": 17,
   "metadata": {},
   "outputs": [
    {
     "data": {
      "text/plain": [
       "Prospect ID                                       0.00\n",
       "Lead Number                                       0.00\n",
       "Lead Origin                                       0.00\n",
       "Lead Source                                       0.00\n",
       "Do Not Email                                      0.00\n",
       "Do Not Call                                       0.00\n",
       "Converted                                         0.00\n",
       "TotalVisits                                       0.00\n",
       "Total Time Spent on Website                       0.00\n",
       "Page Views Per Visit                              0.00\n",
       "Last Activity                                     0.00\n",
       "Country                                          26.63\n",
       "Specialization                                   15.56\n",
       "How did you hear about X Education               23.89\n",
       "What is your current occupation                  29.11\n",
       "What matters most to you in choosing a course    29.32\n",
       "Search                                            0.00\n",
       "Magazine                                          0.00\n",
       "Newspaper Article                                 0.00\n",
       "X Education Forums                                0.00\n",
       "Newspaper                                         0.00\n",
       "Digital Advertisement                             0.00\n",
       "Through Recommendations                           0.00\n",
       "Receive More Updates About Our Courses            0.00\n",
       "Update me on Supply Chain Content                 0.00\n",
       "Get updates on DM Content                         0.00\n",
       "Lead Profile                                     29.32\n",
       "City                                             15.37\n",
       "I agree to pay the amount through cheque          0.00\n",
       "A free copy of Mastering The Interview            0.00\n",
       "Last Notable Activity                             0.00\n",
       "dtype: float64"
      ]
     },
     "execution_count": 17,
     "metadata": {},
     "output_type": "execute_result"
    }
   ],
   "source": [
    "round(100*data.isnull().sum()/data.shape[0], 2)"
   ]
  },
  {
   "cell_type": "markdown",
   "metadata": {},
   "source": [
    "### *Let's address these variables now:*\n",
    "- *`Country`*\n",
    "- *`Specialization`*\n",
    "- *`How did you hear about X Education`*\n",
    "- *`What is your current occupation`*\n",
    "- *`What matters most to you in choosing a course`*\n",
    "- *`Lead Profile`*\n",
    "- *`City`*"
   ]
  },
  {
   "cell_type": "markdown",
   "metadata": {},
   "source": [
    "### *Country*"
   ]
  },
  {
   "cell_type": "code",
   "execution_count": 18,
   "metadata": {},
   "outputs": [
    {
     "data": {
      "text/plain": [
       "India                   6492\n",
       "United States             69\n",
       "United Arab Emirates      53\n",
       "Singapore                 24\n",
       "Saudi Arabia              21\n",
       "United Kingdom            15\n",
       "Australia                 13\n",
       "Qatar                     10\n",
       "Bahrain                    7\n",
       "Hong Kong                  7\n",
       "France                     6\n",
       "Oman                       6\n",
       "unknown                    5\n",
       "Kuwait                     4\n",
       "South Africa               4\n",
       "Nigeria                    4\n",
       "Canada                     4\n",
       "Germany                    4\n",
       "Sweden                     3\n",
       "Netherlands                2\n",
       "Uganda                     2\n",
       "Philippines                2\n",
       "Italy                      2\n",
       "China                      2\n",
       "Bangladesh                 2\n",
       "Belgium                    2\n",
       "Asia/Pacific Region        2\n",
       "Ghana                      2\n",
       "Russia                     1\n",
       "Liberia                    1\n",
       "Switzerland                1\n",
       "Sri Lanka                  1\n",
       "Tanzania                   1\n",
       "Indonesia                  1\n",
       "Malaysia                   1\n",
       "Kenya                      1\n",
       "Denmark                    1\n",
       "Vietnam                    1\n",
       "Name: Country, dtype: int64"
      ]
     },
     "execution_count": 18,
     "metadata": {},
     "output_type": "execute_result"
    }
   ],
   "source": [
    "data['Country'].value_counts()"
   ]
  },
  {
   "cell_type": "markdown",
   "metadata": {},
   "source": [
    "- *It can be observed that the count for the category `India` is absolutely dominating.*"
   ]
  },
  {
   "cell_type": "code",
   "execution_count": 19,
   "metadata": {},
   "outputs": [],
   "source": [
    "data.drop('Country', axis=1, inplace=True)"
   ]
  },
  {
   "cell_type": "markdown",
   "metadata": {},
   "source": [
    "### *Specialization*"
   ]
  },
  {
   "cell_type": "code",
   "execution_count": 20,
   "metadata": {},
   "outputs": [
    {
     "data": {
      "text/plain": [
       "Select                               1942\n",
       "Finance Management                    976\n",
       "Human Resource Management             848\n",
       "Marketing Management                  838\n",
       "Operations Management                 503\n",
       "Business Administration               403\n",
       "IT Projects Management                366\n",
       "Supply Chain Management               349\n",
       "Banking, Investment And Insurance     338\n",
       "Media and Advertising                 203\n",
       "Travel and Tourism                    203\n",
       "International Business                178\n",
       "Healthcare Management                 159\n",
       "Hospitality Management                114\n",
       "E-COMMERCE                            112\n",
       "Retail Management                     100\n",
       "Rural and Agribusiness                 73\n",
       "E-Business                             57\n",
       "Services Excellence                    40\n",
       "Name: Specialization, dtype: int64"
      ]
     },
     "execution_count": 20,
     "metadata": {},
     "output_type": "execute_result"
    }
   ],
   "source": [
    "data['Specialization'].value_counts()"
   ]
  },
  {
   "cell_type": "markdown",
   "metadata": {},
   "source": [
    "- *Category `Select` is the mode. But this is not a useful category as it indicates the the visitor has left this item blank only and hence needs to be replaced by NaN.*"
   ]
  },
  {
   "cell_type": "code",
   "execution_count": 21,
   "metadata": {},
   "outputs": [],
   "source": [
    "data['Specialization'].replace('Select', np.NaN, inplace=True)"
   ]
  },
  {
   "cell_type": "markdown",
   "metadata": {},
   "source": [
    "*Let's now check the percentage of missing values in this variable.*"
   ]
  },
  {
   "cell_type": "code",
   "execution_count": 22,
   "metadata": {},
   "outputs": [
    {
     "data": {
      "text/plain": [
       "36.58008658008658"
      ]
     },
     "execution_count": 22,
     "metadata": {},
     "output_type": "execute_result"
    }
   ],
   "source": [
    "100*data['Specialization'].isnull().sum()/data.shape[0]"
   ]
  },
  {
   "cell_type": "markdown",
   "metadata": {},
   "source": [
    "- *Since the missing data percentage is more than 30, let's drop this column as well.*"
   ]
  },
  {
   "cell_type": "code",
   "execution_count": 23,
   "metadata": {},
   "outputs": [],
   "source": [
    "data.drop('Specialization', axis=1, inplace=True)"
   ]
  },
  {
   "cell_type": "markdown",
   "metadata": {},
   "source": [
    "### *How did you hear about X Education*"
   ]
  },
  {
   "cell_type": "code",
   "execution_count": 24,
   "metadata": {},
   "outputs": [
    {
     "data": {
      "text/plain": [
       "Select                   5043\n",
       "Online Search             808\n",
       "Word Of Mouth             348\n",
       "Student of SomeSchool     310\n",
       "Other                     186\n",
       "Multiple Sources          152\n",
       "Advertisements             70\n",
       "Social Media               67\n",
       "Email                      26\n",
       "SMS                        23\n",
       "Name: How did you hear about X Education, dtype: int64"
      ]
     },
     "execution_count": 24,
     "metadata": {},
     "output_type": "execute_result"
    }
   ],
   "source": [
    "data['How did you hear about X Education'].value_counts()"
   ]
  },
  {
   "cell_type": "markdown",
   "metadata": {},
   "source": [
    "- *Here again, category `Select` exists*"
   ]
  },
  {
   "cell_type": "code",
   "execution_count": 25,
   "metadata": {},
   "outputs": [],
   "source": [
    "data['How did you hear about X Education'].replace('Select', np.NaN, inplace=True)"
   ]
  },
  {
   "cell_type": "code",
   "execution_count": 26,
   "metadata": {},
   "outputs": [
    {
     "data": {
      "text/plain": [
       "78.46320346320347"
      ]
     },
     "execution_count": 26,
     "metadata": {},
     "output_type": "execute_result"
    }
   ],
   "source": [
    "100*data['How did you hear about X Education'].isnull().sum()/data.shape[0]"
   ]
  },
  {
   "cell_type": "code",
   "execution_count": 27,
   "metadata": {},
   "outputs": [],
   "source": [
    "data.drop('How did you hear about X Education', axis=1, inplace=True)"
   ]
  },
  {
   "cell_type": "markdown",
   "metadata": {},
   "source": [
    "### *What is your current occupation*"
   ]
  },
  {
   "cell_type": "code",
   "execution_count": 28,
   "metadata": {},
   "outputs": [
    {
     "data": {
      "text/plain": [
       "Unemployed              5600\n",
       "Working Professional     706\n",
       "Student                  210\n",
       "Other                     16\n",
       "Housewife                 10\n",
       "Businessman                8\n",
       "Name: What is your current occupation, dtype: int64"
      ]
     },
     "execution_count": 28,
     "metadata": {},
     "output_type": "execute_result"
    }
   ],
   "source": [
    "data['What is your current occupation'].value_counts()"
   ]
  },
  {
   "cell_type": "code",
   "execution_count": 29,
   "metadata": {},
   "outputs": [],
   "source": [
    "data.drop('What is your current occupation', axis=1, inplace=True)"
   ]
  },
  {
   "cell_type": "markdown",
   "metadata": {},
   "source": [
    "### *What matters most to you in choosing a course*"
   ]
  },
  {
   "cell_type": "code",
   "execution_count": 30,
   "metadata": {},
   "outputs": [
    {
     "data": {
      "text/plain": [
       "Better Career Prospects      6528\n",
       "Flexibility & Convenience       2\n",
       "Other                           1\n",
       "Name: What matters most to you in choosing a course, dtype: int64"
      ]
     },
     "execution_count": 30,
     "metadata": {},
     "output_type": "execute_result"
    }
   ],
   "source": [
    "data['What matters most to you in choosing a course'].value_counts()"
   ]
  },
  {
   "cell_type": "markdown",
   "metadata": {},
   "source": [
    "- *Here again, we can witness that one category is absolutely dominant.*"
   ]
  },
  {
   "cell_type": "code",
   "execution_count": 31,
   "metadata": {},
   "outputs": [],
   "source": [
    "data.drop('What matters most to you in choosing a course', axis=1, inplace=True)"
   ]
  },
  {
   "cell_type": "markdown",
   "metadata": {},
   "source": [
    "### *Lead Profile*"
   ]
  },
  {
   "cell_type": "code",
   "execution_count": 32,
   "metadata": {},
   "outputs": [
    {
     "data": {
      "text/plain": [
       "Select                         4146\n",
       "Potential Lead                 1613\n",
       "Other Leads                     487\n",
       "Student of SomeSchool           241\n",
       "Lateral Student                  24\n",
       "Dual Specialization Student      20\n",
       "Name: Lead Profile, dtype: int64"
      ]
     },
     "execution_count": 32,
     "metadata": {},
     "output_type": "execute_result"
    }
   ],
   "source": [
    "data['Lead Profile'].value_counts()"
   ]
  },
  {
   "cell_type": "code",
   "execution_count": 33,
   "metadata": {},
   "outputs": [],
   "source": [
    "data['Lead Profile'].replace('Select', np.NaN, inplace=True)"
   ]
  },
  {
   "cell_type": "code",
   "execution_count": 34,
   "metadata": {},
   "outputs": [
    {
     "data": {
      "text/plain": [
       "74.18831168831169"
      ]
     },
     "execution_count": 34,
     "metadata": {},
     "output_type": "execute_result"
    }
   ],
   "source": [
    "100*data['Lead Profile'].isnull().sum()/data.shape[0]"
   ]
  },
  {
   "cell_type": "code",
   "execution_count": 35,
   "metadata": {},
   "outputs": [],
   "source": [
    "data.drop('Lead Profile', axis=1, inplace=True)"
   ]
  },
  {
   "cell_type": "markdown",
   "metadata": {},
   "source": [
    "### *City*"
   ]
  },
  {
   "cell_type": "code",
   "execution_count": 36,
   "metadata": {},
   "outputs": [
    {
     "data": {
      "text/plain": [
       "Mumbai                         3222\n",
       "Select                         2249\n",
       "Thane & Outskirts               752\n",
       "Other Cities                    686\n",
       "Other Cities of Maharashtra     457\n",
       "Other Metro Cities              380\n",
       "Tier II Cities                   74\n",
       "Name: City, dtype: int64"
      ]
     },
     "execution_count": 36,
     "metadata": {},
     "output_type": "execute_result"
    }
   ],
   "source": [
    "data['City'].value_counts()"
   ]
  },
  {
   "cell_type": "markdown",
   "metadata": {},
   "source": [
    "- *Here, Let's replace the category `Select` with `Other Cities`*"
   ]
  },
  {
   "cell_type": "code",
   "execution_count": 37,
   "metadata": {},
   "outputs": [],
   "source": [
    "data['City'] = data['City'].replace('Select', 'Other Cities')"
   ]
  },
  {
   "cell_type": "code",
   "execution_count": 38,
   "metadata": {},
   "outputs": [
    {
     "data": {
      "text/plain": [
       "Mumbai                         3222\n",
       "Other Cities                   2935\n",
       "Thane & Outskirts               752\n",
       "Other Cities of Maharashtra     457\n",
       "Other Metro Cities              380\n",
       "Tier II Cities                   74\n",
       "Name: City, dtype: int64"
      ]
     },
     "execution_count": 38,
     "metadata": {},
     "output_type": "execute_result"
    }
   ],
   "source": [
    "data['City'].value_counts()"
   ]
  },
  {
   "cell_type": "code",
   "execution_count": 39,
   "metadata": {},
   "outputs": [],
   "source": [
    "data['City'].fillna(data['City'].mode()[0], inplace=True)"
   ]
  },
  {
   "cell_type": "code",
   "execution_count": 40,
   "metadata": {},
   "outputs": [
    {
     "data": {
      "text/plain": [
       "(9240, 25)"
      ]
     },
     "execution_count": 40,
     "metadata": {},
     "output_type": "execute_result"
    }
   ],
   "source": [
    "data.shape"
   ]
  },
  {
   "cell_type": "code",
   "execution_count": 41,
   "metadata": {},
   "outputs": [
    {
     "data": {
      "text/html": [
       "<div>\n",
       "<style scoped>\n",
       "    .dataframe tbody tr th:only-of-type {\n",
       "        vertical-align: middle;\n",
       "    }\n",
       "\n",
       "    .dataframe tbody tr th {\n",
       "        vertical-align: top;\n",
       "    }\n",
       "\n",
       "    .dataframe thead th {\n",
       "        text-align: right;\n",
       "    }\n",
       "</style>\n",
       "<table border=\"1\" class=\"dataframe\">\n",
       "  <thead>\n",
       "    <tr style=\"text-align: right;\">\n",
       "      <th></th>\n",
       "      <th>Prospect ID</th>\n",
       "      <th>Lead Number</th>\n",
       "      <th>Lead Origin</th>\n",
       "      <th>Lead Source</th>\n",
       "      <th>Do Not Email</th>\n",
       "      <th>Do Not Call</th>\n",
       "      <th>Converted</th>\n",
       "      <th>TotalVisits</th>\n",
       "      <th>Total Time Spent on Website</th>\n",
       "      <th>Page Views Per Visit</th>\n",
       "      <th>Last Activity</th>\n",
       "      <th>Search</th>\n",
       "      <th>Magazine</th>\n",
       "      <th>Newspaper Article</th>\n",
       "      <th>X Education Forums</th>\n",
       "      <th>Newspaper</th>\n",
       "      <th>Digital Advertisement</th>\n",
       "      <th>Through Recommendations</th>\n",
       "      <th>Receive More Updates About Our Courses</th>\n",
       "      <th>Update me on Supply Chain Content</th>\n",
       "      <th>Get updates on DM Content</th>\n",
       "      <th>City</th>\n",
       "      <th>I agree to pay the amount through cheque</th>\n",
       "      <th>A free copy of Mastering The Interview</th>\n",
       "      <th>Last Notable Activity</th>\n",
       "    </tr>\n",
       "  </thead>\n",
       "  <tbody>\n",
       "    <tr>\n",
       "      <th>0</th>\n",
       "      <td>7927b2df-8bba-4d29-b9a2-b6e0beafe620</td>\n",
       "      <td>660737</td>\n",
       "      <td>API</td>\n",
       "      <td>Olark Chat</td>\n",
       "      <td>No</td>\n",
       "      <td>No</td>\n",
       "      <td>0</td>\n",
       "      <td>0.0</td>\n",
       "      <td>0</td>\n",
       "      <td>0.0</td>\n",
       "      <td>Page Visited on Website</td>\n",
       "      <td>No</td>\n",
       "      <td>No</td>\n",
       "      <td>No</td>\n",
       "      <td>No</td>\n",
       "      <td>No</td>\n",
       "      <td>No</td>\n",
       "      <td>No</td>\n",
       "      <td>No</td>\n",
       "      <td>No</td>\n",
       "      <td>No</td>\n",
       "      <td>Other Cities</td>\n",
       "      <td>No</td>\n",
       "      <td>No</td>\n",
       "      <td>Modified</td>\n",
       "    </tr>\n",
       "    <tr>\n",
       "      <th>1</th>\n",
       "      <td>2a272436-5132-4136-86fa-dcc88c88f482</td>\n",
       "      <td>660728</td>\n",
       "      <td>API</td>\n",
       "      <td>Organic Search</td>\n",
       "      <td>No</td>\n",
       "      <td>No</td>\n",
       "      <td>0</td>\n",
       "      <td>5.0</td>\n",
       "      <td>674</td>\n",
       "      <td>2.5</td>\n",
       "      <td>Email Opened</td>\n",
       "      <td>No</td>\n",
       "      <td>No</td>\n",
       "      <td>No</td>\n",
       "      <td>No</td>\n",
       "      <td>No</td>\n",
       "      <td>No</td>\n",
       "      <td>No</td>\n",
       "      <td>No</td>\n",
       "      <td>No</td>\n",
       "      <td>No</td>\n",
       "      <td>Other Cities</td>\n",
       "      <td>No</td>\n",
       "      <td>No</td>\n",
       "      <td>Email Opened</td>\n",
       "    </tr>\n",
       "    <tr>\n",
       "      <th>2</th>\n",
       "      <td>8cc8c611-a219-4f35-ad23-fdfd2656bd8a</td>\n",
       "      <td>660727</td>\n",
       "      <td>Landing Page Submission</td>\n",
       "      <td>Direct Traffic</td>\n",
       "      <td>No</td>\n",
       "      <td>No</td>\n",
       "      <td>1</td>\n",
       "      <td>2.0</td>\n",
       "      <td>1532</td>\n",
       "      <td>2.0</td>\n",
       "      <td>Email Opened</td>\n",
       "      <td>No</td>\n",
       "      <td>No</td>\n",
       "      <td>No</td>\n",
       "      <td>No</td>\n",
       "      <td>No</td>\n",
       "      <td>No</td>\n",
       "      <td>No</td>\n",
       "      <td>No</td>\n",
       "      <td>No</td>\n",
       "      <td>No</td>\n",
       "      <td>Mumbai</td>\n",
       "      <td>No</td>\n",
       "      <td>Yes</td>\n",
       "      <td>Email Opened</td>\n",
       "    </tr>\n",
       "    <tr>\n",
       "      <th>3</th>\n",
       "      <td>0cc2df48-7cf4-4e39-9de9-19797f9b38cc</td>\n",
       "      <td>660719</td>\n",
       "      <td>Landing Page Submission</td>\n",
       "      <td>Direct Traffic</td>\n",
       "      <td>No</td>\n",
       "      <td>No</td>\n",
       "      <td>0</td>\n",
       "      <td>1.0</td>\n",
       "      <td>305</td>\n",
       "      <td>1.0</td>\n",
       "      <td>Unreachable</td>\n",
       "      <td>No</td>\n",
       "      <td>No</td>\n",
       "      <td>No</td>\n",
       "      <td>No</td>\n",
       "      <td>No</td>\n",
       "      <td>No</td>\n",
       "      <td>No</td>\n",
       "      <td>No</td>\n",
       "      <td>No</td>\n",
       "      <td>No</td>\n",
       "      <td>Mumbai</td>\n",
       "      <td>No</td>\n",
       "      <td>No</td>\n",
       "      <td>Modified</td>\n",
       "    </tr>\n",
       "    <tr>\n",
       "      <th>4</th>\n",
       "      <td>3256f628-e534-4826-9d63-4a8b88782852</td>\n",
       "      <td>660681</td>\n",
       "      <td>Landing Page Submission</td>\n",
       "      <td>Google</td>\n",
       "      <td>No</td>\n",
       "      <td>No</td>\n",
       "      <td>1</td>\n",
       "      <td>2.0</td>\n",
       "      <td>1428</td>\n",
       "      <td>1.0</td>\n",
       "      <td>Converted to Lead</td>\n",
       "      <td>No</td>\n",
       "      <td>No</td>\n",
       "      <td>No</td>\n",
       "      <td>No</td>\n",
       "      <td>No</td>\n",
       "      <td>No</td>\n",
       "      <td>No</td>\n",
       "      <td>No</td>\n",
       "      <td>No</td>\n",
       "      <td>No</td>\n",
       "      <td>Mumbai</td>\n",
       "      <td>No</td>\n",
       "      <td>No</td>\n",
       "      <td>Modified</td>\n",
       "    </tr>\n",
       "  </tbody>\n",
       "</table>\n",
       "</div>"
      ],
      "text/plain": [
       "                            Prospect ID  Lead Number              Lead Origin  \\\n",
       "0  7927b2df-8bba-4d29-b9a2-b6e0beafe620       660737                      API   \n",
       "1  2a272436-5132-4136-86fa-dcc88c88f482       660728                      API   \n",
       "2  8cc8c611-a219-4f35-ad23-fdfd2656bd8a       660727  Landing Page Submission   \n",
       "3  0cc2df48-7cf4-4e39-9de9-19797f9b38cc       660719  Landing Page Submission   \n",
       "4  3256f628-e534-4826-9d63-4a8b88782852       660681  Landing Page Submission   \n",
       "\n",
       "      Lead Source Do Not Email Do Not Call  Converted  TotalVisits  \\\n",
       "0      Olark Chat           No          No          0          0.0   \n",
       "1  Organic Search           No          No          0          5.0   \n",
       "2  Direct Traffic           No          No          1          2.0   \n",
       "3  Direct Traffic           No          No          0          1.0   \n",
       "4          Google           No          No          1          2.0   \n",
       "\n",
       "   Total Time Spent on Website  Page Views Per Visit            Last Activity  \\\n",
       "0                            0                   0.0  Page Visited on Website   \n",
       "1                          674                   2.5             Email Opened   \n",
       "2                         1532                   2.0             Email Opened   \n",
       "3                          305                   1.0              Unreachable   \n",
       "4                         1428                   1.0        Converted to Lead   \n",
       "\n",
       "  Search Magazine Newspaper Article X Education Forums Newspaper  \\\n",
       "0     No       No                No                 No        No   \n",
       "1     No       No                No                 No        No   \n",
       "2     No       No                No                 No        No   \n",
       "3     No       No                No                 No        No   \n",
       "4     No       No                No                 No        No   \n",
       "\n",
       "  Digital Advertisement Through Recommendations  \\\n",
       "0                    No                      No   \n",
       "1                    No                      No   \n",
       "2                    No                      No   \n",
       "3                    No                      No   \n",
       "4                    No                      No   \n",
       "\n",
       "  Receive More Updates About Our Courses Update me on Supply Chain Content  \\\n",
       "0                                     No                                No   \n",
       "1                                     No                                No   \n",
       "2                                     No                                No   \n",
       "3                                     No                                No   \n",
       "4                                     No                                No   \n",
       "\n",
       "  Get updates on DM Content          City  \\\n",
       "0                        No  Other Cities   \n",
       "1                        No  Other Cities   \n",
       "2                        No        Mumbai   \n",
       "3                        No        Mumbai   \n",
       "4                        No        Mumbai   \n",
       "\n",
       "  I agree to pay the amount through cheque  \\\n",
       "0                                       No   \n",
       "1                                       No   \n",
       "2                                       No   \n",
       "3                                       No   \n",
       "4                                       No   \n",
       "\n",
       "  A free copy of Mastering The Interview Last Notable Activity  \n",
       "0                                     No              Modified  \n",
       "1                                     No          Email Opened  \n",
       "2                                    Yes          Email Opened  \n",
       "3                                     No              Modified  \n",
       "4                                     No              Modified  "
      ]
     },
     "execution_count": 41,
     "metadata": {},
     "output_type": "execute_result"
    }
   ],
   "source": [
    "data.head()"
   ]
  },
  {
   "cell_type": "markdown",
   "metadata": {},
   "source": [
    "### *Let's now use some visualizations in order to gather some insights.*"
   ]
  },
  {
   "cell_type": "markdown",
   "metadata": {},
   "source": [
    "- ##### *Categorical Columns*"
   ]
  },
  {
   "cell_type": "code",
   "execution_count": 42,
   "metadata": {},
   "outputs": [
    {
     "data": {
      "text/plain": [
       "Index(['Prospect ID', 'Lead Origin', 'Lead Source', 'Do Not Email',\n",
       "       'Do Not Call', 'Last Activity', 'Search', 'Magazine',\n",
       "       'Newspaper Article', 'X Education Forums', 'Newspaper',\n",
       "       'Digital Advertisement', 'Through Recommendations',\n",
       "       'Receive More Updates About Our Courses',\n",
       "       'Update me on Supply Chain Content', 'Get updates on DM Content',\n",
       "       'City', 'I agree to pay the amount through cheque',\n",
       "       'A free copy of Mastering The Interview', 'Last Notable Activity'],\n",
       "      dtype='object')"
      ]
     },
     "execution_count": 42,
     "metadata": {},
     "output_type": "execute_result"
    }
   ],
   "source": [
    "data.select_dtypes(include='object').columns[:]"
   ]
  },
  {
   "cell_type": "code",
   "execution_count": 43,
   "metadata": {},
   "outputs": [
    {
     "data": {
      "image/png": "[encoded data removed]",
      "text/plain": [
       "<Figure size 432x288 with 1 Axes>"
      ]
     },
     "metadata": {
      "needs_background": "light"
     },
     "output_type": "display_data"
    },
    {
     "data": {
      "image/png": "[encoded data removed]",
      "text/plain": [
       "<Figure size 432x288 with 1 Axes>"
      ]
     },
     "metadata": {
      "needs_background": "light"
     },
     "output_type": "display_data"
    },
    {
     "data": {
      "image/png": "[encoded data removed]",
      "text/plain": [
       "<Figure size 432x288 with 1 Axes>"
      ]
     },
     "metadata": {
      "needs_background": "light"
     },
     "output_type": "display_data"
    },
    {
     "data": {
      "image/png": "[encoded data removed]",
      "text/plain": [
       "<Figure size 432x288 with 1 Axes>"
      ]
     },
     "metadata": {
      "needs_background": "light"
     },
     "output_type": "display_data"
    },
    {
     "data": {
      "image/png": "[encoded data removed]",
      "text/plain": [
       "<Figure size 432x288 with 1 Axes>"
      ]
     },
     "metadata": {
      "needs_background": "light"
     },
     "output_type": "display_data"
    },
    {
     "data": {
      "image/png": "[encoded data removed]",
      "text/plain": [
       "<Figure size 432x288 with 1 Axes>"
      ]
     },
     "metadata": {
      "needs_background": "light"
     },
     "output_type": "display_data"
    },
    {
     "data": {
      "image/png": "[encoded data removed]",
      "text/plain": [
       "<Figure size 432x288 with 1 Axes>"
      ]
     },
     "metadata": {
      "needs_background": "light"
     },
     "output_type": "display_data"
    },
    {
     "data": {
      "image/png": "[encoded data removed]",
      "text/plain": [
       "<Figure size 432x288 with 1 Axes>"
      ]
     },
     "metadata": {
      "needs_background": "light"
     },
     "output_type": "display_data"
    },
    {
     "data": {
      "image/png": "[encoded data removed]",
      "text/plain": [
       "<Figure size 432x288 with 1 Axes>"
      ]
     },
     "metadata": {
      "needs_background": "light"
     },
     "output_type": "display_data"
    },
    {
     "data": {
      "image/png": "[encoded data removed]",
      "text/plain": [
       "<Figure size 432x288 with 1 Axes>"
      ]
     },
     "metadata": {
      "needs_background": "light"
     },
     "output_type": "display_data"
    },
    {
     "data": {
      "image/png": "[encoded data removed]",
      "text/plain": [
       "<Figure size 432x288 with 1 Axes>"
      ]
     },
     "metadata": {
      "needs_background": "light"
     },
     "output_type": "display_data"
    },
    {
     "data": {
      "image/png": "[encoded data removed]",
      "text/plain": [
       "<Figure size 432x288 with 1 Axes>"
      ]
     },
     "metadata": {
      "needs_background": "light"
     },
     "output_type": "display_data"
    },
    {
     "data": {
      "image/png": "[encoded data removed]",
      "text/plain": [
       "<Figure size 432x288 with 1 Axes>"
      ]
     },
     "metadata": {
      "needs_background": "light"
     },
     "output_type": "display_data"
    },
    {
     "data": {
      "image/png": "[encoded data removed]",
      "text/plain": [
       "<Figure size 432x288 with 1 Axes>"
      ]
     },
     "metadata": {
      "needs_background": "light"
     },
     "output_type": "display_data"
    },
    {
     "data": {
      "image/png": "[encoded data removed]",
      "text/plain": [
       "<Figure size 432x288 with 1 Axes>"
      ]
     },
     "metadata": {
      "needs_background": "light"
     },
     "output_type": "display_data"
    },
    {
     "data": {
      "image/png": "[encoded data removed]",
      "text/plain": [
       "<Figure size 432x288 with 1 Axes>"
      ]
     },
     "metadata": {
      "needs_background": "light"
     },
     "output_type": "display_data"
    },
    {
     "data": {
      "image/png": "[encoded data removed]",
      "text/plain": [
       "<Figure size 432x288 with 1 Axes>"
      ]
     },
     "metadata": {
      "needs_background": "light"
     },
     "output_type": "display_data"
    },
    {
     "data": {
      "image/png": "[encoded data removed]",
      "text/plain": [
       "<Figure size 432x288 with 1 Axes>"
      ]
     },
     "metadata": {
      "needs_background": "light"
     },
     "output_type": "display_data"
    },
    {
     "data": {
      "image/png": "[encoded data removed]",
      "text/plain": [
       "<Figure size 432x288 with 1 Axes>"
      ]
     },
     "metadata": {
      "needs_background": "light"
     },
     "output_type": "display_data"
    }
   ],
   "source": [
    "for i in data.select_dtypes(include='object').columns[1:]:\n",
    "    sns.countplot(data[i], order=data[i].value_counts().index)\n",
    "    plt.xticks(rotation=90)\n",
    "    plt.show()"
   ]
  },
  {
   "cell_type": "markdown",
   "metadata": {},
   "source": [
    "## *Some Observations*\n",
    "- *`Do Not Call`, `Search`, `Newspaper Article`, `X Education Forums`, `Newspaper`, `Digital Advertisement`, `Through Recommendations` has the category `No` in a very dominant manner.*\n",
    "- *`Magazine`, `Receive More Updates About Our Courses`, `Update me on Supply Chain Content`, `Get updates on DM Content`, `I agree to pay the amount through cheque` have only a single category.*\n",
    "- *`Last Activity` and `Last Notable Activity` seem to be similar. Let's drop `Last Activity`.*"
   ]
  },
  {
   "cell_type": "markdown",
   "metadata": {},
   "source": [
    "*Let's drop the extremely skewed categorical columns*"
   ]
  },
  {
   "cell_type": "code",
   "execution_count": 44,
   "metadata": {},
   "outputs": [],
   "source": [
    "data.drop(['Do Not Call', 'Search', 'Newspaper Article', 'X Education Forums', 'Newspaper', 'Digital Advertisement', \n",
    "           'Through Recommendations'], axis=1, inplace=True)"
   ]
  },
  {
   "cell_type": "markdown",
   "metadata": {},
   "source": [
    "*Let's drop the single category column*"
   ]
  },
  {
   "cell_type": "code",
   "execution_count": 45,
   "metadata": {},
   "outputs": [],
   "source": [
    "data.drop(['Magazine','Receive More Updates About Our Courses', 'Update me on Supply Chain Content',\n",
    "           'Get updates on DM Content', 'I agree to pay the amount through cheque'], axis=1, inplace=True)"
   ]
  },
  {
   "cell_type": "code",
   "execution_count": 46,
   "metadata": {},
   "outputs": [],
   "source": [
    "data.drop('Last Activity', axis=1, inplace=True)"
   ]
  },
  {
   "cell_type": "markdown",
   "metadata": {},
   "source": [
    "### *Let's now visualize the numerical columns*"
   ]
  },
  {
   "cell_type": "code",
   "execution_count": 47,
   "metadata": {},
   "outputs": [
    {
     "data": {
      "image/png": "[encoded data removed]",
      "text/plain": [
       "<Figure size 432x288 with 2 Axes>"
      ]
     },
     "metadata": {
      "needs_background": "light"
     },
     "output_type": "display_data"
    }
   ],
   "source": [
    "sns.heatmap(data.select_dtypes(exclude='object').corr(), annot=True)\n",
    "plt.show()"
   ]
  },
  {
   "cell_type": "code",
   "execution_count": 48,
   "metadata": {},
   "outputs": [
    {
     "data": {
      "text/plain": [
       "Index(['Lead Number', 'Converted', 'TotalVisits',\n",
       "       'Total Time Spent on Website', 'Page Views Per Visit'],\n",
       "      dtype='object')"
      ]
     },
     "execution_count": 48,
     "metadata": {},
     "output_type": "execute_result"
    }
   ],
   "source": [
    "data.select_dtypes(exclude='object').columns"
   ]
  },
  {
   "cell_type": "code",
   "execution_count": 49,
   "metadata": {},
   "outputs": [
    {
     "data": {
      "image/png": "[encoded data removed]",
      "text/plain": [
       "<Figure size 432x288 with 1 Axes>"
      ]
     },
     "metadata": {
      "needs_background": "light"
     },
     "output_type": "display_data"
    }
   ],
   "source": [
    "sns.countplot(data['Converted'])\n",
    "plt.show()"
   ]
  },
  {
   "cell_type": "markdown",
   "metadata": {},
   "source": [
    "- *Category 0 is more than Category 1. But the imbalnce is not very high.*"
   ]
  },
  {
   "cell_type": "code",
   "execution_count": 50,
   "metadata": {},
   "outputs": [
    {
     "data": {
      "image/png": "[encoded data removed]",
      "text/plain": [
       "<Figure size 432x288 with 1 Axes>"
      ]
     },
     "metadata": {
      "needs_background": "light"
     },
     "output_type": "display_data"
    },
    {
     "data": {
      "image/png": "[encoded data removed]",
      "text/plain": [
       "<Figure size 432x288 with 1 Axes>"
      ]
     },
     "metadata": {
      "needs_background": "light"
     },
     "output_type": "display_data"
    },
    {
     "data": {
      "image/png": "[encoded data removed]",
      "text/plain": [
       "<Figure size 432x288 with 1 Axes>"
      ]
     },
     "metadata": {
      "needs_background": "light"
     },
     "output_type": "display_data"
    }
   ],
   "source": [
    "for i in ['TotalVisits', 'Total Time Spent on Website', 'Page Views Per Visit']:\n",
    "    sns.boxplot(y = data[i])\n",
    "    plt.show()"
   ]
  },
  {
   "cell_type": "markdown",
   "metadata": {},
   "source": [
    "- *Many number of outliers in case of `TotalVisits` and `Page View Per Visit`*"
   ]
  },
  {
   "cell_type": "code",
   "execution_count": 51,
   "metadata": {},
   "outputs": [
    {
     "data": {
      "text/plain": [
       "count    9240.000000\n",
       "mean        3.438636\n",
       "std         4.819024\n",
       "min         0.000000\n",
       "0%          0.000000\n",
       "1%          0.000000\n",
       "5%          0.000000\n",
       "10%         0.000000\n",
       "25%         1.000000\n",
       "50%         3.000000\n",
       "75%         5.000000\n",
       "90%         7.000000\n",
       "95%        10.000000\n",
       "96%        10.000000\n",
       "97%        11.000000\n",
       "98%        13.000000\n",
       "99%        17.000000\n",
       "100%      251.000000\n",
       "max       251.000000\n",
       "Name: TotalVisits, dtype: float64"
      ]
     },
     "execution_count": 51,
     "metadata": {},
     "output_type": "execute_result"
    }
   ],
   "source": [
    "data['TotalVisits'].describe(percentiles=[0.0,0.01,0.05,0.1,0.25,0.5,0.75,0.9,0.95,0.96,0.97,0.98,0.99,1])"
   ]
  },
  {
   "cell_type": "markdown",
   "metadata": {},
   "source": [
    "- *Gradual increase specifically upto 98th Percentile. After that, the increase is steep especially after 99th Percentile. Let's cap the values using 98th percentile*"
   ]
  },
  {
   "cell_type": "code",
   "execution_count": 52,
   "metadata": {},
   "outputs": [],
   "source": [
    "data['TotalVisits'] = data['TotalVisits'].apply(lambda x : 13 if x>13 else x)"
   ]
  },
  {
   "cell_type": "code",
   "execution_count": 53,
   "metadata": {},
   "outputs": [
    {
     "data": {
      "text/plain": [
       "count    9240.000000\n",
       "mean        2.357440\n",
       "std         2.145781\n",
       "min         0.000000\n",
       "0%          0.000000\n",
       "1%          0.000000\n",
       "5%          0.000000\n",
       "10%         0.000000\n",
       "25%         1.000000\n",
       "50%         2.000000\n",
       "75%         3.000000\n",
       "90%         5.000000\n",
       "95%         6.000000\n",
       "96%         6.000000\n",
       "97%         7.000000\n",
       "98%         8.000000\n",
       "99%         9.000000\n",
       "100%       55.000000\n",
       "max        55.000000\n",
       "Name: Page Views Per Visit, dtype: float64"
      ]
     },
     "execution_count": 53,
     "metadata": {},
     "output_type": "execute_result"
    }
   ],
   "source": [
    "data['Page Views Per Visit'].describe(percentiles=[0.0,0.01,0.05,0.1,0.25,0.5,0.75,0.9,0.95,0.96,0.97,0.98,0.99,1])"
   ]
  },
  {
   "cell_type": "code",
   "execution_count": 54,
   "metadata": {},
   "outputs": [],
   "source": [
    "data['Page Views Per Visit'] = data['Page Views Per Visit'].apply(lambda x : 9 if x>9 else x)"
   ]
  },
  {
   "cell_type": "code",
   "execution_count": 55,
   "metadata": {},
   "outputs": [
    {
     "data": {
      "image/png": "[encoded data removed]",
      "text/plain": [
       "<Figure size 432x288 with 1 Axes>"
      ]
     },
     "metadata": {
      "needs_background": "light"
     },
     "output_type": "display_data"
    },
    {
     "data": {
      "image/png": "[encoded data removed]",
      "text/plain": [
       "<Figure size 432x288 with 1 Axes>"
      ]
     },
     "metadata": {
      "needs_background": "light"
     },
     "output_type": "display_data"
    }
   ],
   "source": [
    "for i in ['TotalVisits', 'Page Views Per Visit']:\n",
    "    sns.boxplot(y = data[i])\n",
    "    plt.show()"
   ]
  },
  {
   "cell_type": "markdown",
   "metadata": {},
   "source": [
    "- *Still some outliers present but issue resolved to a large extent.*"
   ]
  },
  {
   "cell_type": "code",
   "execution_count": 56,
   "metadata": {},
   "outputs": [
    {
     "data": {
      "text/html": [
       "<div>\n",
       "<style scoped>\n",
       "    .dataframe tbody tr th:only-of-type {\n",
       "        vertical-align: middle;\n",
       "    }\n",
       "\n",
       "    .dataframe tbody tr th {\n",
       "        vertical-align: top;\n",
       "    }\n",
       "\n",
       "    .dataframe thead th {\n",
       "        text-align: right;\n",
       "    }\n",
       "</style>\n",
       "<table border=\"1\" class=\"dataframe\">\n",
       "  <thead>\n",
       "    <tr style=\"text-align: right;\">\n",
       "      <th></th>\n",
       "      <th>Prospect ID</th>\n",
       "      <th>Lead Number</th>\n",
       "      <th>Lead Origin</th>\n",
       "      <th>Lead Source</th>\n",
       "      <th>Do Not Email</th>\n",
       "      <th>Converted</th>\n",
       "      <th>TotalVisits</th>\n",
       "      <th>Total Time Spent on Website</th>\n",
       "      <th>Page Views Per Visit</th>\n",
       "      <th>City</th>\n",
       "      <th>A free copy of Mastering The Interview</th>\n",
       "      <th>Last Notable Activity</th>\n",
       "    </tr>\n",
       "  </thead>\n",
       "  <tbody>\n",
       "    <tr>\n",
       "      <th>0</th>\n",
       "      <td>7927b2df-8bba-4d29-b9a2-b6e0beafe620</td>\n",
       "      <td>660737</td>\n",
       "      <td>API</td>\n",
       "      <td>Olark Chat</td>\n",
       "      <td>No</td>\n",
       "      <td>0</td>\n",
       "      <td>0.0</td>\n",
       "      <td>0</td>\n",
       "      <td>0.0</td>\n",
       "      <td>Other Cities</td>\n",
       "      <td>No</td>\n",
       "      <td>Modified</td>\n",
       "    </tr>\n",
       "    <tr>\n",
       "      <th>1</th>\n",
       "      <td>2a272436-5132-4136-86fa-dcc88c88f482</td>\n",
       "      <td>660728</td>\n",
       "      <td>API</td>\n",
       "      <td>Organic Search</td>\n",
       "      <td>No</td>\n",
       "      <td>0</td>\n",
       "      <td>5.0</td>\n",
       "      <td>674</td>\n",
       "      <td>2.5</td>\n",
       "      <td>Other Cities</td>\n",
       "      <td>No</td>\n",
       "      <td>Email Opened</td>\n",
       "    </tr>\n",
       "    <tr>\n",
       "      <th>2</th>\n",
       "      <td>8cc8c611-a219-4f35-ad23-fdfd2656bd8a</td>\n",
       "      <td>660727</td>\n",
       "      <td>Landing Page Submission</td>\n",
       "      <td>Direct Traffic</td>\n",
       "      <td>No</td>\n",
       "      <td>1</td>\n",
       "      <td>2.0</td>\n",
       "      <td>1532</td>\n",
       "      <td>2.0</td>\n",
       "      <td>Mumbai</td>\n",
       "      <td>Yes</td>\n",
       "      <td>Email Opened</td>\n",
       "    </tr>\n",
       "    <tr>\n",
       "      <th>3</th>\n",
       "      <td>0cc2df48-7cf4-4e39-9de9-19797f9b38cc</td>\n",
       "      <td>660719</td>\n",
       "      <td>Landing Page Submission</td>\n",
       "      <td>Direct Traffic</td>\n",
       "      <td>No</td>\n",
       "      <td>0</td>\n",
       "      <td>1.0</td>\n",
       "      <td>305</td>\n",
       "      <td>1.0</td>\n",
       "      <td>Mumbai</td>\n",
       "      <td>No</td>\n",
       "      <td>Modified</td>\n",
       "    </tr>\n",
       "    <tr>\n",
       "      <th>4</th>\n",
       "      <td>3256f628-e534-4826-9d63-4a8b88782852</td>\n",
       "      <td>660681</td>\n",
       "      <td>Landing Page Submission</td>\n",
       "      <td>Google</td>\n",
       "      <td>No</td>\n",
       "      <td>1</td>\n",
       "      <td>2.0</td>\n",
       "      <td>1428</td>\n",
       "      <td>1.0</td>\n",
       "      <td>Mumbai</td>\n",
       "      <td>No</td>\n",
       "      <td>Modified</td>\n",
       "    </tr>\n",
       "  </tbody>\n",
       "</table>\n",
       "</div>"
      ],
      "text/plain": [
       "                            Prospect ID  Lead Number              Lead Origin  \\\n",
       "0  7927b2df-8bba-4d29-b9a2-b6e0beafe620       660737                      API   \n",
       "1  2a272436-5132-4136-86fa-dcc88c88f482       660728                      API   \n",
       "2  8cc8c611-a219-4f35-ad23-fdfd2656bd8a       660727  Landing Page Submission   \n",
       "3  0cc2df48-7cf4-4e39-9de9-19797f9b38cc       660719  Landing Page Submission   \n",
       "4  3256f628-e534-4826-9d63-4a8b88782852       660681  Landing Page Submission   \n",
       "\n",
       "      Lead Source Do Not Email  Converted  TotalVisits  \\\n",
       "0      Olark Chat           No          0          0.0   \n",
       "1  Organic Search           No          0          5.0   \n",
       "2  Direct Traffic           No          1          2.0   \n",
       "3  Direct Traffic           No          0          1.0   \n",
       "4          Google           No          1          2.0   \n",
       "\n",
       "   Total Time Spent on Website  Page Views Per Visit          City  \\\n",
       "0                            0                   0.0  Other Cities   \n",
       "1                          674                   2.5  Other Cities   \n",
       "2                         1532                   2.0        Mumbai   \n",
       "3                          305                   1.0        Mumbai   \n",
       "4                         1428                   1.0        Mumbai   \n",
       "\n",
       "  A free copy of Mastering The Interview Last Notable Activity  \n",
       "0                                     No              Modified  \n",
       "1                                     No          Email Opened  \n",
       "2                                    Yes          Email Opened  \n",
       "3                                     No              Modified  \n",
       "4                                     No              Modified  "
      ]
     },
     "execution_count": 56,
     "metadata": {},
     "output_type": "execute_result"
    }
   ],
   "source": [
    "data.head()"
   ]
  },
  {
   "cell_type": "markdown",
   "metadata": {},
   "source": [
    "*Let's now convert the categories into numbers*"
   ]
  },
  {
   "cell_type": "code",
   "execution_count": 57,
   "metadata": {},
   "outputs": [
    {
     "data": {
      "text/plain": [
       "Prospect ID                               False\n",
       "Lead Origin                               False\n",
       "Lead Source                               False\n",
       "Do Not Email                               True\n",
       "City                                      False\n",
       "A free copy of Mastering The Interview     True\n",
       "Last Notable Activity                     False\n",
       "dtype: bool"
      ]
     },
     "execution_count": 57,
     "metadata": {},
     "output_type": "execute_result"
    }
   ],
   "source": [
    "data.select_dtypes(include='object').nunique()==2"
   ]
  },
  {
   "cell_type": "code",
   "execution_count": 58,
   "metadata": {},
   "outputs": [],
   "source": [
    "for i in ['Do Not Email', 'A free copy of Mastering The Interview']:\n",
    "    data[i] = data[i].apply(lambda x : 1 if x == 'Yes' else 0)"
   ]
  },
  {
   "cell_type": "markdown",
   "metadata": {},
   "source": [
    "*Let's now address the other categorical variables.*"
   ]
  },
  {
   "cell_type": "code",
   "execution_count": 59,
   "metadata": {},
   "outputs": [
    {
     "data": {
      "text/plain": [
       "Index(['Prospect ID', 'Lead Origin', 'Lead Source', 'City',\n",
       "       'Last Notable Activity'],\n",
       "      dtype='object')"
      ]
     },
     "execution_count": 59,
     "metadata": {},
     "output_type": "execute_result"
    }
   ],
   "source": [
    "data.select_dtypes(include='object').columns[:]"
   ]
  },
  {
   "cell_type": "code",
   "execution_count": 60,
   "metadata": {},
   "outputs": [],
   "source": [
    "dummy_lead_origin = pd.get_dummies(data['Lead Origin'], drop_first=True)\n",
    "data = pd.concat([dummy_lead_origin, data], axis=1)\n",
    "data.drop('Lead Origin', axis=1, inplace=True)"
   ]
  },
  {
   "cell_type": "code",
   "execution_count": 61,
   "metadata": {},
   "outputs": [],
   "source": [
    "dummy_lead_source = pd.get_dummies(data['Lead Source'], drop_first=True)\n",
    "data = pd.concat([dummy_lead_source, data], axis=1)\n",
    "data.drop('Lead Source', axis=1, inplace=True)"
   ]
  },
  {
   "cell_type": "code",
   "execution_count": 62,
   "metadata": {},
   "outputs": [
    {
     "data": {
      "text/html": [
       "<div>\n",
       "<style scoped>\n",
       "    .dataframe tbody tr th:only-of-type {\n",
       "        vertical-align: middle;\n",
       "    }\n",
       "\n",
       "    .dataframe tbody tr th {\n",
       "        vertical-align: top;\n",
       "    }\n",
       "\n",
       "    .dataframe thead th {\n",
       "        text-align: right;\n",
       "    }\n",
       "</style>\n",
       "<table border=\"1\" class=\"dataframe\">\n",
       "  <thead>\n",
       "    <tr style=\"text-align: right;\">\n",
       "      <th></th>\n",
       "      <th>Mumbai</th>\n",
       "      <th>Other Cities</th>\n",
       "      <th>Other Cities of Maharashtra</th>\n",
       "      <th>Other Metro Cities</th>\n",
       "      <th>Thane &amp; Outskirts</th>\n",
       "      <th>Tier II Cities</th>\n",
       "    </tr>\n",
       "  </thead>\n",
       "  <tbody>\n",
       "    <tr>\n",
       "      <th>0</th>\n",
       "      <td>0</td>\n",
       "      <td>1</td>\n",
       "      <td>0</td>\n",
       "      <td>0</td>\n",
       "      <td>0</td>\n",
       "      <td>0</td>\n",
       "    </tr>\n",
       "    <tr>\n",
       "      <th>1</th>\n",
       "      <td>0</td>\n",
       "      <td>1</td>\n",
       "      <td>0</td>\n",
       "      <td>0</td>\n",
       "      <td>0</td>\n",
       "      <td>0</td>\n",
       "    </tr>\n",
       "    <tr>\n",
       "      <th>2</th>\n",
       "      <td>1</td>\n",
       "      <td>0</td>\n",
       "      <td>0</td>\n",
       "      <td>0</td>\n",
       "      <td>0</td>\n",
       "      <td>0</td>\n",
       "    </tr>\n",
       "    <tr>\n",
       "      <th>3</th>\n",
       "      <td>1</td>\n",
       "      <td>0</td>\n",
       "      <td>0</td>\n",
       "      <td>0</td>\n",
       "      <td>0</td>\n",
       "      <td>0</td>\n",
       "    </tr>\n",
       "    <tr>\n",
       "      <th>4</th>\n",
       "      <td>1</td>\n",
       "      <td>0</td>\n",
       "      <td>0</td>\n",
       "      <td>0</td>\n",
       "      <td>0</td>\n",
       "      <td>0</td>\n",
       "    </tr>\n",
       "  </tbody>\n",
       "</table>\n",
       "</div>"
      ],
      "text/plain": [
       "   Mumbai  Other Cities  Other Cities of Maharashtra  Other Metro Cities  \\\n",
       "0       0             1                            0                   0   \n",
       "1       0             1                            0                   0   \n",
       "2       1             0                            0                   0   \n",
       "3       1             0                            0                   0   \n",
       "4       1             0                            0                   0   \n",
       "\n",
       "   Thane & Outskirts  Tier II Cities  \n",
       "0                  0               0  \n",
       "1                  0               0  \n",
       "2                  0               0  \n",
       "3                  0               0  \n",
       "4                  0               0  "
      ]
     },
     "execution_count": 62,
     "metadata": {},
     "output_type": "execute_result"
    }
   ],
   "source": [
    "dummy_city = pd.get_dummies(data['City'])\n",
    "dummy_city.head()"
   ]
  },
  {
   "cell_type": "markdown",
   "metadata": {},
   "source": [
    "*Let's drop `Thane & Outskirts`*"
   ]
  },
  {
   "cell_type": "code",
   "execution_count": 63,
   "metadata": {},
   "outputs": [],
   "source": [
    "dummy_city.drop('Thane & Outskirts', axis=1, inplace=True)\n",
    "data = pd.concat([dummy_city, data], axis=1)\n",
    "data.drop('City', axis=1, inplace=True)"
   ]
  },
  {
   "cell_type": "code",
   "execution_count": 64,
   "metadata": {},
   "outputs": [],
   "source": [
    "dummy_last_notable_activity = pd.get_dummies(data['Last Notable Activity'], drop_first=True)\n",
    "data = pd.concat([dummy_last_notable_activity, data], axis=1)\n",
    "data.drop('Last Notable Activity', axis=1, inplace=True)"
   ]
  },
  {
   "cell_type": "code",
   "execution_count": 65,
   "metadata": {},
   "outputs": [
    {
     "data": {
      "text/html": [
       "<div>\n",
       "<style scoped>\n",
       "    .dataframe tbody tr th:only-of-type {\n",
       "        vertical-align: middle;\n",
       "    }\n",
       "\n",
       "    .dataframe tbody tr th {\n",
       "        vertical-align: top;\n",
       "    }\n",
       "\n",
       "    .dataframe thead th {\n",
       "        text-align: right;\n",
       "    }\n",
       "</style>\n",
       "<table border=\"1\" class=\"dataframe\">\n",
       "  <thead>\n",
       "    <tr style=\"text-align: right;\">\n",
       "      <th></th>\n",
       "      <th>Email Bounced</th>\n",
       "      <th>Email Link Clicked</th>\n",
       "      <th>Email Marked Spam</th>\n",
       "      <th>Email Opened</th>\n",
       "      <th>Email Received</th>\n",
       "      <th>Form Submitted on Website</th>\n",
       "      <th>Had a Phone Conversation</th>\n",
       "      <th>Modified</th>\n",
       "      <th>Olark Chat Conversation</th>\n",
       "      <th>Page Visited on Website</th>\n",
       "      <th>Resubscribed to emails</th>\n",
       "      <th>SMS Sent</th>\n",
       "      <th>Unreachable</th>\n",
       "      <th>Unsubscribed</th>\n",
       "      <th>View in browser link Clicked</th>\n",
       "      <th>Mumbai</th>\n",
       "      <th>Other Cities</th>\n",
       "      <th>Other Cities of Maharashtra</th>\n",
       "      <th>Other Metro Cities</th>\n",
       "      <th>Tier II Cities</th>\n",
       "      <th>Direct Traffic</th>\n",
       "      <th>Facebook</th>\n",
       "      <th>Google</th>\n",
       "      <th>Live Chat</th>\n",
       "      <th>NC_EDM</th>\n",
       "      <th>Olark Chat</th>\n",
       "      <th>Organic Search</th>\n",
       "      <th>Pay per Click Ads</th>\n",
       "      <th>Press_Release</th>\n",
       "      <th>Reference</th>\n",
       "      <th>Referral Sites</th>\n",
       "      <th>Social Media</th>\n",
       "      <th>WeLearn</th>\n",
       "      <th>Welingak Website</th>\n",
       "      <th>bing</th>\n",
       "      <th>blog</th>\n",
       "      <th>testone</th>\n",
       "      <th>welearnblog_Home</th>\n",
       "      <th>youtubechannel</th>\n",
       "      <th>Landing Page Submission</th>\n",
       "      <th>Lead Add Form</th>\n",
       "      <th>Lead Import</th>\n",
       "      <th>Quick Add Form</th>\n",
       "      <th>Prospect ID</th>\n",
       "      <th>Lead Number</th>\n",
       "      <th>Do Not Email</th>\n",
       "      <th>Converted</th>\n",
       "      <th>TotalVisits</th>\n",
       "      <th>Total Time Spent on Website</th>\n",
       "      <th>Page Views Per Visit</th>\n",
       "      <th>A free copy of Mastering The Interview</th>\n",
       "    </tr>\n",
       "  </thead>\n",
       "  <tbody>\n",
       "    <tr>\n",
       "      <th>0</th>\n",
       "      <td>0</td>\n",
       "      <td>0</td>\n",
       "      <td>0</td>\n",
       "      <td>0</td>\n",
       "      <td>0</td>\n",
       "      <td>0</td>\n",
       "      <td>0</td>\n",
       "      <td>1</td>\n",
       "      <td>0</td>\n",
       "      <td>0</td>\n",
       "      <td>0</td>\n",
       "      <td>0</td>\n",
       "      <td>0</td>\n",
       "      <td>0</td>\n",
       "      <td>0</td>\n",
       "      <td>0</td>\n",
       "      <td>1</td>\n",
       "      <td>0</td>\n",
       "      <td>0</td>\n",
       "      <td>0</td>\n",
       "      <td>0</td>\n",
       "      <td>0</td>\n",
       "      <td>0</td>\n",
       "      <td>0</td>\n",
       "      <td>0</td>\n",
       "      <td>1</td>\n",
       "      <td>0</td>\n",
       "      <td>0</td>\n",
       "      <td>0</td>\n",
       "      <td>0</td>\n",
       "      <td>0</td>\n",
       "      <td>0</td>\n",
       "      <td>0</td>\n",
       "      <td>0</td>\n",
       "      <td>0</td>\n",
       "      <td>0</td>\n",
       "      <td>0</td>\n",
       "      <td>0</td>\n",
       "      <td>0</td>\n",
       "      <td>0</td>\n",
       "      <td>0</td>\n",
       "      <td>0</td>\n",
       "      <td>0</td>\n",
       "      <td>7927b2df-8bba-4d29-b9a2-b6e0beafe620</td>\n",
       "      <td>660737</td>\n",
       "      <td>0</td>\n",
       "      <td>0</td>\n",
       "      <td>0.0</td>\n",
       "      <td>0</td>\n",
       "      <td>0.0</td>\n",
       "      <td>0</td>\n",
       "    </tr>\n",
       "    <tr>\n",
       "      <th>1</th>\n",
       "      <td>0</td>\n",
       "      <td>0</td>\n",
       "      <td>0</td>\n",
       "      <td>1</td>\n",
       "      <td>0</td>\n",
       "      <td>0</td>\n",
       "      <td>0</td>\n",
       "      <td>0</td>\n",
       "      <td>0</td>\n",
       "      <td>0</td>\n",
       "      <td>0</td>\n",
       "      <td>0</td>\n",
       "      <td>0</td>\n",
       "      <td>0</td>\n",
       "      <td>0</td>\n",
       "      <td>0</td>\n",
       "      <td>1</td>\n",
       "      <td>0</td>\n",
       "      <td>0</td>\n",
       "      <td>0</td>\n",
       "      <td>0</td>\n",
       "      <td>0</td>\n",
       "      <td>0</td>\n",
       "      <td>0</td>\n",
       "      <td>0</td>\n",
       "      <td>0</td>\n",
       "      <td>1</td>\n",
       "      <td>0</td>\n",
       "      <td>0</td>\n",
       "      <td>0</td>\n",
       "      <td>0</td>\n",
       "      <td>0</td>\n",
       "      <td>0</td>\n",
       "      <td>0</td>\n",
       "      <td>0</td>\n",
       "      <td>0</td>\n",
       "      <td>0</td>\n",
       "      <td>0</td>\n",
       "      <td>0</td>\n",
       "      <td>0</td>\n",
       "      <td>0</td>\n",
       "      <td>0</td>\n",
       "      <td>0</td>\n",
       "      <td>2a272436-5132-4136-86fa-dcc88c88f482</td>\n",
       "      <td>660728</td>\n",
       "      <td>0</td>\n",
       "      <td>0</td>\n",
       "      <td>5.0</td>\n",
       "      <td>674</td>\n",
       "      <td>2.5</td>\n",
       "      <td>0</td>\n",
       "    </tr>\n",
       "    <tr>\n",
       "      <th>2</th>\n",
       "      <td>0</td>\n",
       "      <td>0</td>\n",
       "      <td>0</td>\n",
       "      <td>1</td>\n",
       "      <td>0</td>\n",
       "      <td>0</td>\n",
       "      <td>0</td>\n",
       "      <td>0</td>\n",
       "      <td>0</td>\n",
       "      <td>0</td>\n",
       "      <td>0</td>\n",
       "      <td>0</td>\n",
       "      <td>0</td>\n",
       "      <td>0</td>\n",
       "      <td>0</td>\n",
       "      <td>1</td>\n",
       "      <td>0</td>\n",
       "      <td>0</td>\n",
       "      <td>0</td>\n",
       "      <td>0</td>\n",
       "      <td>1</td>\n",
       "      <td>0</td>\n",
       "      <td>0</td>\n",
       "      <td>0</td>\n",
       "      <td>0</td>\n",
       "      <td>0</td>\n",
       "      <td>0</td>\n",
       "      <td>0</td>\n",
       "      <td>0</td>\n",
       "      <td>0</td>\n",
       "      <td>0</td>\n",
       "      <td>0</td>\n",
       "      <td>0</td>\n",
       "      <td>0</td>\n",
       "      <td>0</td>\n",
       "      <td>0</td>\n",
       "      <td>0</td>\n",
       "      <td>0</td>\n",
       "      <td>0</td>\n",
       "      <td>1</td>\n",
       "      <td>0</td>\n",
       "      <td>0</td>\n",
       "      <td>0</td>\n",
       "      <td>8cc8c611-a219-4f35-ad23-fdfd2656bd8a</td>\n",
       "      <td>660727</td>\n",
       "      <td>0</td>\n",
       "      <td>1</td>\n",
       "      <td>2.0</td>\n",
       "      <td>1532</td>\n",
       "      <td>2.0</td>\n",
       "      <td>1</td>\n",
       "    </tr>\n",
       "  </tbody>\n",
       "</table>\n",
       "</div>"
      ],
      "text/plain": [
       "   Email Bounced  Email Link Clicked  Email Marked Spam  Email Opened  \\\n",
       "0              0                   0                  0             0   \n",
       "1              0                   0                  0             1   \n",
       "2              0                   0                  0             1   \n",
       "\n",
       "   Email Received  Form Submitted on Website  Had a Phone Conversation  \\\n",
       "0               0                          0                         0   \n",
       "1               0                          0                         0   \n",
       "2               0                          0                         0   \n",
       "\n",
       "   Modified  Olark Chat Conversation  Page Visited on Website  \\\n",
       "0         1                        0                        0   \n",
       "1         0                        0                        0   \n",
       "2         0                        0                        0   \n",
       "\n",
       "   Resubscribed to emails  SMS Sent  Unreachable  Unsubscribed  \\\n",
       "0                       0         0            0             0   \n",
       "1                       0         0            0             0   \n",
       "2                       0         0            0             0   \n",
       "\n",
       "   View in browser link Clicked  Mumbai  Other Cities  \\\n",
       "0                             0       0             1   \n",
       "1                             0       0             1   \n",
       "2                             0       1             0   \n",
       "\n",
       "   Other Cities of Maharashtra  Other Metro Cities  Tier II Cities  \\\n",
       "0                            0                   0               0   \n",
       "1                            0                   0               0   \n",
       "2                            0                   0               0   \n",
       "\n",
       "   Direct Traffic  Facebook  Google  Live Chat  NC_EDM  Olark Chat  \\\n",
       "0               0         0       0          0       0           1   \n",
       "1               0         0       0          0       0           0   \n",
       "2               1         0       0          0       0           0   \n",
       "\n",
       "   Organic Search  Pay per Click Ads  Press_Release  Reference  \\\n",
       "0               0                  0              0          0   \n",
       "1               1                  0              0          0   \n",
       "2               0                  0              0          0   \n",
       "\n",
       "   Referral Sites  Social Media  WeLearn  Welingak Website  bing  blog  \\\n",
       "0               0             0        0                 0     0     0   \n",
       "1               0             0        0                 0     0     0   \n",
       "2               0             0        0                 0     0     0   \n",
       "\n",
       "   testone  welearnblog_Home  youtubechannel  Landing Page Submission  \\\n",
       "0        0                 0               0                        0   \n",
       "1        0                 0               0                        0   \n",
       "2        0                 0               0                        1   \n",
       "\n",
       "   Lead Add Form  Lead Import  Quick Add Form  \\\n",
       "0              0            0               0   \n",
       "1              0            0               0   \n",
       "2              0            0               0   \n",
       "\n",
       "                            Prospect ID  Lead Number  Do Not Email  Converted  \\\n",
       "0  7927b2df-8bba-4d29-b9a2-b6e0beafe620       660737             0          0   \n",
       "1  2a272436-5132-4136-86fa-dcc88c88f482       660728             0          0   \n",
       "2  8cc8c611-a219-4f35-ad23-fdfd2656bd8a       660727             0          1   \n",
       "\n",
       "   TotalVisits  Total Time Spent on Website  Page Views Per Visit  \\\n",
       "0          0.0                            0                   0.0   \n",
       "1          5.0                          674                   2.5   \n",
       "2          2.0                         1532                   2.0   \n",
       "\n",
       "   A free copy of Mastering The Interview  \n",
       "0                                       0  \n",
       "1                                       0  \n",
       "2                                       1  "
      ]
     },
     "execution_count": 65,
     "metadata": {},
     "output_type": "execute_result"
    }
   ],
   "source": [
    "data.head(3)"
   ]
  },
  {
   "cell_type": "markdown",
   "metadata": {},
   "source": [
    "- *There are numerical variables on different scale. Let's address them by Normalizing them.*"
   ]
  },
  {
   "cell_type": "code",
   "execution_count": 66,
   "metadata": {},
   "outputs": [],
   "source": [
    "from sklearn.preprocessing import MinMaxScaler\n",
    "scaler = MinMaxScaler()"
   ]
  },
  {
   "cell_type": "code",
   "execution_count": 67,
   "metadata": {},
   "outputs": [
    {
     "data": {
      "text/plain": [
       "['Lead Number',\n",
       " 'TotalVisits',\n",
       " 'Total Time Spent on Website',\n",
       " 'Page Views Per Visit']"
      ]
     },
     "execution_count": 67,
     "metadata": {},
     "output_type": "execute_result"
    }
   ],
   "source": [
    "cols_to_scale = ['Lead Number', 'TotalVisits', 'Total Time Spent on Website', 'Page Views Per Visit']\n",
    "cols_to_scale"
   ]
  },
  {
   "cell_type": "markdown",
   "metadata": {},
   "source": [
    "*Let's now split the data into train and test sets.*"
   ]
  },
  {
   "cell_type": "code",
   "execution_count": 68,
   "metadata": {},
   "outputs": [],
   "source": [
    "from sklearn.model_selection import train_test_split"
   ]
  },
  {
   "cell_type": "code",
   "execution_count": 69,
   "metadata": {},
   "outputs": [],
   "source": [
    "df_train, df_test = train_test_split(data, train_size=0.8, random_state=100)"
   ]
  },
  {
   "cell_type": "code",
   "execution_count": 70,
   "metadata": {},
   "outputs": [],
   "source": [
    "df_train[cols_to_scale] = scaler.fit_transform(df_train[cols_to_scale])"
   ]
  },
  {
   "cell_type": "code",
   "execution_count": 71,
   "metadata": {},
   "outputs": [],
   "source": [
    "df_test[cols_to_scale] = scaler.transform(df_test[cols_to_scale])"
   ]
  },
  {
   "cell_type": "code",
   "execution_count": 72,
   "metadata": {},
   "outputs": [
    {
     "data": {
      "text/html": [
       "<div>\n",
       "<style scoped>\n",
       "    .dataframe tbody tr th:only-of-type {\n",
       "        vertical-align: middle;\n",
       "    }\n",
       "\n",
       "    .dataframe tbody tr th {\n",
       "        vertical-align: top;\n",
       "    }\n",
       "\n",
       "    .dataframe thead th {\n",
       "        text-align: right;\n",
       "    }\n",
       "</style>\n",
       "<table border=\"1\" class=\"dataframe\">\n",
       "  <thead>\n",
       "    <tr style=\"text-align: right;\">\n",
       "      <th></th>\n",
       "      <th>Email Bounced</th>\n",
       "      <th>Email Link Clicked</th>\n",
       "      <th>Email Marked Spam</th>\n",
       "      <th>Email Opened</th>\n",
       "      <th>Email Received</th>\n",
       "      <th>Form Submitted on Website</th>\n",
       "      <th>Had a Phone Conversation</th>\n",
       "      <th>Modified</th>\n",
       "      <th>Olark Chat Conversation</th>\n",
       "      <th>Page Visited on Website</th>\n",
       "      <th>Resubscribed to emails</th>\n",
       "      <th>SMS Sent</th>\n",
       "      <th>Unreachable</th>\n",
       "      <th>Unsubscribed</th>\n",
       "      <th>View in browser link Clicked</th>\n",
       "      <th>Mumbai</th>\n",
       "      <th>Other Cities</th>\n",
       "      <th>Other Cities of Maharashtra</th>\n",
       "      <th>Other Metro Cities</th>\n",
       "      <th>Tier II Cities</th>\n",
       "      <th>Direct Traffic</th>\n",
       "      <th>Facebook</th>\n",
       "      <th>Google</th>\n",
       "      <th>Live Chat</th>\n",
       "      <th>NC_EDM</th>\n",
       "      <th>Olark Chat</th>\n",
       "      <th>Organic Search</th>\n",
       "      <th>Pay per Click Ads</th>\n",
       "      <th>Press_Release</th>\n",
       "      <th>Reference</th>\n",
       "      <th>Referral Sites</th>\n",
       "      <th>Social Media</th>\n",
       "      <th>WeLearn</th>\n",
       "      <th>Welingak Website</th>\n",
       "      <th>bing</th>\n",
       "      <th>blog</th>\n",
       "      <th>testone</th>\n",
       "      <th>welearnblog_Home</th>\n",
       "      <th>youtubechannel</th>\n",
       "      <th>Landing Page Submission</th>\n",
       "      <th>Lead Add Form</th>\n",
       "      <th>Lead Import</th>\n",
       "      <th>Quick Add Form</th>\n",
       "      <th>Prospect ID</th>\n",
       "      <th>Lead Number</th>\n",
       "      <th>Do Not Email</th>\n",
       "      <th>Converted</th>\n",
       "      <th>TotalVisits</th>\n",
       "      <th>Total Time Spent on Website</th>\n",
       "      <th>Page Views Per Visit</th>\n",
       "      <th>A free copy of Mastering The Interview</th>\n",
       "    </tr>\n",
       "  </thead>\n",
       "  <tbody>\n",
       "    <tr>\n",
       "      <th>7263</th>\n",
       "      <td>0</td>\n",
       "      <td>0</td>\n",
       "      <td>0</td>\n",
       "      <td>0</td>\n",
       "      <td>0</td>\n",
       "      <td>0</td>\n",
       "      <td>0</td>\n",
       "      <td>1</td>\n",
       "      <td>0</td>\n",
       "      <td>0</td>\n",
       "      <td>0</td>\n",
       "      <td>0</td>\n",
       "      <td>0</td>\n",
       "      <td>0</td>\n",
       "      <td>0</td>\n",
       "      <td>0</td>\n",
       "      <td>1</td>\n",
       "      <td>0</td>\n",
       "      <td>0</td>\n",
       "      <td>0</td>\n",
       "      <td>0</td>\n",
       "      <td>0</td>\n",
       "      <td>0</td>\n",
       "      <td>0</td>\n",
       "      <td>0</td>\n",
       "      <td>1</td>\n",
       "      <td>0</td>\n",
       "      <td>0</td>\n",
       "      <td>0</td>\n",
       "      <td>0</td>\n",
       "      <td>0</td>\n",
       "      <td>0</td>\n",
       "      <td>0</td>\n",
       "      <td>0</td>\n",
       "      <td>0</td>\n",
       "      <td>0</td>\n",
       "      <td>0</td>\n",
       "      <td>0</td>\n",
       "      <td>0</td>\n",
       "      <td>0</td>\n",
       "      <td>0</td>\n",
       "      <td>0</td>\n",
       "      <td>0</td>\n",
       "      <td>1f2af90a-a1b4-42c2-9a4e-462f0c886d93</td>\n",
       "      <td>0.175718</td>\n",
       "      <td>0</td>\n",
       "      <td>1</td>\n",
       "      <td>0.000000</td>\n",
       "      <td>0.000000</td>\n",
       "      <td>0.000000</td>\n",
       "      <td>0</td>\n",
       "    </tr>\n",
       "    <tr>\n",
       "      <th>6468</th>\n",
       "      <td>0</td>\n",
       "      <td>0</td>\n",
       "      <td>0</td>\n",
       "      <td>0</td>\n",
       "      <td>0</td>\n",
       "      <td>0</td>\n",
       "      <td>0</td>\n",
       "      <td>0</td>\n",
       "      <td>0</td>\n",
       "      <td>0</td>\n",
       "      <td>0</td>\n",
       "      <td>1</td>\n",
       "      <td>0</td>\n",
       "      <td>0</td>\n",
       "      <td>0</td>\n",
       "      <td>1</td>\n",
       "      <td>0</td>\n",
       "      <td>0</td>\n",
       "      <td>0</td>\n",
       "      <td>0</td>\n",
       "      <td>1</td>\n",
       "      <td>0</td>\n",
       "      <td>0</td>\n",
       "      <td>0</td>\n",
       "      <td>0</td>\n",
       "      <td>0</td>\n",
       "      <td>0</td>\n",
       "      <td>0</td>\n",
       "      <td>0</td>\n",
       "      <td>0</td>\n",
       "      <td>0</td>\n",
       "      <td>0</td>\n",
       "      <td>0</td>\n",
       "      <td>0</td>\n",
       "      <td>0</td>\n",
       "      <td>0</td>\n",
       "      <td>0</td>\n",
       "      <td>0</td>\n",
       "      <td>0</td>\n",
       "      <td>1</td>\n",
       "      <td>0</td>\n",
       "      <td>0</td>\n",
       "      <td>0</td>\n",
       "      <td>1c198af1-9fc1-4d9a-819b-7a79d606279e</td>\n",
       "      <td>0.255800</td>\n",
       "      <td>0</td>\n",
       "      <td>0</td>\n",
       "      <td>0.153846</td>\n",
       "      <td>0.060739</td>\n",
       "      <td>0.222222</td>\n",
       "      <td>1</td>\n",
       "    </tr>\n",
       "    <tr>\n",
       "      <th>7833</th>\n",
       "      <td>0</td>\n",
       "      <td>0</td>\n",
       "      <td>0</td>\n",
       "      <td>0</td>\n",
       "      <td>0</td>\n",
       "      <td>0</td>\n",
       "      <td>0</td>\n",
       "      <td>0</td>\n",
       "      <td>0</td>\n",
       "      <td>0</td>\n",
       "      <td>0</td>\n",
       "      <td>1</td>\n",
       "      <td>0</td>\n",
       "      <td>0</td>\n",
       "      <td>0</td>\n",
       "      <td>0</td>\n",
       "      <td>1</td>\n",
       "      <td>0</td>\n",
       "      <td>0</td>\n",
       "      <td>0</td>\n",
       "      <td>1</td>\n",
       "      <td>0</td>\n",
       "      <td>0</td>\n",
       "      <td>0</td>\n",
       "      <td>0</td>\n",
       "      <td>0</td>\n",
       "      <td>0</td>\n",
       "      <td>0</td>\n",
       "      <td>0</td>\n",
       "      <td>0</td>\n",
       "      <td>0</td>\n",
       "      <td>0</td>\n",
       "      <td>0</td>\n",
       "      <td>0</td>\n",
       "      <td>0</td>\n",
       "      <td>0</td>\n",
       "      <td>0</td>\n",
       "      <td>0</td>\n",
       "      <td>0</td>\n",
       "      <td>1</td>\n",
       "      <td>0</td>\n",
       "      <td>0</td>\n",
       "      <td>0</td>\n",
       "      <td>18c7500e-7864-488f-838d-d6a624cddb1f</td>\n",
       "      <td>0.125499</td>\n",
       "      <td>0</td>\n",
       "      <td>1</td>\n",
       "      <td>0.153846</td>\n",
       "      <td>0.034771</td>\n",
       "      <td>0.222222</td>\n",
       "      <td>1</td>\n",
       "    </tr>\n",
       "    <tr>\n",
       "      <th>4461</th>\n",
       "      <td>0</td>\n",
       "      <td>0</td>\n",
       "      <td>0</td>\n",
       "      <td>0</td>\n",
       "      <td>0</td>\n",
       "      <td>0</td>\n",
       "      <td>0</td>\n",
       "      <td>0</td>\n",
       "      <td>0</td>\n",
       "      <td>0</td>\n",
       "      <td>0</td>\n",
       "      <td>1</td>\n",
       "      <td>0</td>\n",
       "      <td>0</td>\n",
       "      <td>0</td>\n",
       "      <td>1</td>\n",
       "      <td>0</td>\n",
       "      <td>0</td>\n",
       "      <td>0</td>\n",
       "      <td>0</td>\n",
       "      <td>0</td>\n",
       "      <td>0</td>\n",
       "      <td>1</td>\n",
       "      <td>0</td>\n",
       "      <td>0</td>\n",
       "      <td>0</td>\n",
       "      <td>0</td>\n",
       "      <td>0</td>\n",
       "      <td>0</td>\n",
       "      <td>0</td>\n",
       "      <td>0</td>\n",
       "      <td>0</td>\n",
       "      <td>0</td>\n",
       "      <td>0</td>\n",
       "      <td>0</td>\n",
       "      <td>0</td>\n",
       "      <td>0</td>\n",
       "      <td>0</td>\n",
       "      <td>0</td>\n",
       "      <td>1</td>\n",
       "      <td>0</td>\n",
       "      <td>0</td>\n",
       "      <td>0</td>\n",
       "      <td>6e08a1d7-b3e8-40a8-948f-09c85257c62b</td>\n",
       "      <td>0.459472</td>\n",
       "      <td>0</td>\n",
       "      <td>0</td>\n",
       "      <td>0.307692</td>\n",
       "      <td>0.694982</td>\n",
       "      <td>0.444444</td>\n",
       "      <td>0</td>\n",
       "    </tr>\n",
       "    <tr>\n",
       "      <th>8453</th>\n",
       "      <td>0</td>\n",
       "      <td>0</td>\n",
       "      <td>0</td>\n",
       "      <td>0</td>\n",
       "      <td>0</td>\n",
       "      <td>0</td>\n",
       "      <td>0</td>\n",
       "      <td>1</td>\n",
       "      <td>0</td>\n",
       "      <td>0</td>\n",
       "      <td>0</td>\n",
       "      <td>0</td>\n",
       "      <td>0</td>\n",
       "      <td>0</td>\n",
       "      <td>0</td>\n",
       "      <td>0</td>\n",
       "      <td>1</td>\n",
       "      <td>0</td>\n",
       "      <td>0</td>\n",
       "      <td>0</td>\n",
       "      <td>0</td>\n",
       "      <td>0</td>\n",
       "      <td>0</td>\n",
       "      <td>0</td>\n",
       "      <td>0</td>\n",
       "      <td>1</td>\n",
       "      <td>0</td>\n",
       "      <td>0</td>\n",
       "      <td>0</td>\n",
       "      <td>0</td>\n",
       "      <td>0</td>\n",
       "      <td>0</td>\n",
       "      <td>0</td>\n",
       "      <td>0</td>\n",
       "      <td>0</td>\n",
       "      <td>0</td>\n",
       "      <td>0</td>\n",
       "      <td>0</td>\n",
       "      <td>0</td>\n",
       "      <td>0</td>\n",
       "      <td>0</td>\n",
       "      <td>0</td>\n",
       "      <td>0</td>\n",
       "      <td>2499ad4b-a9c6-4f68-b6f6-5705f649fe7e</td>\n",
       "      <td>0.071770</td>\n",
       "      <td>0</td>\n",
       "      <td>0</td>\n",
       "      <td>0.000000</td>\n",
       "      <td>0.000000</td>\n",
       "      <td>0.000000</td>\n",
       "      <td>0</td>\n",
       "    </tr>\n",
       "  </tbody>\n",
       "</table>\n",
       "</div>"
      ],
      "text/plain": [
       "      Email Bounced  Email Link Clicked  Email Marked Spam  Email Opened  \\\n",
       "7263              0                   0                  0             0   \n",
       "6468              0                   0                  0             0   \n",
       "7833              0                   0                  0             0   \n",
       "4461              0                   0                  0             0   \n",
       "8453              0                   0                  0             0   \n",
       "\n",
       "      Email Received  Form Submitted on Website  Had a Phone Conversation  \\\n",
       "7263               0                          0                         0   \n",
       "6468               0                          0                         0   \n",
       "7833               0                          0                         0   \n",
       "4461               0                          0                         0   \n",
       "8453               0                          0                         0   \n",
       "\n",
       "      Modified  Olark Chat Conversation  Page Visited on Website  \\\n",
       "7263         1                        0                        0   \n",
       "6468         0                        0                        0   \n",
       "7833         0                        0                        0   \n",
       "4461         0                        0                        0   \n",
       "8453         1                        0                        0   \n",
       "\n",
       "      Resubscribed to emails  SMS Sent  Unreachable  Unsubscribed  \\\n",
       "7263                       0         0            0             0   \n",
       "6468                       0         1            0             0   \n",
       "7833                       0         1            0             0   \n",
       "4461                       0         1            0             0   \n",
       "8453                       0         0            0             0   \n",
       "\n",
       "      View in browser link Clicked  Mumbai  Other Cities  \\\n",
       "7263                             0       0             1   \n",
       "6468                             0       1             0   \n",
       "7833                             0       0             1   \n",
       "4461                             0       1             0   \n",
       "8453                             0       0             1   \n",
       "\n",
       "      Other Cities of Maharashtra  Other Metro Cities  Tier II Cities  \\\n",
       "7263                            0                   0               0   \n",
       "6468                            0                   0               0   \n",
       "7833                            0                   0               0   \n",
       "4461                            0                   0               0   \n",
       "8453                            0                   0               0   \n",
       "\n",
       "      Direct Traffic  Facebook  Google  Live Chat  NC_EDM  Olark Chat  \\\n",
       "7263               0         0       0          0       0           1   \n",
       "6468               1         0       0          0       0           0   \n",
       "7833               1         0       0          0       0           0   \n",
       "4461               0         0       1          0       0           0   \n",
       "8453               0         0       0          0       0           1   \n",
       "\n",
       "      Organic Search  Pay per Click Ads  Press_Release  Reference  \\\n",
       "7263               0                  0              0          0   \n",
       "6468               0                  0              0          0   \n",
       "7833               0                  0              0          0   \n",
       "4461               0                  0              0          0   \n",
       "8453               0                  0              0          0   \n",
       "\n",
       "      Referral Sites  Social Media  WeLearn  Welingak Website  bing  blog  \\\n",
       "7263               0             0        0                 0     0     0   \n",
       "6468               0             0        0                 0     0     0   \n",
       "7833               0             0        0                 0     0     0   \n",
       "4461               0             0        0                 0     0     0   \n",
       "8453               0             0        0                 0     0     0   \n",
       "\n",
       "      testone  welearnblog_Home  youtubechannel  Landing Page Submission  \\\n",
       "7263        0                 0               0                        0   \n",
       "6468        0                 0               0                        1   \n",
       "7833        0                 0               0                        1   \n",
       "4461        0                 0               0                        1   \n",
       "8453        0                 0               0                        0   \n",
       "\n",
       "      Lead Add Form  Lead Import  Quick Add Form  \\\n",
       "7263              0            0               0   \n",
       "6468              0            0               0   \n",
       "7833              0            0               0   \n",
       "4461              0            0               0   \n",
       "8453              0            0               0   \n",
       "\n",
       "                               Prospect ID  Lead Number  Do Not Email  \\\n",
       "7263  1f2af90a-a1b4-42c2-9a4e-462f0c886d93     0.175718             0   \n",
       "6468  1c198af1-9fc1-4d9a-819b-7a79d606279e     0.255800             0   \n",
       "7833  18c7500e-7864-488f-838d-d6a624cddb1f     0.125499             0   \n",
       "4461  6e08a1d7-b3e8-40a8-948f-09c85257c62b     0.459472             0   \n",
       "8453  2499ad4b-a9c6-4f68-b6f6-5705f649fe7e     0.071770             0   \n",
       "\n",
       "      Converted  TotalVisits  Total Time Spent on Website  \\\n",
       "7263          1     0.000000                     0.000000   \n",
       "6468          0     0.153846                     0.060739   \n",
       "7833          1     0.153846                     0.034771   \n",
       "4461          0     0.307692                     0.694982   \n",
       "8453          0     0.000000                     0.000000   \n",
       "\n",
       "      Page Views Per Visit  A free copy of Mastering The Interview  \n",
       "7263              0.000000                                       0  \n",
       "6468              0.222222                                       1  \n",
       "7833              0.222222                                       1  \n",
       "4461              0.444444                                       0  \n",
       "8453              0.000000                                       0  "
      ]
     },
     "execution_count": 72,
     "metadata": {},
     "output_type": "execute_result"
    }
   ],
   "source": [
    "df_train.head()"
   ]
  },
  {
   "cell_type": "markdown",
   "metadata": {},
   "source": [
    "### *Let's now start the Model Building Process*"
   ]
  },
  {
   "cell_type": "code",
   "execution_count": 73,
   "metadata": {},
   "outputs": [],
   "source": [
    "X_train = df_train.drop(['Converted', 'Prospect ID'], axis=1)\n",
    "y_train = df_train['Converted']"
   ]
  },
  {
   "cell_type": "code",
   "execution_count": 74,
   "metadata": {},
   "outputs": [
    {
     "data": {
      "text/plain": [
       "(7392, 49)"
      ]
     },
     "execution_count": 74,
     "metadata": {},
     "output_type": "execute_result"
    }
   ],
   "source": [
    "X_train.shape"
   ]
  },
  {
   "cell_type": "markdown",
   "metadata": {},
   "source": [
    "*As number of variables is on the higher side, therefore it is more convenient to use `RFE`.*"
   ]
  },
  {
   "cell_type": "code",
   "execution_count": 75,
   "metadata": {},
   "outputs": [],
   "source": [
    "from sklearn.feature_selection import RFE\n",
    "from sklearn.linear_model import LogisticRegression\n",
    "\n",
    "lm = LogisticRegression()\n",
    "lm.fit(X_train, y_train)\n",
    "rfe = RFE(lm, 25)      ## Top 25 variables\n",
    "rfe = rfe.fit(X_train, y_train)"
   ]
  },
  {
   "cell_type": "code",
   "execution_count": 76,
   "metadata": {},
   "outputs": [
    {
     "data": {
      "text/plain": [
       "[('Email Bounced', True, 1),\n",
       " ('Email Link Clicked', True, 1),\n",
       " ('Email Marked Spam', False, 7),\n",
       " ('Email Opened', True, 1),\n",
       " ('Email Received', True, 1),\n",
       " ('Form Submitted on Website', False, 11),\n",
       " ('Had a Phone Conversation', True, 1),\n",
       " ('Modified', True, 1),\n",
       " ('Olark Chat Conversation', True, 1),\n",
       " ('Page Visited on Website', True, 1),\n",
       " ('Resubscribed to emails', True, 1),\n",
       " ('SMS Sent', True, 1),\n",
       " ('Unreachable', True, 1),\n",
       " ('Unsubscribed', True, 1),\n",
       " ('View in browser link Clicked', False, 25),\n",
       " ('Mumbai', True, 1),\n",
       " ('Other Cities', False, 21),\n",
       " ('Other Cities of Maharashtra', False, 18),\n",
       " ('Other Metro Cities', False, 22),\n",
       " ('Tier II Cities', False, 9),\n",
       " ('Direct Traffic', True, 1),\n",
       " ('Facebook', False, 14),\n",
       " ('Google', False, 3),\n",
       " ('Live Chat', False, 19),\n",
       " ('NC_EDM', False, 4),\n",
       " ('Olark Chat', True, 1),\n",
       " ('Organic Search', False, 2),\n",
       " ('Pay per Click Ads', False, 10),\n",
       " ('Press_Release', False, 13),\n",
       " ('Reference', True, 1),\n",
       " ('Referral Sites', True, 1),\n",
       " ('Social Media', False, 5),\n",
       " ('WeLearn', False, 15),\n",
       " ('Welingak Website', True, 1),\n",
       " ('bing', False, 17),\n",
       " ('blog', True, 1),\n",
       " ('testone', False, 24),\n",
       " ('welearnblog_Home', False, 6),\n",
       " ('youtubechannel', False, 12),\n",
       " ('Landing Page Submission', False, 20),\n",
       " ('Lead Add Form', True, 1),\n",
       " ('Lead Import', False, 16),\n",
       " ('Quick Add Form', False, 8),\n",
       " ('Lead Number', True, 1),\n",
       " ('Do Not Email', True, 1),\n",
       " ('TotalVisits', True, 1),\n",
       " ('Total Time Spent on Website', True, 1),\n",
       " ('Page Views Per Visit', True, 1),\n",
       " ('A free copy of Mastering The Interview', False, 23)]"
      ]
     },
     "execution_count": 76,
     "metadata": {},
     "output_type": "execute_result"
    }
   ],
   "source": [
    "list(zip(X_train.columns,rfe.support_,rfe.ranking_))"
   ]
  },
  {
   "cell_type": "code",
   "execution_count": 77,
   "metadata": {},
   "outputs": [
    {
     "data": {
      "text/plain": [
       "['Email Bounced',\n",
       " 'Email Link Clicked',\n",
       " 'Email Opened',\n",
       " 'Email Received',\n",
       " 'Had a Phone Conversation',\n",
       " 'Modified',\n",
       " 'Olark Chat Conversation',\n",
       " 'Page Visited on Website',\n",
       " 'Resubscribed to emails',\n",
       " 'SMS Sent',\n",
       " 'Unreachable',\n",
       " 'Unsubscribed',\n",
       " 'Mumbai',\n",
       " 'Direct Traffic',\n",
       " 'Olark Chat',\n",
       " 'Reference',\n",
       " 'Referral Sites',\n",
       " 'Welingak Website',\n",
       " 'blog',\n",
       " 'Lead Add Form',\n",
       " 'Lead Number',\n",
       " 'Do Not Email',\n",
       " 'TotalVisits',\n",
       " 'Total Time Spent on Website',\n",
       " 'Page Views Per Visit']"
      ]
     },
     "execution_count": 77,
     "metadata": {},
     "output_type": "execute_result"
    }
   ],
   "source": [
    "rfe_cols = X_train.columns[rfe.support_]\n",
    "rfe_cols = list(rfe_cols)\n",
    "rfe_cols"
   ]
  },
  {
   "cell_type": "markdown",
   "metadata": {},
   "source": [
    "*Let's use these columns for our predictions*"
   ]
  },
  {
   "cell_type": "code",
   "execution_count": 78,
   "metadata": {},
   "outputs": [],
   "source": [
    "X_train = X_train[rfe_cols]"
   ]
  },
  {
   "cell_type": "code",
   "execution_count": 79,
   "metadata": {},
   "outputs": [],
   "source": [
    "import statsmodels.api as sm"
   ]
  },
  {
   "cell_type": "code",
   "execution_count": 80,
   "metadata": {},
   "outputs": [
    {
     "name": "stdout",
     "output_type": "stream",
     "text": [
      "                 Generalized Linear Model Regression Results                  \n",
      "==============================================================================\n",
      "Dep. Variable:              Converted   No. Observations:                 7392\n",
      "Model:                            GLM   Df Residuals:                     7366\n",
      "Model Family:                Binomial   Df Model:                           25\n",
      "Link Function:                  logit   Scale:                          1.0000\n",
      "Method:                          IRLS   Log-Likelihood:                -3239.9\n",
      "Date:                Sat, 29 Feb 2020   Deviance:                       6479.7\n",
      "Time:                        13:49:14   Pearson chi2:                 7.58e+03\n",
      "No. Iterations:                    20   Covariance Type:             nonrobust\n",
      "===============================================================================================\n",
      "                                  coef    std err          z      P>|z|      [0.025      0.975]\n",
      "-----------------------------------------------------------------------------------------------\n",
      "const                          -1.2512      1.412     -0.886      0.376      -4.019       1.516\n",
      "Email Bounced                  -0.8822      1.480     -0.596      0.551      -3.783       2.019\n",
      "Email Link Clicked             -1.3809      1.425     -0.969      0.333      -4.175       1.413\n",
      "Email Opened                   -0.8987      1.408     -0.639      0.523      -3.657       1.860\n",
      "Email Received                 21.2699   2.92e+04      0.001      0.999   -5.73e+04    5.73e+04\n",
      "Had a Phone Conversation        2.2394      1.779      1.259      0.208      -1.247       5.726\n",
      "Modified                       -1.6003      1.408     -1.137      0.256      -4.359       1.158\n",
      "Olark Chat Conversation        -2.2491      1.437     -1.566      0.117      -5.065       0.567\n",
      "Page Visited on Website        -1.5497      1.417     -1.094      0.274      -4.326       1.227\n",
      "Resubscribed to emails         21.8687   2.92e+04      0.001      0.999   -5.73e+04    5.73e+04\n",
      "SMS Sent                        0.5694      1.408      0.404      0.686      -2.189       3.328\n",
      "Unreachable                     0.5836      1.485      0.393      0.694      -2.327       3.494\n",
      "Unsubscribed                    0.0982      1.468      0.067      0.947      -2.780       2.976\n",
      "Mumbai                         -0.3547      0.063     -5.656      0.000      -0.478      -0.232\n",
      "Direct Traffic                 -0.2147      0.076     -2.831      0.005      -0.363      -0.066\n",
      "Olark Chat                      0.9118      0.115      7.946      0.000       0.687       1.137\n",
      "Reference                       0.9755      0.498      1.958      0.050      -0.001       1.952\n",
      "Referral Sites                 -0.5247      0.269     -1.954      0.051      -1.051       0.002\n",
      "Welingak Website                2.5293      0.858      2.948      0.003       0.848       4.211\n",
      "blog                          -20.9215   2.92e+04     -0.001      0.999   -5.73e+04    5.73e+04\n",
      "Lead Add Form                   3.0895      0.472      6.543      0.000       2.164       4.015\n",
      "Lead Number                     0.6231      0.114      5.460      0.000       0.399       0.847\n",
      "Do Not Email                   -1.3815      0.172     -8.013      0.000      -1.719      -1.044\n",
      "TotalVisits                     1.3970      0.201      6.959      0.000       1.004       1.790\n",
      "Total Time Spent on Website     4.6820      0.151     30.966      0.000       4.386       4.978\n",
      "Page Views Per Visit           -1.1461      0.228     -5.035      0.000      -1.592      -0.700\n",
      "===============================================================================================\n"
     ]
    }
   ],
   "source": [
    "X_train_sm = sm.add_constant(X_train)\n",
    "model_1 = sm.GLM(y_train, X_train_sm, family=sm.families.Binomial()).fit()\n",
    "print(model_1.summary())"
   ]
  },
  {
   "cell_type": "markdown",
   "metadata": {},
   "source": [
    "*Dropping `Email Received`*"
   ]
  },
  {
   "cell_type": "code",
   "execution_count": 81,
   "metadata": {},
   "outputs": [],
   "source": [
    "X_train.drop('Email Received', axis=1, inplace=True)"
   ]
  },
  {
   "cell_type": "code",
   "execution_count": 82,
   "metadata": {},
   "outputs": [
    {
     "name": "stdout",
     "output_type": "stream",
     "text": [
      "                 Generalized Linear Model Regression Results                  \n",
      "==============================================================================\n",
      "Dep. Variable:              Converted   No. Observations:                 7392\n",
      "Model:                            GLM   Df Residuals:                     7366\n",
      "Model Family:                Binomial   Df Model:                           25\n",
      "Link Function:                  logit   Scale:                          1.0000\n",
      "Method:                          IRLS   Log-Likelihood:                -3239.9\n",
      "Date:                Sat, 29 Feb 2020   Deviance:                       6479.7\n",
      "Time:                        13:49:14   Pearson chi2:                 7.58e+03\n",
      "No. Iterations:                    20   Covariance Type:             nonrobust\n",
      "===============================================================================================\n",
      "                                  coef    std err          z      P>|z|      [0.025      0.975]\n",
      "-----------------------------------------------------------------------------------------------\n",
      "const                          -1.2512      1.412     -0.886      0.376      -4.019       1.516\n",
      "Email Bounced                  -0.8822      1.480     -0.596      0.551      -3.783       2.019\n",
      "Email Link Clicked             -1.3809      1.425     -0.969      0.333      -4.175       1.413\n",
      "Email Opened                   -0.8987      1.408     -0.639      0.523      -3.657       1.860\n",
      "Email Received                 21.2699   2.92e+04      0.001      0.999   -5.73e+04    5.73e+04\n",
      "Had a Phone Conversation        2.2394      1.779      1.259      0.208      -1.247       5.726\n",
      "Modified                       -1.6003      1.408     -1.137      0.256      -4.359       1.158\n",
      "Olark Chat Conversation        -2.2491      1.437     -1.566      0.117      -5.065       0.567\n",
      "Page Visited on Website        -1.5497      1.417     -1.094      0.274      -4.326       1.227\n",
      "Resubscribed to emails         21.8687   2.92e+04      0.001      0.999   -5.73e+04    5.73e+04\n",
      "SMS Sent                        0.5694      1.408      0.404      0.686      -2.189       3.328\n",
      "Unreachable                     0.5836      1.485      0.393      0.694      -2.327       3.494\n",
      "Unsubscribed                    0.0982      1.468      0.067      0.947      -2.780       2.976\n",
      "Mumbai                         -0.3547      0.063     -5.656      0.000      -0.478      -0.232\n",
      "Direct Traffic                 -0.2147      0.076     -2.831      0.005      -0.363      -0.066\n",
      "Olark Chat                      0.9118      0.115      7.946      0.000       0.687       1.137\n",
      "Reference                       0.9755      0.498      1.958      0.050      -0.001       1.952\n",
      "Referral Sites                 -0.5247      0.269     -1.954      0.051      -1.051       0.002\n",
      "Welingak Website                2.5293      0.858      2.948      0.003       0.848       4.211\n",
      "blog                          -20.9215   2.92e+04     -0.001      0.999   -5.73e+04    5.73e+04\n",
      "Lead Add Form                   3.0895      0.472      6.543      0.000       2.164       4.015\n",
      "Lead Number                     0.6231      0.114      5.460      0.000       0.399       0.847\n",
      "Do Not Email                   -1.3815      0.172     -8.013      0.000      -1.719      -1.044\n",
      "TotalVisits                     1.3970      0.201      6.959      0.000       1.004       1.790\n",
      "Total Time Spent on Website     4.6820      0.151     30.966      0.000       4.386       4.978\n",
      "Page Views Per Visit           -1.1461      0.228     -5.035      0.000      -1.592      -0.700\n",
      "===============================================================================================\n"
     ]
    }
   ],
   "source": [
    "X_train_sm = sm.add_constant(X_train)\n",
    "model_2 = sm.GLM(y_train, X_train_sm, family=sm.families.Binomial()).fit()\n",
    "print(model_1.summary())"
   ]
  },
  {
   "cell_type": "markdown",
   "metadata": {},
   "source": [
    "*Dropping `Resubscribed to emails`*"
   ]
  },
  {
   "cell_type": "code",
   "execution_count": 83,
   "metadata": {},
   "outputs": [],
   "source": [
    "X_train.drop('Resubscribed to emails', axis=1, inplace=True)"
   ]
  },
  {
   "cell_type": "code",
   "execution_count": 84,
   "metadata": {},
   "outputs": [
    {
     "name": "stdout",
     "output_type": "stream",
     "text": [
      "                 Generalized Linear Model Regression Results                  \n",
      "==============================================================================\n",
      "Dep. Variable:              Converted   No. Observations:                 7392\n",
      "Model:                            GLM   Df Residuals:                     7368\n",
      "Model Family:                Binomial   Df Model:                           23\n",
      "Link Function:                  logit   Scale:                          1.0000\n",
      "Method:                          IRLS   Log-Likelihood:                -3240.7\n",
      "Date:                Sat, 29 Feb 2020   Deviance:                       6481.5\n",
      "Time:                        13:49:14   Pearson chi2:                 7.58e+03\n",
      "No. Iterations:                    19   Covariance Type:             nonrobust\n",
      "===============================================================================================\n",
      "                                  coef    std err          z      P>|z|      [0.025      0.975]\n",
      "-----------------------------------------------------------------------------------------------\n",
      "const                          -0.1155      1.183     -0.098      0.922      -2.434       2.203\n",
      "Email Bounced                  -2.0132      1.271     -1.584      0.113      -4.504       0.477\n",
      "Email Link Clicked             -2.5167      1.200     -2.097      0.036      -4.868      -0.165\n",
      "Email Opened                   -2.0344      1.179     -1.726      0.084      -4.345       0.276\n",
      "Had a Phone Conversation        1.1035      1.604      0.688      0.491      -2.040       4.247\n",
      "Modified                       -2.7361      1.179     -2.321      0.020      -5.047      -0.426\n",
      "Olark Chat Conversation        -3.3856      1.213     -2.791      0.005      -5.763      -1.008\n",
      "Page Visited on Website        -2.6849      1.191     -2.255      0.024      -5.019      -0.351\n",
      "SMS Sent                       -0.5660      1.179     -0.480      0.631      -2.877       1.745\n",
      "Unreachable                    -0.5523      1.270     -0.435      0.664      -3.041       1.937\n",
      "Unsubscribed                   -1.0337      1.256     -0.823      0.410      -3.495       1.427\n",
      "Mumbai                         -0.3532      0.063     -5.634      0.000      -0.476      -0.230\n",
      "Direct Traffic                 -0.2168      0.076     -2.859      0.004      -0.365      -0.068\n",
      "Olark Chat                      0.9127      0.115      7.956      0.000       0.688       1.138\n",
      "Reference                       0.9743      0.498      1.956      0.050      -0.002       1.951\n",
      "Referral Sites                 -0.5250      0.269     -1.955      0.051      -1.051       0.001\n",
      "Welingak Website                2.5288      0.858      2.948      0.003       0.847       4.210\n",
      "blog                          -19.9226   1.77e+04     -0.001      0.999   -3.48e+04    3.47e+04\n",
      "Lead Add Form                   3.0904      0.472      6.544      0.000       2.165       4.016\n",
      "Lead Number                     0.6230      0.114      5.460      0.000       0.399       0.847\n",
      "Do Not Email                   -1.3855      0.173     -8.024      0.000      -1.724      -1.047\n",
      "TotalVisits                     1.3969      0.201      6.957      0.000       1.003       1.790\n",
      "Total Time Spent on Website     4.6809      0.151     30.954      0.000       4.384       4.977\n",
      "Page Views Per Visit           -1.1459      0.228     -5.034      0.000      -1.592      -0.700\n",
      "===============================================================================================\n"
     ]
    }
   ],
   "source": [
    "X_train_sm = sm.add_constant(X_train)\n",
    "model_3 = sm.GLM(y_train, X_train_sm, family=sm.families.Binomial()).fit()\n",
    "print(model_3.summary())"
   ]
  },
  {
   "cell_type": "markdown",
   "metadata": {},
   "source": [
    "*Dropping `blog`*"
   ]
  },
  {
   "cell_type": "code",
   "execution_count": 85,
   "metadata": {},
   "outputs": [],
   "source": [
    "X_train.drop('blog', axis=1, inplace=True)"
   ]
  },
  {
   "cell_type": "code",
   "execution_count": 86,
   "metadata": {},
   "outputs": [
    {
     "name": "stdout",
     "output_type": "stream",
     "text": [
      "                 Generalized Linear Model Regression Results                  \n",
      "==============================================================================\n",
      "Dep. Variable:              Converted   No. Observations:                 7392\n",
      "Model:                            GLM   Df Residuals:                     7369\n",
      "Model Family:                Binomial   Df Model:                           22\n",
      "Link Function:                  logit   Scale:                          1.0000\n",
      "Method:                          IRLS   Log-Likelihood:                -3241.2\n",
      "Date:                Sat, 29 Feb 2020   Deviance:                       6482.3\n",
      "Time:                        13:49:14   Pearson chi2:                 7.58e+03\n",
      "No. Iterations:                     7   Covariance Type:             nonrobust\n",
      "===============================================================================================\n",
      "                                  coef    std err          z      P>|z|      [0.025      0.975]\n",
      "-----------------------------------------------------------------------------------------------\n",
      "const                          -0.1148      1.183     -0.097      0.923      -2.433       2.204\n",
      "Email Bounced                  -2.0130      1.271     -1.584      0.113      -4.503       0.477\n",
      "Email Link Clicked             -2.5166      1.200     -2.097      0.036      -4.868      -0.165\n",
      "Email Opened                   -2.0351      1.179     -1.727      0.084      -4.345       0.275\n",
      "Had a Phone Conversation        1.1038      1.604      0.688      0.491      -2.040       4.247\n",
      "Modified                       -2.7358      1.179     -2.321      0.020      -5.046      -0.425\n",
      "Olark Chat Conversation        -3.3856      1.213     -2.791      0.005      -5.763      -1.008\n",
      "Page Visited on Website        -2.6850      1.191     -2.255      0.024      -5.019      -0.351\n",
      "SMS Sent                       -0.5660      1.179     -0.480      0.631      -2.877       1.745\n",
      "Unreachable                    -0.5519      1.270     -0.435      0.664      -3.041       1.937\n",
      "Unsubscribed                   -1.0333      1.256     -0.823      0.411      -3.495       1.428\n",
      "Mumbai                         -0.3539      0.063     -5.645      0.000      -0.477      -0.231\n",
      "Direct Traffic                 -0.2163      0.076     -2.852      0.004      -0.365      -0.068\n",
      "Olark Chat                      0.9131      0.115      7.959      0.000       0.688       1.138\n",
      "Reference                       0.9746      0.498      1.956      0.050      -0.002       1.951\n",
      "Referral Sites                 -0.5239      0.269     -1.951      0.051      -1.050       0.002\n",
      "Welingak Website                2.5289      0.858      2.948      0.003       0.847       4.210\n",
      "Lead Add Form                   3.0905      0.472      6.545      0.000       2.165       4.016\n",
      "Lead Number                     0.6215      0.114      5.448      0.000       0.398       0.845\n",
      "Do Not Email                   -1.3857      0.173     -8.025      0.000      -1.724      -1.047\n",
      "TotalVisits                     1.3983      0.201      6.964      0.000       1.005       1.792\n",
      "Total Time Spent on Website     4.6809      0.151     30.954      0.000       4.385       4.977\n",
      "Page Views Per Visit           -1.1476      0.228     -5.041      0.000      -1.594      -0.701\n",
      "===============================================================================================\n"
     ]
    }
   ],
   "source": [
    "X_train_sm = sm.add_constant(X_train)\n",
    "model_4 = sm.GLM(y_train, X_train_sm, family=sm.families.Binomial()).fit()\n",
    "print(model_4.summary())"
   ]
  },
  {
   "cell_type": "markdown",
   "metadata": {},
   "source": [
    "*Dropping `Unreachable`*"
   ]
  },
  {
   "cell_type": "code",
   "execution_count": 87,
   "metadata": {},
   "outputs": [],
   "source": [
    "X_train.drop('Unreachable', axis=1, inplace=True)"
   ]
  },
  {
   "cell_type": "code",
   "execution_count": 88,
   "metadata": {},
   "outputs": [
    {
     "name": "stdout",
     "output_type": "stream",
     "text": [
      "                 Generalized Linear Model Regression Results                  \n",
      "==============================================================================\n",
      "Dep. Variable:              Converted   No. Observations:                 7392\n",
      "Model:                            GLM   Df Residuals:                     7370\n",
      "Model Family:                Binomial   Df Model:                           21\n",
      "Link Function:                  logit   Scale:                          1.0000\n",
      "Method:                          IRLS   Log-Likelihood:                -3241.3\n",
      "Date:                Sat, 29 Feb 2020   Deviance:                       6482.5\n",
      "Time:                        13:49:15   Pearson chi2:                 7.58e+03\n",
      "No. Iterations:                     7   Covariance Type:             nonrobust\n",
      "===============================================================================================\n",
      "                                  coef    std err          z      P>|z|      [0.025      0.975]\n",
      "-----------------------------------------------------------------------------------------------\n",
      "const                          -0.5821      0.451     -1.290      0.197      -1.467       0.303\n",
      "Email Bounced                  -1.5470      0.651     -2.377      0.017      -2.822      -0.271\n",
      "Email Link Clicked             -2.0494      0.494     -4.145      0.000      -3.018      -1.080\n",
      "Email Opened                   -1.5678      0.440     -3.563      0.000      -2.430      -0.705\n",
      "Had a Phone Conversation        1.5714      1.173      1.340      0.180      -0.727       3.870\n",
      "Modified                       -2.2686      0.441     -5.145      0.000      -3.133      -1.404\n",
      "Olark Chat Conversation        -2.9187      0.526     -5.546      0.000      -3.950      -1.887\n",
      "Page Visited on Website        -2.2180      0.472     -4.700      0.000      -3.143      -1.293\n",
      "SMS Sent                       -0.0988      0.441     -0.224      0.823      -0.964       0.766\n",
      "Unsubscribed                   -0.5671      0.621     -0.914      0.361      -1.784       0.650\n",
      "Mumbai                         -0.3538      0.063     -5.643      0.000      -0.477      -0.231\n",
      "Direct Traffic                 -0.2158      0.076     -2.846      0.004      -0.364      -0.067\n",
      "Olark Chat                      0.9135      0.115      7.963      0.000       0.689       1.138\n",
      "Reference                       0.9748      0.498      1.957      0.050      -0.002       1.951\n",
      "Referral Sites                 -0.5248      0.269     -1.954      0.051      -1.051       0.002\n",
      "Welingak Website                2.5292      0.858      2.948      0.003       0.848       4.211\n",
      "Lead Add Form                   3.0904      0.472      6.545      0.000       2.165       4.016\n",
      "Lead Number                     0.6210      0.114      5.444      0.000       0.397       0.845\n",
      "Do Not Email                   -1.3845      0.173     -8.025      0.000      -1.723      -1.046\n",
      "TotalVisits                     1.3986      0.201      6.966      0.000       1.005       1.792\n",
      "Total Time Spent on Website     4.6821      0.151     30.966      0.000       4.386       4.978\n",
      "Page Views Per Visit           -1.1488      0.228     -5.046      0.000      -1.595      -0.703\n",
      "===============================================================================================\n"
     ]
    }
   ],
   "source": [
    "X_train_sm = sm.add_constant(X_train)\n",
    "model_5 = sm.GLM(y_train, X_train_sm, family=sm.families.Binomial()).fit()\n",
    "print(model_5.summary())"
   ]
  },
  {
   "cell_type": "markdown",
   "metadata": {},
   "source": [
    "*Dropping `SMS Sent`*"
   ]
  },
  {
   "cell_type": "code",
   "execution_count": 89,
   "metadata": {},
   "outputs": [],
   "source": [
    "X_train.drop('SMS Sent', axis=1, inplace=True)"
   ]
  },
  {
   "cell_type": "code",
   "execution_count": 90,
   "metadata": {},
   "outputs": [
    {
     "name": "stdout",
     "output_type": "stream",
     "text": [
      "                 Generalized Linear Model Regression Results                  \n",
      "==============================================================================\n",
      "Dep. Variable:              Converted   No. Observations:                 7392\n",
      "Model:                            GLM   Df Residuals:                     7371\n",
      "Model Family:                Binomial   Df Model:                           20\n",
      "Link Function:                  logit   Scale:                          1.0000\n",
      "Method:                          IRLS   Log-Likelihood:                -3241.3\n",
      "Date:                Sat, 29 Feb 2020   Deviance:                       6482.6\n",
      "Time:                        13:49:15   Pearson chi2:                 7.58e+03\n",
      "No. Iterations:                     7   Covariance Type:             nonrobust\n",
      "===============================================================================================\n",
      "                                  coef    std err          z      P>|z|      [0.025      0.975]\n",
      "-----------------------------------------------------------------------------------------------\n",
      "const                          -0.6795      0.120     -5.677      0.000      -0.914      -0.445\n",
      "Email Bounced                  -1.4501      0.486     -2.984      0.003      -2.403      -0.498\n",
      "Email Link Clicked             -1.9527      0.240     -8.121      0.000      -2.424      -1.481\n",
      "Email Opened                   -1.4711      0.082    -17.939      0.000      -1.632      -1.310\n",
      "Had a Phone Conversation        1.6681      1.090      1.530      0.126      -0.468       3.805\n",
      "Modified                       -2.1719      0.087    -24.991      0.000      -2.342      -2.002\n",
      "Olark Chat Conversation        -2.8219      0.300     -9.414      0.000      -3.409      -2.234\n",
      "Page Visited on Website        -2.1215      0.192    -11.065      0.000      -2.497      -1.746\n",
      "Unsubscribed                   -0.4702      0.445     -1.058      0.290      -1.341       0.401\n",
      "Mumbai                         -0.3536      0.063     -5.641      0.000      -0.476      -0.231\n",
      "Direct Traffic                 -0.2158      0.076     -2.846      0.004      -0.364      -0.067\n",
      "Olark Chat                      0.9136      0.115      7.964      0.000       0.689       1.138\n",
      "Reference                       0.9751      0.498      1.957      0.050      -0.001       1.951\n",
      "Referral Sites                 -0.5238      0.268     -1.951      0.051      -1.050       0.002\n",
      "Welingak Website                2.5294      0.858      2.948      0.003       0.848       4.211\n",
      "Lead Add Form                   3.0900      0.472      6.543      0.000       2.164       4.016\n",
      "Lead Number                     0.6222      0.114      5.459      0.000       0.399       0.846\n",
      "Do Not Email                   -1.3846      0.173     -8.026      0.000      -1.723      -1.047\n",
      "TotalVisits                     1.3995      0.201      6.972      0.000       1.006       1.793\n",
      "Total Time Spent on Website     4.6816      0.151     30.967      0.000       4.385       4.978\n",
      "Page Views Per Visit           -1.1493      0.228     -5.049      0.000      -1.595      -0.703\n",
      "===============================================================================================\n"
     ]
    }
   ],
   "source": [
    "X_train_sm = sm.add_constant(X_train)\n",
    "model_6 = sm.GLM(y_train, X_train_sm, family=sm.families.Binomial()).fit()\n",
    "print(model_6.summary())"
   ]
  },
  {
   "cell_type": "markdown",
   "metadata": {},
   "source": [
    "*Dropping `Unsubscribed`*"
   ]
  },
  {
   "cell_type": "code",
   "execution_count": 91,
   "metadata": {},
   "outputs": [],
   "source": [
    "X_train.drop('Unsubscribed', axis=1, inplace=True)"
   ]
  },
  {
   "cell_type": "code",
   "execution_count": 92,
   "metadata": {},
   "outputs": [
    {
     "name": "stdout",
     "output_type": "stream",
     "text": [
      "                 Generalized Linear Model Regression Results                  \n",
      "==============================================================================\n",
      "Dep. Variable:              Converted   No. Observations:                 7392\n",
      "Model:                            GLM   Df Residuals:                     7372\n",
      "Model Family:                Binomial   Df Model:                           19\n",
      "Link Function:                  logit   Scale:                          1.0000\n",
      "Method:                          IRLS   Log-Likelihood:                -3241.9\n",
      "Date:                Sat, 29 Feb 2020   Deviance:                       6483.7\n",
      "Time:                        13:49:15   Pearson chi2:                 7.59e+03\n",
      "No. Iterations:                     7   Covariance Type:             nonrobust\n",
      "===============================================================================================\n",
      "                                  coef    std err          z      P>|z|      [0.025      0.975]\n",
      "-----------------------------------------------------------------------------------------------\n",
      "const                          -0.6837      0.120     -5.715      0.000      -0.918      -0.449\n",
      "Email Bounced                  -1.3741      0.481     -2.855      0.004      -2.318      -0.431\n",
      "Email Link Clicked             -1.9466      0.240     -8.097      0.000      -2.418      -1.475\n",
      "Email Opened                   -1.4653      0.082    -17.912      0.000      -1.626      -1.305\n",
      "Had a Phone Conversation        1.6731      1.090      1.535      0.125      -0.463       3.810\n",
      "Modified                       -2.1621      0.086    -25.022      0.000      -2.331      -1.993\n",
      "Olark Chat Conversation        -2.8140      0.300     -9.389      0.000      -3.401      -2.227\n",
      "Page Visited on Website        -2.1114      0.192    -11.021      0.000      -2.487      -1.736\n",
      "Mumbai                         -0.3549      0.063     -5.664      0.000      -0.478      -0.232\n",
      "Direct Traffic                 -0.2139      0.076     -2.823      0.005      -0.363      -0.065\n",
      "Olark Chat                      0.9135      0.115      7.965      0.000       0.689       1.138\n",
      "Reference                       0.9949      0.497      2.002      0.045       0.021       1.969\n",
      "Referral Sites                 -0.5299      0.269     -1.973      0.049      -1.056      -0.003\n",
      "Welingak Website                2.5547      0.857      2.980      0.003       0.875       4.235\n",
      "Lead Add Form                   3.0743      0.471      6.527      0.000       2.151       3.997\n",
      "Lead Number                     0.6174      0.114      5.424      0.000       0.394       0.841\n",
      "Do Not Email                   -1.4550      0.162     -9.007      0.000      -1.772      -1.138\n",
      "TotalVisits                     1.4007      0.201      6.977      0.000       1.007       1.794\n",
      "Total Time Spent on Website     4.6812      0.151     30.963      0.000       4.385       4.977\n",
      "Page Views Per Visit           -1.1465      0.228     -5.037      0.000      -1.593      -0.700\n",
      "===============================================================================================\n"
     ]
    }
   ],
   "source": [
    "X_train_sm = sm.add_constant(X_train)\n",
    "model_7 = sm.GLM(y_train, X_train_sm, family=sm.families.Binomial()).fit()\n",
    "print(model_7.summary())"
   ]
  },
  {
   "cell_type": "markdown",
   "metadata": {},
   "source": [
    "*Dropping `Had a Phone Conversation`*"
   ]
  },
  {
   "cell_type": "code",
   "execution_count": 93,
   "metadata": {},
   "outputs": [],
   "source": [
    "X_train.drop('Had a Phone Conversation', axis=1, inplace=True)"
   ]
  },
  {
   "cell_type": "code",
   "execution_count": 94,
   "metadata": {},
   "outputs": [
    {
     "name": "stdout",
     "output_type": "stream",
     "text": [
      "                 Generalized Linear Model Regression Results                  \n",
      "==============================================================================\n",
      "Dep. Variable:              Converted   No. Observations:                 7392\n",
      "Model:                            GLM   Df Residuals:                     7373\n",
      "Model Family:                Binomial   Df Model:                           18\n",
      "Link Function:                  logit   Scale:                          1.0000\n",
      "Method:                          IRLS   Log-Likelihood:                -3243.6\n",
      "Date:                Sat, 29 Feb 2020   Deviance:                       6487.1\n",
      "Time:                        13:49:15   Pearson chi2:                 7.60e+03\n",
      "No. Iterations:                     7   Covariance Type:             nonrobust\n",
      "===============================================================================================\n",
      "                                  coef    std err          z      P>|z|      [0.025      0.975]\n",
      "-----------------------------------------------------------------------------------------------\n",
      "const                          -0.6735      0.119     -5.639      0.000      -0.908      -0.439\n",
      "Email Bounced                  -1.3791      0.481     -2.865      0.004      -2.323      -0.436\n",
      "Email Link Clicked             -1.9550      0.240     -8.133      0.000      -2.426      -1.484\n",
      "Email Opened                   -1.4743      0.082    -18.051      0.000      -1.634      -1.314\n",
      "Modified                       -2.1704      0.086    -25.148      0.000      -2.340      -2.001\n",
      "Olark Chat Conversation        -2.8223      0.300     -9.416      0.000      -3.410      -2.235\n",
      "Page Visited on Website        -2.1229      0.191    -11.088      0.000      -2.498      -1.748\n",
      "Mumbai                         -0.3559      0.063     -5.681      0.000      -0.479      -0.233\n",
      "Direct Traffic                 -0.2170      0.076     -2.865      0.004      -0.365      -0.069\n",
      "Olark Chat                      0.9097      0.115      7.935      0.000       0.685       1.134\n",
      "Reference                       0.9958      0.497      2.003      0.045       0.022       1.970\n",
      "Referral Sites                 -0.5340      0.269     -1.988      0.047      -1.061      -0.007\n",
      "Welingak Website                2.5553      0.857      2.980      0.003       0.875       4.236\n",
      "Lead Add Form                   3.0703      0.471      6.516      0.000       2.147       3.994\n",
      "Lead Number                     0.6189      0.114      5.442      0.000       0.396       0.842\n",
      "Do Not Email                   -1.4594      0.162     -9.032      0.000      -1.776      -1.143\n",
      "TotalVisits                     1.4114      0.200      7.052      0.000       1.019       1.804\n",
      "Total Time Spent on Website     4.6776      0.151     30.958      0.000       4.381       4.974\n",
      "Page Views Per Visit           -1.1535      0.227     -5.074      0.000      -1.599      -0.708\n",
      "===============================================================================================\n"
     ]
    }
   ],
   "source": [
    "X_train_sm = sm.add_constant(X_train)\n",
    "model_8 = sm.GLM(y_train, X_train_sm, family=sm.families.Binomial()).fit()\n",
    "print(model_8.summary())"
   ]
  },
  {
   "cell_type": "markdown",
   "metadata": {},
   "source": [
    "*Let's also check the VIF values*"
   ]
  },
  {
   "cell_type": "code",
   "execution_count": 95,
   "metadata": {},
   "outputs": [
    {
     "data": {
      "text/html": [
       "<div>\n",
       "<style scoped>\n",
       "    .dataframe tbody tr th:only-of-type {\n",
       "        vertical-align: middle;\n",
       "    }\n",
       "\n",
       "    .dataframe tbody tr th {\n",
       "        vertical-align: top;\n",
       "    }\n",
       "\n",
       "    .dataframe thead th {\n",
       "        text-align: right;\n",
       "    }\n",
       "</style>\n",
       "<table border=\"1\" class=\"dataframe\">\n",
       "  <thead>\n",
       "    <tr style=\"text-align: right;\">\n",
       "      <th></th>\n",
       "      <th>Features</th>\n",
       "      <th>VIF</th>\n",
       "    </tr>\n",
       "  </thead>\n",
       "  <tbody>\n",
       "    <tr>\n",
       "      <th>12</th>\n",
       "      <td>Lead Add Form</td>\n",
       "      <td>16.03</td>\n",
       "    </tr>\n",
       "    <tr>\n",
       "      <th>9</th>\n",
       "      <td>Reference</td>\n",
       "      <td>12.99</td>\n",
       "    </tr>\n",
       "    <tr>\n",
       "      <th>17</th>\n",
       "      <td>Page Views Per Visit</td>\n",
       "      <td>5.73</td>\n",
       "    </tr>\n",
       "    <tr>\n",
       "      <th>15</th>\n",
       "      <td>TotalVisits</td>\n",
       "      <td>5.34</td>\n",
       "    </tr>\n",
       "    <tr>\n",
       "      <th>11</th>\n",
       "      <td>Welingak Website</td>\n",
       "      <td>3.90</td>\n",
       "    </tr>\n",
       "    <tr>\n",
       "      <th>13</th>\n",
       "      <td>Lead Number</td>\n",
       "      <td>3.39</td>\n",
       "    </tr>\n",
       "    <tr>\n",
       "      <th>3</th>\n",
       "      <td>Modified</td>\n",
       "      <td>2.31</td>\n",
       "    </tr>\n",
       "    <tr>\n",
       "      <th>2</th>\n",
       "      <td>Email Opened</td>\n",
       "      <td>2.08</td>\n",
       "    </tr>\n",
       "    <tr>\n",
       "      <th>6</th>\n",
       "      <td>Mumbai</td>\n",
       "      <td>2.01</td>\n",
       "    </tr>\n",
       "    <tr>\n",
       "      <th>16</th>\n",
       "      <td>Total Time Spent on Website</td>\n",
       "      <td>2.01</td>\n",
       "    </tr>\n",
       "    <tr>\n",
       "      <th>8</th>\n",
       "      <td>Olark Chat</td>\n",
       "      <td>1.63</td>\n",
       "    </tr>\n",
       "    <tr>\n",
       "      <th>7</th>\n",
       "      <td>Direct Traffic</td>\n",
       "      <td>1.49</td>\n",
       "    </tr>\n",
       "    <tr>\n",
       "      <th>5</th>\n",
       "      <td>Page Visited on Website</td>\n",
       "      <td>1.25</td>\n",
       "    </tr>\n",
       "    <tr>\n",
       "      <th>14</th>\n",
       "      <td>Do Not Email</td>\n",
       "      <td>1.23</td>\n",
       "    </tr>\n",
       "    <tr>\n",
       "      <th>4</th>\n",
       "      <td>Olark Chat Conversation</td>\n",
       "      <td>1.11</td>\n",
       "    </tr>\n",
       "    <tr>\n",
       "      <th>0</th>\n",
       "      <td>Email Bounced</td>\n",
       "      <td>1.10</td>\n",
       "    </tr>\n",
       "    <tr>\n",
       "      <th>1</th>\n",
       "      <td>Email Link Clicked</td>\n",
       "      <td>1.08</td>\n",
       "    </tr>\n",
       "    <tr>\n",
       "      <th>10</th>\n",
       "      <td>Referral Sites</td>\n",
       "      <td>1.06</td>\n",
       "    </tr>\n",
       "  </tbody>\n",
       "</table>\n",
       "</div>"
      ],
      "text/plain": [
       "                       Features    VIF\n",
       "12                Lead Add Form  16.03\n",
       "9                     Reference  12.99\n",
       "17         Page Views Per Visit   5.73\n",
       "15                  TotalVisits   5.34\n",
       "11             Welingak Website   3.90\n",
       "13                  Lead Number   3.39\n",
       "3                      Modified   2.31\n",
       "2                  Email Opened   2.08\n",
       "6                        Mumbai   2.01\n",
       "16  Total Time Spent on Website   2.01\n",
       "8                    Olark Chat   1.63\n",
       "7                Direct Traffic   1.49\n",
       "5       Page Visited on Website   1.25\n",
       "14                 Do Not Email   1.23\n",
       "4       Olark Chat Conversation   1.11\n",
       "0                 Email Bounced   1.10\n",
       "1            Email Link Clicked   1.08\n",
       "10               Referral Sites   1.06"
      ]
     },
     "execution_count": 95,
     "metadata": {},
     "output_type": "execute_result"
    }
   ],
   "source": [
    "from statsmodels.stats.outliers_influence import variance_inflation_factor\n",
    "vif = pd.DataFrame()\n",
    "vif['Features'] = X_train.columns\n",
    "vif['VIF'] = [variance_inflation_factor(X_train.values, i) for i in range(X_train.shape[1])]\n",
    "vif['VIF'] = round(vif['VIF'], 2)\n",
    "vif = vif.sort_values(by='VIF', ascending=False)\n",
    "vif"
   ]
  },
  {
   "cell_type": "markdown",
   "metadata": {},
   "source": [
    "*Dropping `Lead Add Form`*"
   ]
  },
  {
   "cell_type": "code",
   "execution_count": 96,
   "metadata": {},
   "outputs": [],
   "source": [
    "X_train.drop('Lead Add Form', axis=1, inplace=True)"
   ]
  },
  {
   "cell_type": "code",
   "execution_count": 97,
   "metadata": {},
   "outputs": [
    {
     "name": "stdout",
     "output_type": "stream",
     "text": [
      "                 Generalized Linear Model Regression Results                  \n",
      "==============================================================================\n",
      "Dep. Variable:              Converted   No. Observations:                 7392\n",
      "Model:                            GLM   Df Residuals:                     7374\n",
      "Model Family:                Binomial   Df Model:                           17\n",
      "Link Function:                  logit   Scale:                          1.0000\n",
      "Method:                          IRLS   Log-Likelihood:                -3271.6\n",
      "Date:                Sat, 29 Feb 2020   Deviance:                       6543.2\n",
      "Time:                        13:49:16   Pearson chi2:                 7.59e+03\n",
      "No. Iterations:                     7   Covariance Type:             nonrobust\n",
      "===============================================================================================\n",
      "                                  coef    std err          z      P>|z|      [0.025      0.975]\n",
      "-----------------------------------------------------------------------------------------------\n",
      "const                          -0.5094      0.116     -4.373      0.000      -0.738      -0.281\n",
      "Email Bounced                  -1.5302      0.479     -3.197      0.001      -2.468      -0.592\n",
      "Email Link Clicked             -1.9787      0.240     -8.241      0.000      -2.449      -1.508\n",
      "Email Opened                   -1.4946      0.081    -18.377      0.000      -1.654      -1.335\n",
      "Modified                       -2.1917      0.086    -25.521      0.000      -2.360      -2.023\n",
      "Olark Chat Conversation        -2.8355      0.298     -9.509      0.000      -3.420      -2.251\n",
      "Page Visited on Website        -2.1231      0.190    -11.188      0.000      -2.495      -1.751\n",
      "Mumbai                         -0.3789      0.062     -6.082      0.000      -0.501      -0.257\n",
      "Direct Traffic                 -0.2648      0.075     -3.523      0.000      -0.412      -0.117\n",
      "Olark Chat                      0.7774      0.112      6.934      0.000       0.558       0.997\n",
      "Reference                       3.9290      0.199     19.737      0.000       3.539       4.319\n",
      "Referral Sites                 -0.5590      0.268     -2.088      0.037      -1.084      -0.034\n",
      "Welingak Website                5.4684      0.727      7.518      0.000       4.043       6.894\n",
      "Lead Number                     0.6232      0.113      5.511      0.000       0.402       0.845\n",
      "Do Not Email                   -1.3440      0.157     -8.553      0.000      -1.652      -1.036\n",
      "TotalVisits                     1.3440      0.199      6.752      0.000       0.954       1.734\n",
      "Total Time Spent on Website     4.5913      0.150     30.703      0.000       4.298       4.884\n",
      "Page Views Per Visit           -1.3118      0.226     -5.801      0.000      -1.755      -0.869\n",
      "===============================================================================================\n"
     ]
    }
   ],
   "source": [
    "X_train_sm = sm.add_constant(X_train)\n",
    "model_9 = sm.GLM(y_train, X_train_sm, family=sm.families.Binomial()).fit()\n",
    "print(model_9.summary())"
   ]
  },
  {
   "cell_type": "code",
   "execution_count": 98,
   "metadata": {},
   "outputs": [
    {
     "data": {
      "text/html": [
       "<div>\n",
       "<style scoped>\n",
       "    .dataframe tbody tr th:only-of-type {\n",
       "        vertical-align: middle;\n",
       "    }\n",
       "\n",
       "    .dataframe tbody tr th {\n",
       "        vertical-align: top;\n",
       "    }\n",
       "\n",
       "    .dataframe thead th {\n",
       "        text-align: right;\n",
       "    }\n",
       "</style>\n",
       "<table border=\"1\" class=\"dataframe\">\n",
       "  <thead>\n",
       "    <tr style=\"text-align: right;\">\n",
       "      <th></th>\n",
       "      <th>Features</th>\n",
       "      <th>VIF</th>\n",
       "    </tr>\n",
       "  </thead>\n",
       "  <tbody>\n",
       "    <tr>\n",
       "      <th>16</th>\n",
       "      <td>Page Views Per Visit</td>\n",
       "      <td>5.73</td>\n",
       "    </tr>\n",
       "    <tr>\n",
       "      <th>14</th>\n",
       "      <td>TotalVisits</td>\n",
       "      <td>5.34</td>\n",
       "    </tr>\n",
       "    <tr>\n",
       "      <th>12</th>\n",
       "      <td>Lead Number</td>\n",
       "      <td>3.37</td>\n",
       "    </tr>\n",
       "    <tr>\n",
       "      <th>3</th>\n",
       "      <td>Modified</td>\n",
       "      <td>2.31</td>\n",
       "    </tr>\n",
       "    <tr>\n",
       "      <th>2</th>\n",
       "      <td>Email Opened</td>\n",
       "      <td>2.08</td>\n",
       "    </tr>\n",
       "    <tr>\n",
       "      <th>15</th>\n",
       "      <td>Total Time Spent on Website</td>\n",
       "      <td>2.01</td>\n",
       "    </tr>\n",
       "    <tr>\n",
       "      <th>6</th>\n",
       "      <td>Mumbai</td>\n",
       "      <td>2.01</td>\n",
       "    </tr>\n",
       "    <tr>\n",
       "      <th>8</th>\n",
       "      <td>Olark Chat</td>\n",
       "      <td>1.63</td>\n",
       "    </tr>\n",
       "    <tr>\n",
       "      <th>7</th>\n",
       "      <td>Direct Traffic</td>\n",
       "      <td>1.48</td>\n",
       "    </tr>\n",
       "    <tr>\n",
       "      <th>5</th>\n",
       "      <td>Page Visited on Website</td>\n",
       "      <td>1.25</td>\n",
       "    </tr>\n",
       "    <tr>\n",
       "      <th>13</th>\n",
       "      <td>Do Not Email</td>\n",
       "      <td>1.23</td>\n",
       "    </tr>\n",
       "    <tr>\n",
       "      <th>9</th>\n",
       "      <td>Reference</td>\n",
       "      <td>1.13</td>\n",
       "    </tr>\n",
       "    <tr>\n",
       "      <th>4</th>\n",
       "      <td>Olark Chat Conversation</td>\n",
       "      <td>1.11</td>\n",
       "    </tr>\n",
       "    <tr>\n",
       "      <th>0</th>\n",
       "      <td>Email Bounced</td>\n",
       "      <td>1.10</td>\n",
       "    </tr>\n",
       "    <tr>\n",
       "      <th>1</th>\n",
       "      <td>Email Link Clicked</td>\n",
       "      <td>1.08</td>\n",
       "    </tr>\n",
       "    <tr>\n",
       "      <th>10</th>\n",
       "      <td>Referral Sites</td>\n",
       "      <td>1.06</td>\n",
       "    </tr>\n",
       "    <tr>\n",
       "      <th>11</th>\n",
       "      <td>Welingak Website</td>\n",
       "      <td>1.04</td>\n",
       "    </tr>\n",
       "  </tbody>\n",
       "</table>\n",
       "</div>"
      ],
      "text/plain": [
       "                       Features   VIF\n",
       "16         Page Views Per Visit  5.73\n",
       "14                  TotalVisits  5.34\n",
       "12                  Lead Number  3.37\n",
       "3                      Modified  2.31\n",
       "2                  Email Opened  2.08\n",
       "15  Total Time Spent on Website  2.01\n",
       "6                        Mumbai  2.01\n",
       "8                    Olark Chat  1.63\n",
       "7                Direct Traffic  1.48\n",
       "5       Page Visited on Website  1.25\n",
       "13                 Do Not Email  1.23\n",
       "9                     Reference  1.13\n",
       "4       Olark Chat Conversation  1.11\n",
       "0                 Email Bounced  1.10\n",
       "1            Email Link Clicked  1.08\n",
       "10               Referral Sites  1.06\n",
       "11             Welingak Website  1.04"
      ]
     },
     "execution_count": 98,
     "metadata": {},
     "output_type": "execute_result"
    }
   ],
   "source": [
    "vif = pd.DataFrame()\n",
    "vif['Features'] = X_train.columns\n",
    "vif['VIF'] = [variance_inflation_factor(X_train.values, i) for i in range(X_train.shape[1])]\n",
    "vif['VIF'] = round(vif['VIF'], 2)\n",
    "vif = vif.sort_values(by='VIF', ascending=False)\n",
    "vif"
   ]
  },
  {
   "cell_type": "markdown",
   "metadata": {},
   "source": [
    "*Dropping `Page Views Per Visit`*"
   ]
  },
  {
   "cell_type": "code",
   "execution_count": 99,
   "metadata": {},
   "outputs": [],
   "source": [
    "X_train.drop('Page Views Per Visit', axis=1, inplace=True)"
   ]
  },
  {
   "cell_type": "code",
   "execution_count": 100,
   "metadata": {},
   "outputs": [
    {
     "name": "stdout",
     "output_type": "stream",
     "text": [
      "                 Generalized Linear Model Regression Results                  \n",
      "==============================================================================\n",
      "Dep. Variable:              Converted   No. Observations:                 7392\n",
      "Model:                            GLM   Df Residuals:                     7375\n",
      "Model Family:                Binomial   Df Model:                           16\n",
      "Link Function:                  logit   Scale:                          1.0000\n",
      "Method:                          IRLS   Log-Likelihood:                -3288.7\n",
      "Date:                Sat, 29 Feb 2020   Deviance:                       6577.4\n",
      "Time:                        13:49:16   Pearson chi2:                 7.58e+03\n",
      "No. Iterations:                     7   Covariance Type:             nonrobust\n",
      "===============================================================================================\n",
      "                                  coef    std err          z      P>|z|      [0.025      0.975]\n",
      "-----------------------------------------------------------------------------------------------\n",
      "const                          -0.7547      0.108     -6.956      0.000      -0.967      -0.542\n",
      "Email Bounced                  -1.3913      0.475     -2.928      0.003      -2.323      -0.460\n",
      "Email Link Clicked             -1.9287      0.239     -8.079      0.000      -2.397      -1.461\n",
      "Email Opened                   -1.4620      0.081    -18.103      0.000      -1.620      -1.304\n",
      "Modified                       -2.1461      0.085    -25.216      0.000      -2.313      -1.979\n",
      "Olark Chat Conversation        -2.7405      0.294     -9.308      0.000      -3.318      -2.163\n",
      "Page Visited on Website        -1.8882      0.183    -10.324      0.000      -2.247      -1.530\n",
      "Mumbai                         -0.3854      0.062     -6.206      0.000      -0.507      -0.264\n",
      "Direct Traffic                 -0.2421      0.075     -3.234      0.001      -0.389      -0.095\n",
      "Olark Chat                      0.9997      0.106      9.440      0.000       0.792       1.207\n",
      "Reference                       4.1364      0.196     21.074      0.000       3.752       4.521\n",
      "Referral Sites                 -0.5695      0.269     -2.118      0.034      -1.097      -0.042\n",
      "Welingak Website                5.6824      0.727      7.821      0.000       4.258       7.107\n",
      "Lead Number                     0.5946      0.113      5.280      0.000       0.374       0.815\n",
      "Do Not Email                   -1.3666      0.157     -8.711      0.000      -1.674      -1.059\n",
      "TotalVisits                     0.6733      0.162      4.147      0.000       0.355       0.991\n",
      "Total Time Spent on Website     4.5653      0.149     30.648      0.000       4.273       4.857\n",
      "===============================================================================================\n"
     ]
    }
   ],
   "source": [
    "X_train_sm = sm.add_constant(X_train)\n",
    "model_10 = sm.GLM(y_train, X_train_sm, family=sm.families.Binomial()).fit()\n",
    "print(model_10.summary())"
   ]
  },
  {
   "cell_type": "code",
   "execution_count": 101,
   "metadata": {},
   "outputs": [
    {
     "data": {
      "text/html": [
       "<div>\n",
       "<style scoped>\n",
       "    .dataframe tbody tr th:only-of-type {\n",
       "        vertical-align: middle;\n",
       "    }\n",
       "\n",
       "    .dataframe tbody tr th {\n",
       "        vertical-align: top;\n",
       "    }\n",
       "\n",
       "    .dataframe thead th {\n",
       "        text-align: right;\n",
       "    }\n",
       "</style>\n",
       "<table border=\"1\" class=\"dataframe\">\n",
       "  <thead>\n",
       "    <tr style=\"text-align: right;\">\n",
       "      <th></th>\n",
       "      <th>Features</th>\n",
       "      <th>VIF</th>\n",
       "    </tr>\n",
       "  </thead>\n",
       "  <tbody>\n",
       "    <tr>\n",
       "      <th>12</th>\n",
       "      <td>Lead Number</td>\n",
       "      <td>3.25</td>\n",
       "    </tr>\n",
       "    <tr>\n",
       "      <th>14</th>\n",
       "      <td>TotalVisits</td>\n",
       "      <td>2.80</td>\n",
       "    </tr>\n",
       "    <tr>\n",
       "      <th>3</th>\n",
       "      <td>Modified</td>\n",
       "      <td>2.29</td>\n",
       "    </tr>\n",
       "    <tr>\n",
       "      <th>2</th>\n",
       "      <td>Email Opened</td>\n",
       "      <td>2.07</td>\n",
       "    </tr>\n",
       "    <tr>\n",
       "      <th>6</th>\n",
       "      <td>Mumbai</td>\n",
       "      <td>1.99</td>\n",
       "    </tr>\n",
       "    <tr>\n",
       "      <th>15</th>\n",
       "      <td>Total Time Spent on Website</td>\n",
       "      <td>1.97</td>\n",
       "    </tr>\n",
       "    <tr>\n",
       "      <th>8</th>\n",
       "      <td>Olark Chat</td>\n",
       "      <td>1.58</td>\n",
       "    </tr>\n",
       "    <tr>\n",
       "      <th>7</th>\n",
       "      <td>Direct Traffic</td>\n",
       "      <td>1.48</td>\n",
       "    </tr>\n",
       "    <tr>\n",
       "      <th>13</th>\n",
       "      <td>Do Not Email</td>\n",
       "      <td>1.22</td>\n",
       "    </tr>\n",
       "    <tr>\n",
       "      <th>5</th>\n",
       "      <td>Page Visited on Website</td>\n",
       "      <td>1.21</td>\n",
       "    </tr>\n",
       "    <tr>\n",
       "      <th>9</th>\n",
       "      <td>Reference</td>\n",
       "      <td>1.12</td>\n",
       "    </tr>\n",
       "    <tr>\n",
       "      <th>4</th>\n",
       "      <td>Olark Chat Conversation</td>\n",
       "      <td>1.11</td>\n",
       "    </tr>\n",
       "    <tr>\n",
       "      <th>0</th>\n",
       "      <td>Email Bounced</td>\n",
       "      <td>1.10</td>\n",
       "    </tr>\n",
       "    <tr>\n",
       "      <th>1</th>\n",
       "      <td>Email Link Clicked</td>\n",
       "      <td>1.08</td>\n",
       "    </tr>\n",
       "    <tr>\n",
       "      <th>10</th>\n",
       "      <td>Referral Sites</td>\n",
       "      <td>1.06</td>\n",
       "    </tr>\n",
       "    <tr>\n",
       "      <th>11</th>\n",
       "      <td>Welingak Website</td>\n",
       "      <td>1.03</td>\n",
       "    </tr>\n",
       "  </tbody>\n",
       "</table>\n",
       "</div>"
      ],
      "text/plain": [
       "                       Features   VIF\n",
       "12                  Lead Number  3.25\n",
       "14                  TotalVisits  2.80\n",
       "3                      Modified  2.29\n",
       "2                  Email Opened  2.07\n",
       "6                        Mumbai  1.99\n",
       "15  Total Time Spent on Website  1.97\n",
       "8                    Olark Chat  1.58\n",
       "7                Direct Traffic  1.48\n",
       "13                 Do Not Email  1.22\n",
       "5       Page Visited on Website  1.21\n",
       "9                     Reference  1.12\n",
       "4       Olark Chat Conversation  1.11\n",
       "0                 Email Bounced  1.10\n",
       "1            Email Link Clicked  1.08\n",
       "10               Referral Sites  1.06\n",
       "11             Welingak Website  1.03"
      ]
     },
     "execution_count": 101,
     "metadata": {},
     "output_type": "execute_result"
    }
   ],
   "source": [
    "vif = pd.DataFrame()\n",
    "vif['Features'] = X_train.columns\n",
    "vif['VIF'] = [variance_inflation_factor(X_train.values, i) for i in range(X_train.shape[1])]\n",
    "vif['VIF'] = round(vif['VIF'], 2)\n",
    "vif = vif.sort_values(by='VIF', ascending=False)\n",
    "vif"
   ]
  },
  {
   "cell_type": "markdown",
   "metadata": {},
   "source": [
    "*Both the `p-values` and the `VIF` are within permissible limits.*"
   ]
  },
  {
   "cell_type": "code",
   "execution_count": 102,
   "metadata": {},
   "outputs": [],
   "source": [
    "y_train_pred = pd.DataFrame(df_train['Prospect ID'])\n",
    "y_train_pred['Converted'] = df_train['Converted']\n",
    "y_train_pred['Probability'] = model_10.predict(X_train_sm)"
   ]
  },
  {
   "cell_type": "code",
   "execution_count": 103,
   "metadata": {},
   "outputs": [
    {
     "data": {
      "text/html": [
       "<div>\n",
       "<style scoped>\n",
       "    .dataframe tbody tr th:only-of-type {\n",
       "        vertical-align: middle;\n",
       "    }\n",
       "\n",
       "    .dataframe tbody tr th {\n",
       "        vertical-align: top;\n",
       "    }\n",
       "\n",
       "    .dataframe thead th {\n",
       "        text-align: right;\n",
       "    }\n",
       "</style>\n",
       "<table border=\"1\" class=\"dataframe\">\n",
       "  <thead>\n",
       "    <tr style=\"text-align: right;\">\n",
       "      <th></th>\n",
       "      <th>Prospect ID</th>\n",
       "      <th>Converted</th>\n",
       "      <th>Probability</th>\n",
       "    </tr>\n",
       "  </thead>\n",
       "  <tbody>\n",
       "    <tr>\n",
       "      <th>7263</th>\n",
       "      <td>1f2af90a-a1b4-42c2-9a4e-462f0c886d93</td>\n",
       "      <td>1</td>\n",
       "      <td>0.142255</td>\n",
       "    </tr>\n",
       "    <tr>\n",
       "      <th>6468</th>\n",
       "      <td>1c198af1-9fc1-4d9a-819b-7a79d606279e</td>\n",
       "      <td>0</td>\n",
       "      <td>0.299607</td>\n",
       "    </tr>\n",
       "    <tr>\n",
       "      <th>7833</th>\n",
       "      <td>18c7500e-7864-488f-838d-d6a624cddb1f</td>\n",
       "      <td>1</td>\n",
       "      <td>0.340783</td>\n",
       "    </tr>\n",
       "    <tr>\n",
       "      <th>4461</th>\n",
       "      <td>6e08a1d7-b3e8-40a8-948f-09c85257c62b</td>\n",
       "      <td>0</td>\n",
       "      <td>0.925055</td>\n",
       "    </tr>\n",
       "    <tr>\n",
       "      <th>8453</th>\n",
       "      <td>2499ad4b-a9c6-4f68-b6f6-5705f649fe7e</td>\n",
       "      <td>0</td>\n",
       "      <td>0.134879</td>\n",
       "    </tr>\n",
       "  </tbody>\n",
       "</table>\n",
       "</div>"
      ],
      "text/plain": [
       "                               Prospect ID  Converted  Probability\n",
       "7263  1f2af90a-a1b4-42c2-9a4e-462f0c886d93          1     0.142255\n",
       "6468  1c198af1-9fc1-4d9a-819b-7a79d606279e          0     0.299607\n",
       "7833  18c7500e-7864-488f-838d-d6a624cddb1f          1     0.340783\n",
       "4461  6e08a1d7-b3e8-40a8-948f-09c85257c62b          0     0.925055\n",
       "8453  2499ad4b-a9c6-4f68-b6f6-5705f649fe7e          0     0.134879"
      ]
     },
     "execution_count": 103,
     "metadata": {},
     "output_type": "execute_result"
    }
   ],
   "source": [
    "y_train_pred.head()"
   ]
  },
  {
   "cell_type": "markdown",
   "metadata": {},
   "source": [
    "*Let's now use different cut offs to make the predictions*"
   ]
  },
  {
   "cell_type": "code",
   "execution_count": 104,
   "metadata": {},
   "outputs": [],
   "source": [
    "num = [i/10 for i in range(10)]\n",
    "for i in num:\n",
    "    y_train_pred[i] = y_train_pred['Probability'].apply(lambda x : 1 if x>i else 0)"
   ]
  },
  {
   "cell_type": "code",
   "execution_count": 105,
   "metadata": {},
   "outputs": [
    {
     "data": {
      "text/html": [
       "<div>\n",
       "<style scoped>\n",
       "    .dataframe tbody tr th:only-of-type {\n",
       "        vertical-align: middle;\n",
       "    }\n",
       "\n",
       "    .dataframe tbody tr th {\n",
       "        vertical-align: top;\n",
       "    }\n",
       "\n",
       "    .dataframe thead th {\n",
       "        text-align: right;\n",
       "    }\n",
       "</style>\n",
       "<table border=\"1\" class=\"dataframe\">\n",
       "  <thead>\n",
       "    <tr style=\"text-align: right;\">\n",
       "      <th></th>\n",
       "      <th>Prospect ID</th>\n",
       "      <th>Converted</th>\n",
       "      <th>Probability</th>\n",
       "      <th>0.0</th>\n",
       "      <th>0.1</th>\n",
       "      <th>0.2</th>\n",
       "      <th>0.3</th>\n",
       "      <th>0.4</th>\n",
       "      <th>0.5</th>\n",
       "      <th>0.6</th>\n",
       "      <th>0.7</th>\n",
       "      <th>0.8</th>\n",
       "      <th>0.9</th>\n",
       "    </tr>\n",
       "  </thead>\n",
       "  <tbody>\n",
       "    <tr>\n",
       "      <th>7263</th>\n",
       "      <td>1f2af90a-a1b4-42c2-9a4e-462f0c886d93</td>\n",
       "      <td>1</td>\n",
       "      <td>0.142255</td>\n",
       "      <td>1</td>\n",
       "      <td>1</td>\n",
       "      <td>0</td>\n",
       "      <td>0</td>\n",
       "      <td>0</td>\n",
       "      <td>0</td>\n",
       "      <td>0</td>\n",
       "      <td>0</td>\n",
       "      <td>0</td>\n",
       "      <td>0</td>\n",
       "    </tr>\n",
       "    <tr>\n",
       "      <th>6468</th>\n",
       "      <td>1c198af1-9fc1-4d9a-819b-7a79d606279e</td>\n",
       "      <td>0</td>\n",
       "      <td>0.299607</td>\n",
       "      <td>1</td>\n",
       "      <td>1</td>\n",
       "      <td>1</td>\n",
       "      <td>0</td>\n",
       "      <td>0</td>\n",
       "      <td>0</td>\n",
       "      <td>0</td>\n",
       "      <td>0</td>\n",
       "      <td>0</td>\n",
       "      <td>0</td>\n",
       "    </tr>\n",
       "    <tr>\n",
       "      <th>7833</th>\n",
       "      <td>18c7500e-7864-488f-838d-d6a624cddb1f</td>\n",
       "      <td>1</td>\n",
       "      <td>0.340783</td>\n",
       "      <td>1</td>\n",
       "      <td>1</td>\n",
       "      <td>1</td>\n",
       "      <td>1</td>\n",
       "      <td>0</td>\n",
       "      <td>0</td>\n",
       "      <td>0</td>\n",
       "      <td>0</td>\n",
       "      <td>0</td>\n",
       "      <td>0</td>\n",
       "    </tr>\n",
       "    <tr>\n",
       "      <th>4461</th>\n",
       "      <td>6e08a1d7-b3e8-40a8-948f-09c85257c62b</td>\n",
       "      <td>0</td>\n",
       "      <td>0.925055</td>\n",
       "      <td>1</td>\n",
       "      <td>1</td>\n",
       "      <td>1</td>\n",
       "      <td>1</td>\n",
       "      <td>1</td>\n",
       "      <td>1</td>\n",
       "      <td>1</td>\n",
       "      <td>1</td>\n",
       "      <td>1</td>\n",
       "      <td>1</td>\n",
       "    </tr>\n",
       "    <tr>\n",
       "      <th>8453</th>\n",
       "      <td>2499ad4b-a9c6-4f68-b6f6-5705f649fe7e</td>\n",
       "      <td>0</td>\n",
       "      <td>0.134879</td>\n",
       "      <td>1</td>\n",
       "      <td>1</td>\n",
       "      <td>0</td>\n",
       "      <td>0</td>\n",
       "      <td>0</td>\n",
       "      <td>0</td>\n",
       "      <td>0</td>\n",
       "      <td>0</td>\n",
       "      <td>0</td>\n",
       "      <td>0</td>\n",
       "    </tr>\n",
       "  </tbody>\n",
       "</table>\n",
       "</div>"
      ],
      "text/plain": [
       "                               Prospect ID  Converted  Probability  0.0  0.1  \\\n",
       "7263  1f2af90a-a1b4-42c2-9a4e-462f0c886d93          1     0.142255    1    1   \n",
       "6468  1c198af1-9fc1-4d9a-819b-7a79d606279e          0     0.299607    1    1   \n",
       "7833  18c7500e-7864-488f-838d-d6a624cddb1f          1     0.340783    1    1   \n",
       "4461  6e08a1d7-b3e8-40a8-948f-09c85257c62b          0     0.925055    1    1   \n",
       "8453  2499ad4b-a9c6-4f68-b6f6-5705f649fe7e          0     0.134879    1    1   \n",
       "\n",
       "      0.2  0.3  0.4  0.5  0.6  0.7  0.8  0.9  \n",
       "7263    0    0    0    0    0    0    0    0  \n",
       "6468    1    0    0    0    0    0    0    0  \n",
       "7833    1    1    0    0    0    0    0    0  \n",
       "4461    1    1    1    1    1    1    1    1  \n",
       "8453    0    0    0    0    0    0    0    0  "
      ]
     },
     "execution_count": 105,
     "metadata": {},
     "output_type": "execute_result"
    }
   ],
   "source": [
    "y_train_pred.head()"
   ]
  },
  {
   "cell_type": "code",
   "execution_count": 106,
   "metadata": {},
   "outputs": [],
   "source": [
    "from sklearn.metrics import confusion_matrix\n",
    "diff_cutoffs = pd.DataFrame(columns = ['Cut off', 'Accuracy', 'Sensitivity', 'Specificity'])\n",
    "for i in num:\n",
    "    cm = confusion_matrix(y_train_pred['Converted'], y_train_pred[i])\n",
    "    total = sum(sum(cm))\n",
    "    acc = (cm[0,0]+cm[1,1])/(total)\n",
    "    sensi = cm[1,1]/(cm[1,1]+cm[1,0])\n",
    "    speci = cm[0,0]/(cm[0,0]+cm[0,1])\n",
    "    diff_cutoffs.loc[i] = [i, acc, sensi, speci]"
   ]
  },
  {
   "cell_type": "code",
   "execution_count": 107,
   "metadata": {},
   "outputs": [],
   "source": [
    "diff_cutoffs.reset_index(drop=True, inplace=True)"
   ]
  },
  {
   "cell_type": "code",
   "execution_count": 108,
   "metadata": {},
   "outputs": [
    {
     "data": {
      "text/html": [
       "<div>\n",
       "<style scoped>\n",
       "    .dataframe tbody tr th:only-of-type {\n",
       "        vertical-align: middle;\n",
       "    }\n",
       "\n",
       "    .dataframe tbody tr th {\n",
       "        vertical-align: top;\n",
       "    }\n",
       "\n",
       "    .dataframe thead th {\n",
       "        text-align: right;\n",
       "    }\n",
       "</style>\n",
       "<table border=\"1\" class=\"dataframe\">\n",
       "  <thead>\n",
       "    <tr style=\"text-align: right;\">\n",
       "      <th></th>\n",
       "      <th>Cut off</th>\n",
       "      <th>Accuracy</th>\n",
       "      <th>Sensitivity</th>\n",
       "      <th>Specificity</th>\n",
       "    </tr>\n",
       "  </thead>\n",
       "  <tbody>\n",
       "    <tr>\n",
       "      <th>0</th>\n",
       "      <td>0.0</td>\n",
       "      <td>0.382711</td>\n",
       "      <td>1.000000</td>\n",
       "      <td>0.000000</td>\n",
       "    </tr>\n",
       "    <tr>\n",
       "      <th>1</th>\n",
       "      <td>0.1</td>\n",
       "      <td>0.530438</td>\n",
       "      <td>0.967833</td>\n",
       "      <td>0.259259</td>\n",
       "    </tr>\n",
       "    <tr>\n",
       "      <th>2</th>\n",
       "      <td>0.2</td>\n",
       "      <td>0.738095</td>\n",
       "      <td>0.902439</td>\n",
       "      <td>0.636204</td>\n",
       "    </tr>\n",
       "    <tr>\n",
       "      <th>3</th>\n",
       "      <td>0.3</td>\n",
       "      <td>0.794643</td>\n",
       "      <td>0.831743</td>\n",
       "      <td>0.771641</td>\n",
       "    </tr>\n",
       "    <tr>\n",
       "      <th>4</th>\n",
       "      <td>0.4</td>\n",
       "      <td>0.800460</td>\n",
       "      <td>0.761046</td>\n",
       "      <td>0.824896</td>\n",
       "    </tr>\n",
       "    <tr>\n",
       "      <th>5</th>\n",
       "      <td>0.5</td>\n",
       "      <td>0.796537</td>\n",
       "      <td>0.670201</td>\n",
       "      <td>0.874863</td>\n",
       "    </tr>\n",
       "    <tr>\n",
       "      <th>6</th>\n",
       "      <td>0.6</td>\n",
       "      <td>0.785038</td>\n",
       "      <td>0.573701</td>\n",
       "      <td>0.916064</td>\n",
       "    </tr>\n",
       "    <tr>\n",
       "      <th>7</th>\n",
       "      <td>0.7</td>\n",
       "      <td>0.761634</td>\n",
       "      <td>0.465889</td>\n",
       "      <td>0.944992</td>\n",
       "    </tr>\n",
       "    <tr>\n",
       "      <th>8</th>\n",
       "      <td>0.8</td>\n",
       "      <td>0.736878</td>\n",
       "      <td>0.365147</td>\n",
       "      <td>0.967346</td>\n",
       "    </tr>\n",
       "    <tr>\n",
       "      <th>9</th>\n",
       "      <td>0.9</td>\n",
       "      <td>0.692505</td>\n",
       "      <td>0.214917</td>\n",
       "      <td>0.988604</td>\n",
       "    </tr>\n",
       "  </tbody>\n",
       "</table>\n",
       "</div>"
      ],
      "text/plain": [
       "   Cut off  Accuracy  Sensitivity  Specificity\n",
       "0      0.0  0.382711     1.000000     0.000000\n",
       "1      0.1  0.530438     0.967833     0.259259\n",
       "2      0.2  0.738095     0.902439     0.636204\n",
       "3      0.3  0.794643     0.831743     0.771641\n",
       "4      0.4  0.800460     0.761046     0.824896\n",
       "5      0.5  0.796537     0.670201     0.874863\n",
       "6      0.6  0.785038     0.573701     0.916064\n",
       "7      0.7  0.761634     0.465889     0.944992\n",
       "8      0.8  0.736878     0.365147     0.967346\n",
       "9      0.9  0.692505     0.214917     0.988604"
      ]
     },
     "execution_count": 108,
     "metadata": {},
     "output_type": "execute_result"
    }
   ],
   "source": [
    "diff_cutoffs"
   ]
  },
  {
   "cell_type": "code",
   "execution_count": 109,
   "metadata": {},
   "outputs": [
    {
     "data": {
      "image/png": "[encoded data removed]",
      "text/plain": [
       "<Figure size 432x288 with 1 Axes>"
      ]
     },
     "metadata": {
      "needs_background": "light"
     },
     "output_type": "display_data"
    }
   ],
   "source": [
    "diff_cutoffs.plot.line(x='Cut off', y=['Accuracy', 'Sensitivity', 'Specificity'])\n",
    "plt.xlabel('Cut off Values')\n",
    "plt.ylabel('Values')\n",
    "plt.show()"
   ]
  },
  {
   "cell_type": "markdown",
   "metadata": {},
   "source": [
    "*Let's select the cut off = 0.3*"
   ]
  },
  {
   "cell_type": "code",
   "execution_count": 110,
   "metadata": {},
   "outputs": [
    {
     "data": {
      "text/html": [
       "<div>\n",
       "<style scoped>\n",
       "    .dataframe tbody tr th:only-of-type {\n",
       "        vertical-align: middle;\n",
       "    }\n",
       "\n",
       "    .dataframe tbody tr th {\n",
       "        vertical-align: top;\n",
       "    }\n",
       "\n",
       "    .dataframe thead th {\n",
       "        text-align: right;\n",
       "    }\n",
       "</style>\n",
       "<table border=\"1\" class=\"dataframe\">\n",
       "  <thead>\n",
       "    <tr style=\"text-align: right;\">\n",
       "      <th></th>\n",
       "      <th>Prospect ID</th>\n",
       "      <th>Converted</th>\n",
       "      <th>Probability</th>\n",
       "      <th>0.3</th>\n",
       "    </tr>\n",
       "  </thead>\n",
       "  <tbody>\n",
       "    <tr>\n",
       "      <th>7263</th>\n",
       "      <td>1f2af90a-a1b4-42c2-9a4e-462f0c886d93</td>\n",
       "      <td>1</td>\n",
       "      <td>0.142255</td>\n",
       "      <td>0</td>\n",
       "    </tr>\n",
       "    <tr>\n",
       "      <th>6468</th>\n",
       "      <td>1c198af1-9fc1-4d9a-819b-7a79d606279e</td>\n",
       "      <td>0</td>\n",
       "      <td>0.299607</td>\n",
       "      <td>0</td>\n",
       "    </tr>\n",
       "    <tr>\n",
       "      <th>7833</th>\n",
       "      <td>18c7500e-7864-488f-838d-d6a624cddb1f</td>\n",
       "      <td>1</td>\n",
       "      <td>0.340783</td>\n",
       "      <td>1</td>\n",
       "    </tr>\n",
       "    <tr>\n",
       "      <th>4461</th>\n",
       "      <td>6e08a1d7-b3e8-40a8-948f-09c85257c62b</td>\n",
       "      <td>0</td>\n",
       "      <td>0.925055</td>\n",
       "      <td>1</td>\n",
       "    </tr>\n",
       "    <tr>\n",
       "      <th>8453</th>\n",
       "      <td>2499ad4b-a9c6-4f68-b6f6-5705f649fe7e</td>\n",
       "      <td>0</td>\n",
       "      <td>0.134879</td>\n",
       "      <td>0</td>\n",
       "    </tr>\n",
       "  </tbody>\n",
       "</table>\n",
       "</div>"
      ],
      "text/plain": [
       "                               Prospect ID  Converted  Probability  0.3\n",
       "7263  1f2af90a-a1b4-42c2-9a4e-462f0c886d93          1     0.142255    0\n",
       "6468  1c198af1-9fc1-4d9a-819b-7a79d606279e          0     0.299607    0\n",
       "7833  18c7500e-7864-488f-838d-d6a624cddb1f          1     0.340783    1\n",
       "4461  6e08a1d7-b3e8-40a8-948f-09c85257c62b          0     0.925055    1\n",
       "8453  2499ad4b-a9c6-4f68-b6f6-5705f649fe7e          0     0.134879    0"
      ]
     },
     "execution_count": 110,
     "metadata": {},
     "output_type": "execute_result"
    }
   ],
   "source": [
    "y_train_pred[['Prospect ID', 'Converted', 'Probability', 0.3]].head()"
   ]
  },
  {
   "cell_type": "markdown",
   "metadata": {},
   "source": [
    "*Let's now make use of the ROC Curve*"
   ]
  },
  {
   "cell_type": "code",
   "execution_count": 111,
   "metadata": {},
   "outputs": [
    {
     "data": {
      "image/png": "[encoded data removed]",
      "text/plain": [
       "<Figure size 432x288 with 1 Axes>"
      ]
     },
     "metadata": {
      "needs_background": "light"
     },
     "output_type": "display_data"
    }
   ],
   "source": [
    "from sklearn.metrics import roc_curve, roc_auc_score\n",
    "false_pr, true_pr, thresh = roc_curve(y_train, y_train_pred[0.3])\n",
    "\n",
    "plt.plot(false_pr, true_pr)\n",
    "plt.plot([0, 1], [0, 1], '--')\n",
    "plt.xlabel('False Positive Rate (1-Specificity)', fontsize=20)\n",
    "plt.ylabel('True Positive Rate (Sensitivity)', fontsize=15)\n",
    "plt.title('ROC Curve', fontsize=20)\n",
    "plt.show()"
   ]
  },
  {
   "cell_type": "markdown",
   "metadata": {},
   "source": [
    "*Let's now also make the predictions on test data*"
   ]
  },
  {
   "cell_type": "code",
   "execution_count": 112,
   "metadata": {},
   "outputs": [],
   "source": [
    "X_test = df_test[X_train.columns]\n",
    "y_test = df_test['Converted']"
   ]
  },
  {
   "cell_type": "code",
   "execution_count": 113,
   "metadata": {},
   "outputs": [],
   "source": [
    "X_test_sm = sm.add_constant(X_test)"
   ]
  },
  {
   "cell_type": "code",
   "execution_count": 114,
   "metadata": {},
   "outputs": [],
   "source": [
    "y_test_pred = pd.DataFrame(df_test['Prospect ID'])\n",
    "y_test_pred['Converted'] = df_test['Converted']\n",
    "y_test_pred['Probability'] = model_10.predict(X_test_sm)"
   ]
  },
  {
   "cell_type": "code",
   "execution_count": 115,
   "metadata": {},
   "outputs": [],
   "source": [
    "y_test_pred['Predicted'] = y_test_pred['Probability'].apply(lambda x : 1 if x>0.3 else 0)"
   ]
  },
  {
   "cell_type": "code",
   "execution_count": 116,
   "metadata": {},
   "outputs": [
    {
     "data": {
      "text/html": [
       "<div>\n",
       "<style scoped>\n",
       "    .dataframe tbody tr th:only-of-type {\n",
       "        vertical-align: middle;\n",
       "    }\n",
       "\n",
       "    .dataframe tbody tr th {\n",
       "        vertical-align: top;\n",
       "    }\n",
       "\n",
       "    .dataframe thead th {\n",
       "        text-align: right;\n",
       "    }\n",
       "</style>\n",
       "<table border=\"1\" class=\"dataframe\">\n",
       "  <thead>\n",
       "    <tr style=\"text-align: right;\">\n",
       "      <th></th>\n",
       "      <th>Prospect ID</th>\n",
       "      <th>Converted</th>\n",
       "      <th>Probability</th>\n",
       "      <th>Predicted</th>\n",
       "    </tr>\n",
       "  </thead>\n",
       "  <tbody>\n",
       "    <tr>\n",
       "      <th>4269</th>\n",
       "      <td>dd53b3eb-ae22-474c-b872-48b05bbe180b</td>\n",
       "      <td>1</td>\n",
       "      <td>0.794567</td>\n",
       "      <td>1</td>\n",
       "    </tr>\n",
       "    <tr>\n",
       "      <th>2376</th>\n",
       "      <td>7a960b03-466c-4e36-bf12-b755fc77a0b1</td>\n",
       "      <td>1</td>\n",
       "      <td>0.978153</td>\n",
       "      <td>1</td>\n",
       "    </tr>\n",
       "    <tr>\n",
       "      <th>7766</th>\n",
       "      <td>2bd5fd90-a8fe-413e-9b8a-28e8469c5a5c</td>\n",
       "      <td>1</td>\n",
       "      <td>0.425931</td>\n",
       "      <td>1</td>\n",
       "    </tr>\n",
       "    <tr>\n",
       "      <th>9199</th>\n",
       "      <td>6eb89ae5-d1e0-4c19-8661-8f9545e0e408</td>\n",
       "      <td>0</td>\n",
       "      <td>0.130275</td>\n",
       "      <td>0</td>\n",
       "    </tr>\n",
       "    <tr>\n",
       "      <th>4359</th>\n",
       "      <td>f7ed6c72-7d36-413c-b2e0-414213c4ceef</td>\n",
       "      <td>1</td>\n",
       "      <td>0.900319</td>\n",
       "      <td>1</td>\n",
       "    </tr>\n",
       "  </tbody>\n",
       "</table>\n",
       "</div>"
      ],
      "text/plain": [
       "                               Prospect ID  Converted  Probability  Predicted\n",
       "4269  dd53b3eb-ae22-474c-b872-48b05bbe180b          1     0.794567          1\n",
       "2376  7a960b03-466c-4e36-bf12-b755fc77a0b1          1     0.978153          1\n",
       "7766  2bd5fd90-a8fe-413e-9b8a-28e8469c5a5c          1     0.425931          1\n",
       "9199  6eb89ae5-d1e0-4c19-8661-8f9545e0e408          0     0.130275          0\n",
       "4359  f7ed6c72-7d36-413c-b2e0-414213c4ceef          1     0.900319          1"
      ]
     },
     "execution_count": 116,
     "metadata": {},
     "output_type": "execute_result"
    }
   ],
   "source": [
    "y_test_pred.head()"
   ]
  },
  {
   "cell_type": "code",
   "execution_count": 117,
   "metadata": {},
   "outputs": [
    {
     "data": {
      "text/plain": [
       "array([[850, 266],\n",
       "       [123, 609]], dtype=int64)"
      ]
     },
     "execution_count": 117,
     "metadata": {},
     "output_type": "execute_result"
    }
   ],
   "source": [
    "confusion_matrix(y_test_pred['Converted'], y_test_pred['Predicted'])"
   ]
  },
  {
   "cell_type": "code",
   "execution_count": 118,
   "metadata": {},
   "outputs": [
    {
     "data": {
      "text/plain": [
       "0.7895021645021645"
      ]
     },
     "execution_count": 118,
     "metadata": {},
     "output_type": "execute_result"
    }
   ],
   "source": [
    "#Accuracy\n",
    "(850+609)/(850+609+266+123)"
   ]
  },
  {
   "cell_type": "code",
   "execution_count": 119,
   "metadata": {},
   "outputs": [
    {
     "data": {
      "text/plain": [
       "0.8319672131147541"
      ]
     },
     "execution_count": 119,
     "metadata": {},
     "output_type": "execute_result"
    }
   ],
   "source": [
    "#Sensitivity\n",
    "609/(609+123)"
   ]
  },
  {
   "cell_type": "code",
   "execution_count": 120,
   "metadata": {},
   "outputs": [
    {
     "data": {
      "text/plain": [
       "0.7616487455197133"
      ]
     },
     "execution_count": 120,
     "metadata": {},
     "output_type": "execute_result"
    }
   ],
   "source": [
    "#Specificity\n",
    "850/(850+266)"
   ]
  },
  {
   "cell_type": "markdown",
   "metadata": {},
   "source": [
    "*Therefore, good values of `Accuracy` and `Specificity` are obtained and especially `Sensitivity` which is also in line with the problem statement*"
   ]
  },
  {
   "cell_type": "code",
   "execution_count": 121,
   "metadata": {},
   "outputs": [
    {
     "data": {
      "text/html": [
       "<div>\n",
       "<style scoped>\n",
       "    .dataframe tbody tr th:only-of-type {\n",
       "        vertical-align: middle;\n",
       "    }\n",
       "\n",
       "    .dataframe tbody tr th {\n",
       "        vertical-align: top;\n",
       "    }\n",
       "\n",
       "    .dataframe thead th {\n",
       "        text-align: right;\n",
       "    }\n",
       "</style>\n",
       "<table border=\"1\" class=\"dataframe\">\n",
       "  <thead>\n",
       "    <tr style=\"text-align: right;\">\n",
       "      <th></th>\n",
       "      <th>Prospect ID</th>\n",
       "      <th>Converted</th>\n",
       "      <th>Probability</th>\n",
       "      <th>Predicted</th>\n",
       "    </tr>\n",
       "  </thead>\n",
       "  <tbody>\n",
       "    <tr>\n",
       "      <th>4269</th>\n",
       "      <td>dd53b3eb-ae22-474c-b872-48b05bbe180b</td>\n",
       "      <td>1</td>\n",
       "      <td>0.794567</td>\n",
       "      <td>1</td>\n",
       "    </tr>\n",
       "    <tr>\n",
       "      <th>2376</th>\n",
       "      <td>7a960b03-466c-4e36-bf12-b755fc77a0b1</td>\n",
       "      <td>1</td>\n",
       "      <td>0.978153</td>\n",
       "      <td>1</td>\n",
       "    </tr>\n",
       "    <tr>\n",
       "      <th>7766</th>\n",
       "      <td>2bd5fd90-a8fe-413e-9b8a-28e8469c5a5c</td>\n",
       "      <td>1</td>\n",
       "      <td>0.425931</td>\n",
       "      <td>1</td>\n",
       "    </tr>\n",
       "    <tr>\n",
       "      <th>9199</th>\n",
       "      <td>6eb89ae5-d1e0-4c19-8661-8f9545e0e408</td>\n",
       "      <td>0</td>\n",
       "      <td>0.130275</td>\n",
       "      <td>0</td>\n",
       "    </tr>\n",
       "    <tr>\n",
       "      <th>4359</th>\n",
       "      <td>f7ed6c72-7d36-413c-b2e0-414213c4ceef</td>\n",
       "      <td>1</td>\n",
       "      <td>0.900319</td>\n",
       "      <td>1</td>\n",
       "    </tr>\n",
       "  </tbody>\n",
       "</table>\n",
       "</div>"
      ],
      "text/plain": [
       "                               Prospect ID  Converted  Probability  Predicted\n",
       "4269  dd53b3eb-ae22-474c-b872-48b05bbe180b          1     0.794567          1\n",
       "2376  7a960b03-466c-4e36-bf12-b755fc77a0b1          1     0.978153          1\n",
       "7766  2bd5fd90-a8fe-413e-9b8a-28e8469c5a5c          1     0.425931          1\n",
       "9199  6eb89ae5-d1e0-4c19-8661-8f9545e0e408          0     0.130275          0\n",
       "4359  f7ed6c72-7d36-413c-b2e0-414213c4ceef          1     0.900319          1"
      ]
     },
     "execution_count": 121,
     "metadata": {},
     "output_type": "execute_result"
    }
   ],
   "source": [
    "y_test_pred.head()"
   ]
  },
  {
   "cell_type": "markdown",
   "metadata": {},
   "source": [
    "### *Let's now obtain the Probabilities for the entire data set for determining the Lead Scores.*"
   ]
  },
  {
   "cell_type": "code",
   "execution_count": 122,
   "metadata": {},
   "outputs": [],
   "source": [
    "y_train_pred_final = y_train_pred[['Prospect ID', 'Converted', 'Probability', 0.3]]"
   ]
  },
  {
   "cell_type": "code",
   "execution_count": 123,
   "metadata": {},
   "outputs": [],
   "source": [
    "y_train_pred_final.columns = ['Prospect ID', 'Converted', 'Probability', 'Predicted']"
   ]
  },
  {
   "cell_type": "code",
   "execution_count": 124,
   "metadata": {},
   "outputs": [],
   "source": [
    "lead_scores = pd.concat([y_train_pred_final, y_test_pred])"
   ]
  },
  {
   "cell_type": "code",
   "execution_count": 125,
   "metadata": {},
   "outputs": [
    {
     "data": {
      "text/html": [
       "<div>\n",
       "<style scoped>\n",
       "    .dataframe tbody tr th:only-of-type {\n",
       "        vertical-align: middle;\n",
       "    }\n",
       "\n",
       "    .dataframe tbody tr th {\n",
       "        vertical-align: top;\n",
       "    }\n",
       "\n",
       "    .dataframe thead th {\n",
       "        text-align: right;\n",
       "    }\n",
       "</style>\n",
       "<table border=\"1\" class=\"dataframe\">\n",
       "  <thead>\n",
       "    <tr style=\"text-align: right;\">\n",
       "      <th></th>\n",
       "      <th>Prospect ID</th>\n",
       "      <th>Converted</th>\n",
       "      <th>Probability</th>\n",
       "      <th>Predicted</th>\n",
       "    </tr>\n",
       "  </thead>\n",
       "  <tbody>\n",
       "    <tr>\n",
       "      <th>7263</th>\n",
       "      <td>1f2af90a-a1b4-42c2-9a4e-462f0c886d93</td>\n",
       "      <td>1</td>\n",
       "      <td>0.142255</td>\n",
       "      <td>0</td>\n",
       "    </tr>\n",
       "    <tr>\n",
       "      <th>6468</th>\n",
       "      <td>1c198af1-9fc1-4d9a-819b-7a79d606279e</td>\n",
       "      <td>0</td>\n",
       "      <td>0.299607</td>\n",
       "      <td>0</td>\n",
       "    </tr>\n",
       "    <tr>\n",
       "      <th>7833</th>\n",
       "      <td>18c7500e-7864-488f-838d-d6a624cddb1f</td>\n",
       "      <td>1</td>\n",
       "      <td>0.340783</td>\n",
       "      <td>1</td>\n",
       "    </tr>\n",
       "    <tr>\n",
       "      <th>4461</th>\n",
       "      <td>6e08a1d7-b3e8-40a8-948f-09c85257c62b</td>\n",
       "      <td>0</td>\n",
       "      <td>0.925055</td>\n",
       "      <td>1</td>\n",
       "    </tr>\n",
       "    <tr>\n",
       "      <th>8453</th>\n",
       "      <td>2499ad4b-a9c6-4f68-b6f6-5705f649fe7e</td>\n",
       "      <td>0</td>\n",
       "      <td>0.134879</td>\n",
       "      <td>0</td>\n",
       "    </tr>\n",
       "  </tbody>\n",
       "</table>\n",
       "</div>"
      ],
      "text/plain": [
       "                               Prospect ID  Converted  Probability  Predicted\n",
       "7263  1f2af90a-a1b4-42c2-9a4e-462f0c886d93          1     0.142255          0\n",
       "6468  1c198af1-9fc1-4d9a-819b-7a79d606279e          0     0.299607          0\n",
       "7833  18c7500e-7864-488f-838d-d6a624cddb1f          1     0.340783          1\n",
       "4461  6e08a1d7-b3e8-40a8-948f-09c85257c62b          0     0.925055          1\n",
       "8453  2499ad4b-a9c6-4f68-b6f6-5705f649fe7e          0     0.134879          0"
      ]
     },
     "execution_count": 125,
     "metadata": {},
     "output_type": "execute_result"
    }
   ],
   "source": [
    "lead_scores.head()"
   ]
  },
  {
   "cell_type": "code",
   "execution_count": 126,
   "metadata": {},
   "outputs": [],
   "source": [
    "lead_scores['Lead Score'] = round(100*lead_scores['Probability'], 2)"
   ]
  },
  {
   "cell_type": "code",
   "execution_count": 127,
   "metadata": {},
   "outputs": [
    {
     "data": {
      "text/html": [
       "<div>\n",
       "<style scoped>\n",
       "    .dataframe tbody tr th:only-of-type {\n",
       "        vertical-align: middle;\n",
       "    }\n",
       "\n",
       "    .dataframe tbody tr th {\n",
       "        vertical-align: top;\n",
       "    }\n",
       "\n",
       "    .dataframe thead th {\n",
       "        text-align: right;\n",
       "    }\n",
       "</style>\n",
       "<table border=\"1\" class=\"dataframe\">\n",
       "  <thead>\n",
       "    <tr style=\"text-align: right;\">\n",
       "      <th></th>\n",
       "      <th>Prospect ID</th>\n",
       "      <th>Converted</th>\n",
       "      <th>Probability</th>\n",
       "      <th>Predicted</th>\n",
       "      <th>Lead Score</th>\n",
       "    </tr>\n",
       "  </thead>\n",
       "  <tbody>\n",
       "    <tr>\n",
       "      <th>7263</th>\n",
       "      <td>1f2af90a-a1b4-42c2-9a4e-462f0c886d93</td>\n",
       "      <td>1</td>\n",
       "      <td>0.142255</td>\n",
       "      <td>0</td>\n",
       "      <td>14.23</td>\n",
       "    </tr>\n",
       "    <tr>\n",
       "      <th>6468</th>\n",
       "      <td>1c198af1-9fc1-4d9a-819b-7a79d606279e</td>\n",
       "      <td>0</td>\n",
       "      <td>0.299607</td>\n",
       "      <td>0</td>\n",
       "      <td>29.96</td>\n",
       "    </tr>\n",
       "    <tr>\n",
       "      <th>7833</th>\n",
       "      <td>18c7500e-7864-488f-838d-d6a624cddb1f</td>\n",
       "      <td>1</td>\n",
       "      <td>0.340783</td>\n",
       "      <td>1</td>\n",
       "      <td>34.08</td>\n",
       "    </tr>\n",
       "    <tr>\n",
       "      <th>4461</th>\n",
       "      <td>6e08a1d7-b3e8-40a8-948f-09c85257c62b</td>\n",
       "      <td>0</td>\n",
       "      <td>0.925055</td>\n",
       "      <td>1</td>\n",
       "      <td>92.51</td>\n",
       "    </tr>\n",
       "    <tr>\n",
       "      <th>8453</th>\n",
       "      <td>2499ad4b-a9c6-4f68-b6f6-5705f649fe7e</td>\n",
       "      <td>0</td>\n",
       "      <td>0.134879</td>\n",
       "      <td>0</td>\n",
       "      <td>13.49</td>\n",
       "    </tr>\n",
       "  </tbody>\n",
       "</table>\n",
       "</div>"
      ],
      "text/plain": [
       "                               Prospect ID  Converted  Probability  Predicted  \\\n",
       "7263  1f2af90a-a1b4-42c2-9a4e-462f0c886d93          1     0.142255          0   \n",
       "6468  1c198af1-9fc1-4d9a-819b-7a79d606279e          0     0.299607          0   \n",
       "7833  18c7500e-7864-488f-838d-d6a624cddb1f          1     0.340783          1   \n",
       "4461  6e08a1d7-b3e8-40a8-948f-09c85257c62b          0     0.925055          1   \n",
       "8453  2499ad4b-a9c6-4f68-b6f6-5705f649fe7e          0     0.134879          0   \n",
       "\n",
       "      Lead Score  \n",
       "7263       14.23  \n",
       "6468       29.96  \n",
       "7833       34.08  \n",
       "4461       92.51  \n",
       "8453       13.49  "
      ]
     },
     "execution_count": 127,
     "metadata": {},
     "output_type": "execute_result"
    }
   ],
   "source": [
    "lead_scores.head()"
   ]
  },
  {
   "cell_type": "markdown",
   "metadata": {},
   "source": [
    "*Let's now consider the Hot Leads as having lead scores more than or equal to 80.*"
   ]
  },
  {
   "cell_type": "code",
   "execution_count": 128,
   "metadata": {},
   "outputs": [],
   "source": [
    "potential_hot_leads = lead_scores[lead_scores['Lead Score']>=80]"
   ]
  },
  {
   "cell_type": "code",
   "execution_count": 129,
   "metadata": {},
   "outputs": [
    {
     "data": {
      "text/html": [
       "<div>\n",
       "<style scoped>\n",
       "    .dataframe tbody tr th:only-of-type {\n",
       "        vertical-align: middle;\n",
       "    }\n",
       "\n",
       "    .dataframe tbody tr th {\n",
       "        vertical-align: top;\n",
       "    }\n",
       "\n",
       "    .dataframe thead th {\n",
       "        text-align: right;\n",
       "    }\n",
       "</style>\n",
       "<table border=\"1\" class=\"dataframe\">\n",
       "  <thead>\n",
       "    <tr style=\"text-align: right;\">\n",
       "      <th></th>\n",
       "      <th>Prospect ID</th>\n",
       "      <th>Converted</th>\n",
       "      <th>Probability</th>\n",
       "      <th>Predicted</th>\n",
       "      <th>Lead Score</th>\n",
       "    </tr>\n",
       "  </thead>\n",
       "  <tbody>\n",
       "    <tr>\n",
       "      <th>7219</th>\n",
       "      <td>ed62264f-7666-4bf9-9cb6-5b9a825f1e67</td>\n",
       "      <td>1</td>\n",
       "      <td>0.999402</td>\n",
       "      <td>1</td>\n",
       "      <td>99.94</td>\n",
       "    </tr>\n",
       "    <tr>\n",
       "      <th>2011</th>\n",
       "      <td>d41b76fd-e215-463c-a9be-6dcfc2440e90</td>\n",
       "      <td>1</td>\n",
       "      <td>0.998486</td>\n",
       "      <td>1</td>\n",
       "      <td>99.85</td>\n",
       "    </tr>\n",
       "    <tr>\n",
       "      <th>2594</th>\n",
       "      <td>597169d6-a4bb-4efb-807b-17b0fd928492</td>\n",
       "      <td>1</td>\n",
       "      <td>0.998145</td>\n",
       "      <td>1</td>\n",
       "      <td>99.81</td>\n",
       "    </tr>\n",
       "    <tr>\n",
       "      <th>6243</th>\n",
       "      <td>d34b684a-7d92-4f13-abfb-8a507ce0351c</td>\n",
       "      <td>1</td>\n",
       "      <td>0.997573</td>\n",
       "      <td>1</td>\n",
       "      <td>99.76</td>\n",
       "    </tr>\n",
       "    <tr>\n",
       "      <th>6620</th>\n",
       "      <td>588ddab6-30c5-4153-a3de-28539113bb5d</td>\n",
       "      <td>1</td>\n",
       "      <td>0.997574</td>\n",
       "      <td>1</td>\n",
       "      <td>99.76</td>\n",
       "    </tr>\n",
       "    <tr>\n",
       "      <th>994</th>\n",
       "      <td>1627d1fe-f39b-4a29-ba9e-ab40ab643d05</td>\n",
       "      <td>1</td>\n",
       "      <td>0.997226</td>\n",
       "      <td>1</td>\n",
       "      <td>99.72</td>\n",
       "    </tr>\n",
       "    <tr>\n",
       "      <th>2158</th>\n",
       "      <td>90866f3e-deb3-46d3-9c98-188d4f1ffdeb</td>\n",
       "      <td>1</td>\n",
       "      <td>0.997135</td>\n",
       "      <td>1</td>\n",
       "      <td>99.71</td>\n",
       "    </tr>\n",
       "    <tr>\n",
       "      <th>949</th>\n",
       "      <td>963516d0-1d43-4952-82a5-67de560c4ef0</td>\n",
       "      <td>1</td>\n",
       "      <td>0.997093</td>\n",
       "      <td>1</td>\n",
       "      <td>99.71</td>\n",
       "    </tr>\n",
       "    <tr>\n",
       "      <th>818</th>\n",
       "      <td>4cb2a48d-e9d2-4845-acb1-baaad08c8c07</td>\n",
       "      <td>1</td>\n",
       "      <td>0.997130</td>\n",
       "      <td>1</td>\n",
       "      <td>99.71</td>\n",
       "    </tr>\n",
       "    <tr>\n",
       "      <th>739</th>\n",
       "      <td>2ccb407a-1cf0-4231-b15a-7ac8a6ad7f05</td>\n",
       "      <td>1</td>\n",
       "      <td>0.996892</td>\n",
       "      <td>1</td>\n",
       "      <td>99.69</td>\n",
       "    </tr>\n",
       "    <tr>\n",
       "      <th>3032</th>\n",
       "      <td>5c053839-badf-4681-9dc8-2c65171ebcec</td>\n",
       "      <td>1</td>\n",
       "      <td>0.996905</td>\n",
       "      <td>1</td>\n",
       "      <td>99.69</td>\n",
       "    </tr>\n",
       "    <tr>\n",
       "      <th>77</th>\n",
       "      <td>895d4905-f534-4f18-915b-8d239a72b5dc</td>\n",
       "      <td>1</td>\n",
       "      <td>0.996752</td>\n",
       "      <td>1</td>\n",
       "      <td>99.68</td>\n",
       "    </tr>\n",
       "    <tr>\n",
       "      <th>6712</th>\n",
       "      <td>ff292035-b1f0-409e-94f3-a5149d72bf0b</td>\n",
       "      <td>1</td>\n",
       "      <td>0.996698</td>\n",
       "      <td>1</td>\n",
       "      <td>99.67</td>\n",
       "    </tr>\n",
       "    <tr>\n",
       "      <th>4832</th>\n",
       "      <td>73c742d1-ee5b-4bb6-8a01-bd06b47d3a5e</td>\n",
       "      <td>1</td>\n",
       "      <td>0.996654</td>\n",
       "      <td>1</td>\n",
       "      <td>99.67</td>\n",
       "    </tr>\n",
       "    <tr>\n",
       "      <th>1614</th>\n",
       "      <td>2a8fcd14-f2f1-4af7-85fd-65215d8d3468</td>\n",
       "      <td>1</td>\n",
       "      <td>0.996534</td>\n",
       "      <td>1</td>\n",
       "      <td>99.65</td>\n",
       "    </tr>\n",
       "    <tr>\n",
       "      <th>180</th>\n",
       "      <td>db2dc4b5-f603-4818-9b0c-0435923a4cd8</td>\n",
       "      <td>1</td>\n",
       "      <td>0.996481</td>\n",
       "      <td>1</td>\n",
       "      <td>99.65</td>\n",
       "    </tr>\n",
       "    <tr>\n",
       "      <th>177</th>\n",
       "      <td>3b74e995-4407-44de-9e59-622afb514261</td>\n",
       "      <td>1</td>\n",
       "      <td>0.996398</td>\n",
       "      <td>1</td>\n",
       "      <td>99.64</td>\n",
       "    </tr>\n",
       "    <tr>\n",
       "      <th>7327</th>\n",
       "      <td>95d1590f-7c47-4f40-9806-388f4472d3a4</td>\n",
       "      <td>1</td>\n",
       "      <td>0.996169</td>\n",
       "      <td>1</td>\n",
       "      <td>99.62</td>\n",
       "    </tr>\n",
       "    <tr>\n",
       "      <th>1548</th>\n",
       "      <td>f3d5ea5f-2b94-41c8-9521-91a445380ce8</td>\n",
       "      <td>1</td>\n",
       "      <td>0.996128</td>\n",
       "      <td>1</td>\n",
       "      <td>99.61</td>\n",
       "    </tr>\n",
       "    <tr>\n",
       "      <th>3615</th>\n",
       "      <td>a29b8db4-3e7b-4f1e-a53b-7c038cee88cc</td>\n",
       "      <td>1</td>\n",
       "      <td>0.996123</td>\n",
       "      <td>1</td>\n",
       "      <td>99.61</td>\n",
       "    </tr>\n",
       "    <tr>\n",
       "      <th>6647</th>\n",
       "      <td>c352fd31-b3b6-4a14-a2bf-14f93add350d</td>\n",
       "      <td>1</td>\n",
       "      <td>0.996054</td>\n",
       "      <td>1</td>\n",
       "      <td>99.61</td>\n",
       "    </tr>\n",
       "    <tr>\n",
       "      <th>2378</th>\n",
       "      <td>8ff353ab-1207-4608-a8cc-8172ea7c12eb</td>\n",
       "      <td>1</td>\n",
       "      <td>0.995750</td>\n",
       "      <td>1</td>\n",
       "      <td>99.57</td>\n",
       "    </tr>\n",
       "    <tr>\n",
       "      <th>631</th>\n",
       "      <td>2c95ac86-9b80-4326-944c-9b69278e6745</td>\n",
       "      <td>1</td>\n",
       "      <td>0.995671</td>\n",
       "      <td>1</td>\n",
       "      <td>99.57</td>\n",
       "    </tr>\n",
       "    <tr>\n",
       "      <th>1046</th>\n",
       "      <td>493f3d95-6e75-4b42-861d-44e77f57f698</td>\n",
       "      <td>1</td>\n",
       "      <td>0.995665</td>\n",
       "      <td>1</td>\n",
       "      <td>99.57</td>\n",
       "    </tr>\n",
       "    <tr>\n",
       "      <th>1261</th>\n",
       "      <td>542a0891-2e52-40ba-ab42-e468b9636322</td>\n",
       "      <td>1</td>\n",
       "      <td>0.995585</td>\n",
       "      <td>1</td>\n",
       "      <td>99.56</td>\n",
       "    </tr>\n",
       "    <tr>\n",
       "      <th>1387</th>\n",
       "      <td>30695f85-f772-469d-81c1-282c6f7e8f8b</td>\n",
       "      <td>1</td>\n",
       "      <td>0.995548</td>\n",
       "      <td>1</td>\n",
       "      <td>99.55</td>\n",
       "    </tr>\n",
       "    <tr>\n",
       "      <th>267</th>\n",
       "      <td>b188ce42-4d14-4a53-80fb-e554ce3959ca</td>\n",
       "      <td>1</td>\n",
       "      <td>0.995443</td>\n",
       "      <td>1</td>\n",
       "      <td>99.54</td>\n",
       "    </tr>\n",
       "    <tr>\n",
       "      <th>1765</th>\n",
       "      <td>255296b5-8a0c-493f-92ac-01f7c0e9cc7d</td>\n",
       "      <td>1</td>\n",
       "      <td>0.995444</td>\n",
       "      <td>1</td>\n",
       "      <td>99.54</td>\n",
       "    </tr>\n",
       "    <tr>\n",
       "      <th>4123</th>\n",
       "      <td>82a2328f-d0c8-4c20-8a58-8a05f616d6c0</td>\n",
       "      <td>1</td>\n",
       "      <td>0.995319</td>\n",
       "      <td>1</td>\n",
       "      <td>99.53</td>\n",
       "    </tr>\n",
       "    <tr>\n",
       "      <th>2163</th>\n",
       "      <td>71df9c8b-3e32-4416-bf69-e100c0203542</td>\n",
       "      <td>1</td>\n",
       "      <td>0.995338</td>\n",
       "      <td>1</td>\n",
       "      <td>99.53</td>\n",
       "    </tr>\n",
       "    <tr>\n",
       "      <th>...</th>\n",
       "      <td>...</td>\n",
       "      <td>...</td>\n",
       "      <td>...</td>\n",
       "      <td>...</td>\n",
       "      <td>...</td>\n",
       "    </tr>\n",
       "    <tr>\n",
       "      <th>5784</th>\n",
       "      <td>4e50d3ad-ebb2-4943-ac53-6838264b90b6</td>\n",
       "      <td>1</td>\n",
       "      <td>0.806040</td>\n",
       "      <td>1</td>\n",
       "      <td>80.60</td>\n",
       "    </tr>\n",
       "    <tr>\n",
       "      <th>5812</th>\n",
       "      <td>a6b19be1-840f-4686-aba0-cff92dec24de</td>\n",
       "      <td>1</td>\n",
       "      <td>0.805942</td>\n",
       "      <td>1</td>\n",
       "      <td>80.59</td>\n",
       "    </tr>\n",
       "    <tr>\n",
       "      <th>4979</th>\n",
       "      <td>d70d7e28-a5f3-4a35-99e6-fd45f32e4f22</td>\n",
       "      <td>1</td>\n",
       "      <td>0.805553</td>\n",
       "      <td>1</td>\n",
       "      <td>80.56</td>\n",
       "    </tr>\n",
       "    <tr>\n",
       "      <th>2400</th>\n",
       "      <td>98a678b6-3475-466c-8a2e-eab4e269c665</td>\n",
       "      <td>1</td>\n",
       "      <td>0.805423</td>\n",
       "      <td>1</td>\n",
       "      <td>80.54</td>\n",
       "    </tr>\n",
       "    <tr>\n",
       "      <th>923</th>\n",
       "      <td>059777fc-6c68-45a3-b24c-1fd12fe99460</td>\n",
       "      <td>1</td>\n",
       "      <td>0.805117</td>\n",
       "      <td>1</td>\n",
       "      <td>80.51</td>\n",
       "    </tr>\n",
       "    <tr>\n",
       "      <th>170</th>\n",
       "      <td>e70118b9-8fc8-4810-b665-3551a60813ef</td>\n",
       "      <td>0</td>\n",
       "      <td>0.805025</td>\n",
       "      <td>1</td>\n",
       "      <td>80.50</td>\n",
       "    </tr>\n",
       "    <tr>\n",
       "      <th>536</th>\n",
       "      <td>6578585b-fd38-4f36-8bfb-35e531848e63</td>\n",
       "      <td>0</td>\n",
       "      <td>0.804834</td>\n",
       "      <td>1</td>\n",
       "      <td>80.48</td>\n",
       "    </tr>\n",
       "    <tr>\n",
       "      <th>3085</th>\n",
       "      <td>f2fa959e-c483-4465-b29d-cdeada18dbea</td>\n",
       "      <td>1</td>\n",
       "      <td>0.804708</td>\n",
       "      <td>1</td>\n",
       "      <td>80.47</td>\n",
       "    </tr>\n",
       "    <tr>\n",
       "      <th>5559</th>\n",
       "      <td>bfc9caf0-56ca-4ce3-81a5-7be14f40e44e</td>\n",
       "      <td>1</td>\n",
       "      <td>0.804474</td>\n",
       "      <td>1</td>\n",
       "      <td>80.45</td>\n",
       "    </tr>\n",
       "    <tr>\n",
       "      <th>1444</th>\n",
       "      <td>f60428c6-c566-4f2f-8a19-746c76c9260c</td>\n",
       "      <td>1</td>\n",
       "      <td>0.804468</td>\n",
       "      <td>1</td>\n",
       "      <td>80.45</td>\n",
       "    </tr>\n",
       "    <tr>\n",
       "      <th>8980</th>\n",
       "      <td>aa503b9c-f853-497f-a1cc-97d6b13312d1</td>\n",
       "      <td>1</td>\n",
       "      <td>0.804233</td>\n",
       "      <td>1</td>\n",
       "      <td>80.42</td>\n",
       "    </tr>\n",
       "    <tr>\n",
       "      <th>7126</th>\n",
       "      <td>7a2a0252-1c30-4692-9810-6b13bbd64929</td>\n",
       "      <td>1</td>\n",
       "      <td>0.804033</td>\n",
       "      <td>1</td>\n",
       "      <td>80.40</td>\n",
       "    </tr>\n",
       "    <tr>\n",
       "      <th>215</th>\n",
       "      <td>82b11e37-cba7-4757-bd73-0cfa33665dba</td>\n",
       "      <td>1</td>\n",
       "      <td>0.803750</td>\n",
       "      <td>1</td>\n",
       "      <td>80.37</td>\n",
       "    </tr>\n",
       "    <tr>\n",
       "      <th>2622</th>\n",
       "      <td>c931f77c-851b-4098-b762-07570bdab4d9</td>\n",
       "      <td>1</td>\n",
       "      <td>0.803650</td>\n",
       "      <td>1</td>\n",
       "      <td>80.37</td>\n",
       "    </tr>\n",
       "    <tr>\n",
       "      <th>7091</th>\n",
       "      <td>ae107016-c7dc-49a2-bd3d-6daa1ad4de1a</td>\n",
       "      <td>1</td>\n",
       "      <td>0.803426</td>\n",
       "      <td>1</td>\n",
       "      <td>80.34</td>\n",
       "    </tr>\n",
       "    <tr>\n",
       "      <th>1905</th>\n",
       "      <td>3167169d-7a0a-42b6-9e20-7819c81ae5e9</td>\n",
       "      <td>1</td>\n",
       "      <td>0.803219</td>\n",
       "      <td>1</td>\n",
       "      <td>80.32</td>\n",
       "    </tr>\n",
       "    <tr>\n",
       "      <th>2716</th>\n",
       "      <td>bdbf000f-6b25-4864-a853-655409f78b85</td>\n",
       "      <td>0</td>\n",
       "      <td>0.803218</td>\n",
       "      <td>1</td>\n",
       "      <td>80.32</td>\n",
       "    </tr>\n",
       "    <tr>\n",
       "      <th>3044</th>\n",
       "      <td>03509345-8a4d-4432-b5a5-49a17f9fdda2</td>\n",
       "      <td>1</td>\n",
       "      <td>0.803097</td>\n",
       "      <td>1</td>\n",
       "      <td>80.31</td>\n",
       "    </tr>\n",
       "    <tr>\n",
       "      <th>1010</th>\n",
       "      <td>3126fae7-18eb-41c9-96d9-f485806de032</td>\n",
       "      <td>1</td>\n",
       "      <td>0.802657</td>\n",
       "      <td>1</td>\n",
       "      <td>80.27</td>\n",
       "    </tr>\n",
       "    <tr>\n",
       "      <th>954</th>\n",
       "      <td>3db9d1cc-ee83-4ba4-b73d-60056c6f40ad</td>\n",
       "      <td>1</td>\n",
       "      <td>0.802659</td>\n",
       "      <td>1</td>\n",
       "      <td>80.27</td>\n",
       "    </tr>\n",
       "    <tr>\n",
       "      <th>1350</th>\n",
       "      <td>ce7249c7-593c-48ca-89d6-99229c92ed27</td>\n",
       "      <td>1</td>\n",
       "      <td>0.802644</td>\n",
       "      <td>1</td>\n",
       "      <td>80.26</td>\n",
       "    </tr>\n",
       "    <tr>\n",
       "      <th>6898</th>\n",
       "      <td>0ce4b42b-9120-40dc-9828-041ee785d6ee</td>\n",
       "      <td>1</td>\n",
       "      <td>0.802082</td>\n",
       "      <td>1</td>\n",
       "      <td>80.21</td>\n",
       "    </tr>\n",
       "    <tr>\n",
       "      <th>4926</th>\n",
       "      <td>195b618f-d944-4da2-8eeb-d21842f0c74e</td>\n",
       "      <td>1</td>\n",
       "      <td>0.801997</td>\n",
       "      <td>1</td>\n",
       "      <td>80.20</td>\n",
       "    </tr>\n",
       "    <tr>\n",
       "      <th>6701</th>\n",
       "      <td>39d2a9e7-deee-4b68-920b-c238a0af9f96</td>\n",
       "      <td>1</td>\n",
       "      <td>0.801869</td>\n",
       "      <td>1</td>\n",
       "      <td>80.19</td>\n",
       "    </tr>\n",
       "    <tr>\n",
       "      <th>2060</th>\n",
       "      <td>23f7ade4-97d7-4d82-b12a-88a6a9f9a9f9</td>\n",
       "      <td>1</td>\n",
       "      <td>0.801888</td>\n",
       "      <td>1</td>\n",
       "      <td>80.19</td>\n",
       "    </tr>\n",
       "    <tr>\n",
       "      <th>4224</th>\n",
       "      <td>5546a107-08cf-49e0-bf76-57434c4eb681</td>\n",
       "      <td>1</td>\n",
       "      <td>0.801343</td>\n",
       "      <td>1</td>\n",
       "      <td>80.13</td>\n",
       "    </tr>\n",
       "    <tr>\n",
       "      <th>3737</th>\n",
       "      <td>eb84b904-5ae5-45a7-be60-257b21408b2c</td>\n",
       "      <td>1</td>\n",
       "      <td>0.801338</td>\n",
       "      <td>1</td>\n",
       "      <td>80.13</td>\n",
       "    </tr>\n",
       "    <tr>\n",
       "      <th>5092</th>\n",
       "      <td>c0b2646e-c391-4cf9-bd48-007bad57ce70</td>\n",
       "      <td>1</td>\n",
       "      <td>0.800465</td>\n",
       "      <td>1</td>\n",
       "      <td>80.05</td>\n",
       "    </tr>\n",
       "    <tr>\n",
       "      <th>8711</th>\n",
       "      <td>d406181f-9f52-43ee-8458-1963a7859fc1</td>\n",
       "      <td>1</td>\n",
       "      <td>0.800400</td>\n",
       "      <td>1</td>\n",
       "      <td>80.04</td>\n",
       "    </tr>\n",
       "    <tr>\n",
       "      <th>5548</th>\n",
       "      <td>ea134522-e1c3-4f8d-ae57-5df0c619092b</td>\n",
       "      <td>1</td>\n",
       "      <td>0.800074</td>\n",
       "      <td>1</td>\n",
       "      <td>80.01</td>\n",
       "    </tr>\n",
       "  </tbody>\n",
       "</table>\n",
       "<p>1467 rows × 5 columns</p>\n",
       "</div>"
      ],
      "text/plain": [
       "                               Prospect ID  Converted  Probability  Predicted  \\\n",
       "7219  ed62264f-7666-4bf9-9cb6-5b9a825f1e67          1     0.999402          1   \n",
       "2011  d41b76fd-e215-463c-a9be-6dcfc2440e90          1     0.998486          1   \n",
       "2594  597169d6-a4bb-4efb-807b-17b0fd928492          1     0.998145          1   \n",
       "6243  d34b684a-7d92-4f13-abfb-8a507ce0351c          1     0.997573          1   \n",
       "6620  588ddab6-30c5-4153-a3de-28539113bb5d          1     0.997574          1   \n",
       "994   1627d1fe-f39b-4a29-ba9e-ab40ab643d05          1     0.997226          1   \n",
       "2158  90866f3e-deb3-46d3-9c98-188d4f1ffdeb          1     0.997135          1   \n",
       "949   963516d0-1d43-4952-82a5-67de560c4ef0          1     0.997093          1   \n",
       "818   4cb2a48d-e9d2-4845-acb1-baaad08c8c07          1     0.997130          1   \n",
       "739   2ccb407a-1cf0-4231-b15a-7ac8a6ad7f05          1     0.996892          1   \n",
       "3032  5c053839-badf-4681-9dc8-2c65171ebcec          1     0.996905          1   \n",
       "77    895d4905-f534-4f18-915b-8d239a72b5dc          1     0.996752          1   \n",
       "6712  ff292035-b1f0-409e-94f3-a5149d72bf0b          1     0.996698          1   \n",
       "4832  73c742d1-ee5b-4bb6-8a01-bd06b47d3a5e          1     0.996654          1   \n",
       "1614  2a8fcd14-f2f1-4af7-85fd-65215d8d3468          1     0.996534          1   \n",
       "180   db2dc4b5-f603-4818-9b0c-0435923a4cd8          1     0.996481          1   \n",
       "177   3b74e995-4407-44de-9e59-622afb514261          1     0.996398          1   \n",
       "7327  95d1590f-7c47-4f40-9806-388f4472d3a4          1     0.996169          1   \n",
       "1548  f3d5ea5f-2b94-41c8-9521-91a445380ce8          1     0.996128          1   \n",
       "3615  a29b8db4-3e7b-4f1e-a53b-7c038cee88cc          1     0.996123          1   \n",
       "6647  c352fd31-b3b6-4a14-a2bf-14f93add350d          1     0.996054          1   \n",
       "2378  8ff353ab-1207-4608-a8cc-8172ea7c12eb          1     0.995750          1   \n",
       "631   2c95ac86-9b80-4326-944c-9b69278e6745          1     0.995671          1   \n",
       "1046  493f3d95-6e75-4b42-861d-44e77f57f698          1     0.995665          1   \n",
       "1261  542a0891-2e52-40ba-ab42-e468b9636322          1     0.995585          1   \n",
       "1387  30695f85-f772-469d-81c1-282c6f7e8f8b          1     0.995548          1   \n",
       "267   b188ce42-4d14-4a53-80fb-e554ce3959ca          1     0.995443          1   \n",
       "1765  255296b5-8a0c-493f-92ac-01f7c0e9cc7d          1     0.995444          1   \n",
       "4123  82a2328f-d0c8-4c20-8a58-8a05f616d6c0          1     0.995319          1   \n",
       "2163  71df9c8b-3e32-4416-bf69-e100c0203542          1     0.995338          1   \n",
       "...                                    ...        ...          ...        ...   \n",
       "5784  4e50d3ad-ebb2-4943-ac53-6838264b90b6          1     0.806040          1   \n",
       "5812  a6b19be1-840f-4686-aba0-cff92dec24de          1     0.805942          1   \n",
       "4979  d70d7e28-a5f3-4a35-99e6-fd45f32e4f22          1     0.805553          1   \n",
       "2400  98a678b6-3475-466c-8a2e-eab4e269c665          1     0.805423          1   \n",
       "923   059777fc-6c68-45a3-b24c-1fd12fe99460          1     0.805117          1   \n",
       "170   e70118b9-8fc8-4810-b665-3551a60813ef          0     0.805025          1   \n",
       "536   6578585b-fd38-4f36-8bfb-35e531848e63          0     0.804834          1   \n",
       "3085  f2fa959e-c483-4465-b29d-cdeada18dbea          1     0.804708          1   \n",
       "5559  bfc9caf0-56ca-4ce3-81a5-7be14f40e44e          1     0.804474          1   \n",
       "1444  f60428c6-c566-4f2f-8a19-746c76c9260c          1     0.804468          1   \n",
       "8980  aa503b9c-f853-497f-a1cc-97d6b13312d1          1     0.804233          1   \n",
       "7126  7a2a0252-1c30-4692-9810-6b13bbd64929          1     0.804033          1   \n",
       "215   82b11e37-cba7-4757-bd73-0cfa33665dba          1     0.803750          1   \n",
       "2622  c931f77c-851b-4098-b762-07570bdab4d9          1     0.803650          1   \n",
       "7091  ae107016-c7dc-49a2-bd3d-6daa1ad4de1a          1     0.803426          1   \n",
       "1905  3167169d-7a0a-42b6-9e20-7819c81ae5e9          1     0.803219          1   \n",
       "2716  bdbf000f-6b25-4864-a853-655409f78b85          0     0.803218          1   \n",
       "3044  03509345-8a4d-4432-b5a5-49a17f9fdda2          1     0.803097          1   \n",
       "1010  3126fae7-18eb-41c9-96d9-f485806de032          1     0.802657          1   \n",
       "954   3db9d1cc-ee83-4ba4-b73d-60056c6f40ad          1     0.802659          1   \n",
       "1350  ce7249c7-593c-48ca-89d6-99229c92ed27          1     0.802644          1   \n",
       "6898  0ce4b42b-9120-40dc-9828-041ee785d6ee          1     0.802082          1   \n",
       "4926  195b618f-d944-4da2-8eeb-d21842f0c74e          1     0.801997          1   \n",
       "6701  39d2a9e7-deee-4b68-920b-c238a0af9f96          1     0.801869          1   \n",
       "2060  23f7ade4-97d7-4d82-b12a-88a6a9f9a9f9          1     0.801888          1   \n",
       "4224  5546a107-08cf-49e0-bf76-57434c4eb681          1     0.801343          1   \n",
       "3737  eb84b904-5ae5-45a7-be60-257b21408b2c          1     0.801338          1   \n",
       "5092  c0b2646e-c391-4cf9-bd48-007bad57ce70          1     0.800465          1   \n",
       "8711  d406181f-9f52-43ee-8458-1963a7859fc1          1     0.800400          1   \n",
       "5548  ea134522-e1c3-4f8d-ae57-5df0c619092b          1     0.800074          1   \n",
       "\n",
       "      Lead Score  \n",
       "7219       99.94  \n",
       "2011       99.85  \n",
       "2594       99.81  \n",
       "6243       99.76  \n",
       "6620       99.76  \n",
       "994        99.72  \n",
       "2158       99.71  \n",
       "949        99.71  \n",
       "818        99.71  \n",
       "739        99.69  \n",
       "3032       99.69  \n",
       "77         99.68  \n",
       "6712       99.67  \n",
       "4832       99.67  \n",
       "1614       99.65  \n",
       "180        99.65  \n",
       "177        99.64  \n",
       "7327       99.62  \n",
       "1548       99.61  \n",
       "3615       99.61  \n",
       "6647       99.61  \n",
       "2378       99.57  \n",
       "631        99.57  \n",
       "1046       99.57  \n",
       "1261       99.56  \n",
       "1387       99.55  \n",
       "267        99.54  \n",
       "1765       99.54  \n",
       "4123       99.53  \n",
       "2163       99.53  \n",
       "...          ...  \n",
       "5784       80.60  \n",
       "5812       80.59  \n",
       "4979       80.56  \n",
       "2400       80.54  \n",
       "923        80.51  \n",
       "170        80.50  \n",
       "536        80.48  \n",
       "3085       80.47  \n",
       "5559       80.45  \n",
       "1444       80.45  \n",
       "8980       80.42  \n",
       "7126       80.40  \n",
       "215        80.37  \n",
       "2622       80.37  \n",
       "7091       80.34  \n",
       "1905       80.32  \n",
       "2716       80.32  \n",
       "3044       80.31  \n",
       "1010       80.27  \n",
       "954        80.27  \n",
       "1350       80.26  \n",
       "6898       80.21  \n",
       "4926       80.20  \n",
       "6701       80.19  \n",
       "2060       80.19  \n",
       "4224       80.13  \n",
       "3737       80.13  \n",
       "5092       80.05  \n",
       "8711       80.04  \n",
       "5548       80.01  \n",
       "\n",
       "[1467 rows x 5 columns]"
      ]
     },
     "execution_count": 129,
     "metadata": {},
     "output_type": "execute_result"
    }
   ],
   "source": [
    "potential_hot_leads = potential_hot_leads.sort_values(by='Lead Score', ascending=False)\n",
    "potential_hot_leads"
   ]
  },
  {
   "cell_type": "markdown",
   "metadata": {},
   "source": [
    "- #### *These are the potential Hot leads.*"
   ]
  },
  {
   "cell_type": "code",
   "execution_count": null,
   "metadata": {},
   "outputs": [],
   "source": []
  },
  {
   "cell_type": "code",
   "execution_count": null,
   "metadata": {},
   "outputs": [],
   "source": []
  },
  {
   "cell_type": "code",
   "execution_count": null,
   "metadata": {},
   "outputs": [],
   "source": []
  },
  {
   "cell_type": "code",
   "execution_count": null,
   "metadata": {},
   "outputs": [],
   "source": []
  }
 ],
 "metadata": {
  "kernelspec": {
   "display_name": "Python 3",
   "language": "python",
   "name": "python3"
  },
  "language_info": {
   "codemirror_mode": {
    "name": "ipython",
    "version": 3
   },
   "file_extension": ".py",
   "mimetype": "text/x-python",
   "name": "python",
   "nbconvert_exporter": "python",
   "pygments_lexer": "ipython3",
   "version": "3.7.1"
  }
 },
 "nbformat": 4,
 "nbformat_minor": 2
}
